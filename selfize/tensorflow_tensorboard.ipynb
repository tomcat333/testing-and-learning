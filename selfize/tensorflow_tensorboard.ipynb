{
 "cells": [
  {
   "cell_type": "code",
   "execution_count": 1,
   "metadata": {},
   "outputs": [],
   "source": [
    "import numpy as np\n",
    "import tensorflow as tf"
   ]
  },
  {
   "cell_type": "code",
   "execution_count": 2,
   "metadata": {},
   "outputs": [],
   "source": [
    "import matplotlib.pyplot as plt"
   ]
  },
  {
   "cell_type": "code",
   "execution_count": 3,
   "metadata": {},
   "outputs": [],
   "source": [
    "def add_layer(input_data,input_size,output_size,active_function=None):\n",
    "    with tf.name_scope('weights'):\n",
    "        weights=tf.Variable(tf.random_normal([input_size,output_size]),name='w')\n",
    "    with tf.name_scope('biases'):\n",
    "        biases=tf.Variable(tf.random_normal([1,output_size]),name='b')\n",
    "    if active_function==None:\n",
    "        output_data=tf.matmul(input_data,weights)+biases\n",
    "    else:\n",
    "        output_data=active_function(tf.matmul(input_data,weights)+biases)\n",
    "    return output_data"
   ]
  },
  {
   "cell_type": "code",
   "execution_count": 4,
   "metadata": {},
   "outputs": [],
   "source": [
    "x_data=np.linspace(0,np.pi,400)[:,np.newaxis]\n",
    "noise=np.random.normal(0,0.05,x_data.shape)\n",
    "y_data=3*np.sin(x_data)+0.5+noise"
   ]
  },
  {
   "cell_type": "code",
   "execution_count": 5,
   "metadata": {},
   "outputs": [],
   "source": [
    "with tf.name_scope('inputs'):\n",
    "    xs=tf.placeholder(tf.float32,[None,1],name='x_input')\n",
    "    ys=tf.placeholder(tf.float32,[None,1],name='y_input')"
   ]
  },
  {
   "cell_type": "code",
   "execution_count": 6,
   "metadata": {},
   "outputs": [],
   "source": [
    "layer1=add_layer(xs,1,10,active_function=tf.nn.relu)\n",
    "layer2=add_layer(layer1,10,1,active_function=tf.nn.relu)"
   ]
  },
  {
   "cell_type": "code",
   "execution_count": 7,
   "metadata": {},
   "outputs": [],
   "source": [
    "with tf.name_scope('loss'):\n",
    "    diff=tf.reduce_mean(tf.reduce_sum(tf.square(layer2-ys),reduction_indices=[1]))"
   ]
  },
  {
   "cell_type": "code",
   "execution_count": 8,
   "metadata": {},
   "outputs": [],
   "source": [
    "with tf.name_scope('train'):\n",
    "    optimizer=tf.train.GradientDescentOptimizer(0.02).minimize(diff)"
   ]
  },
  {
   "cell_type": "code",
   "execution_count": 9,
   "metadata": {},
   "outputs": [],
   "source": [
    "sess=tf.Session()"
   ]
  },
  {
   "cell_type": "code",
   "execution_count": 10,
   "metadata": {
    "scrolled": true
   },
   "outputs": [
    {
     "name": "stdout",
     "output_type": "stream",
     "text": [
      "WARNING:tensorflow:From c:\\users\\dell\\appdata\\local\\programs\\python\\python36\\lib\\site-packages\\tensorflow\\python\\util\\tf_should_use.py:118: initialize_all_variables (from tensorflow.python.ops.variables) is deprecated and will be removed after 2017-03-02.\n",
      "Instructions for updating:\n",
      "Use `tf.global_variables_initializer` instead.\n"
     ]
    }
   ],
   "source": [
    "sess.run(tf.initialize_all_variables())\n",
    "writer=tf.summary.FileWriter('logs/',sess.graph)"
   ]
  },
  {
   "cell_type": "code",
   "execution_count": 11,
   "metadata": {},
   "outputs": [
    {
     "name": "stdout",
     "output_type": "stream",
     "text": [
      "0 6.4146852\n",
      "500 0.05125879\n",
      "1000 0.013923819\n",
      "1500 0.009280679\n",
      "2000 0.008346529\n",
      "2500 0.008008807\n",
      "3000 0.0077988287\n",
      "3500 0.0076236827\n",
      "4000 0.007478793\n",
      "4500 0.0073735835\n",
      "5000 0.007278643\n",
      "5500 0.0071989144\n",
      "6000 0.007129841\n",
      "6500 0.0070562507\n",
      "7000 0.006995834\n",
      "7500 0.0069319475\n",
      "8000 0.006876492\n",
      "8500 0.0068271672\n",
      "9000 0.0067888363\n",
      "9500 0.0067504793\n",
      "10000 0.006720489\n",
      "10500 0.0066892873\n",
      "11000 0.0066543748\n",
      "11500 0.0066250884\n",
      "12000 0.0065999837\n",
      "12500 0.0065741334\n",
      "13000 0.006551397\n",
      "13500 0.006524437\n",
      "14000 0.006502322\n",
      "14500 0.00648137\n",
      "15000 0.0064534605\n",
      "15500 0.0064324904\n",
      "16000 0.006411755\n",
      "16500 0.0063880696\n",
      "17000 0.006367105\n",
      "17500 0.0063356115\n",
      "18000 0.0063106744\n",
      "18500 0.006282811\n",
      "19000 0.006258503\n",
      "19500 0.006225945\n",
      "20000 0.0061937533\n",
      "20500 0.0061594825\n",
      "21000 0.006132475\n",
      "21500 0.0060934387\n",
      "22000 0.0060538924\n",
      "22500 0.006012937\n",
      "23000 0.0059704203\n",
      "23500 0.005916033\n",
      "24000 0.0058656614\n",
      "24500 0.005811641\n",
      "25000 0.0057576774\n",
      "25500 0.0056926366\n",
      "26000 0.005623491\n",
      "26500 0.0055452413\n",
      "27000 0.005467774\n",
      "27500 0.00540242\n",
      "28000 0.0053331493\n",
      "28500 0.005269687\n",
      "29000 0.005211361\n",
      "29500 0.0051544546\n",
      "30000 0.005099788\n",
      "30500 0.0050469125\n",
      "31000 0.0049929754\n",
      "31500 0.0049381447\n",
      "32000 0.0048734252\n",
      "32500 0.0048007136\n",
      "33000 0.004737152\n",
      "33500 0.0046764133\n",
      "34000 0.004618203\n",
      "34500 0.004563519\n",
      "35000 0.0045174095\n",
      "35500 0.004478861\n",
      "36000 0.004444382\n",
      "36500 0.0044112215\n",
      "37000 0.004381301\n",
      "37500 0.0043501663\n",
      "38000 0.0043223547\n",
      "38500 0.004294087\n",
      "39000 0.0042714286\n",
      "39500 0.004253126\n",
      "40000 0.00423813\n",
      "40500 0.004225806\n",
      "41000 0.00421534\n",
      "41500 0.004205603\n",
      "42000 0.004195451\n",
      "42500 0.004188341\n",
      "43000 0.0041825813\n",
      "43500 0.004176947\n",
      "44000 0.0041710273\n",
      "44500 0.0041663707\n",
      "45000 0.004162625\n",
      "45500 0.0041595907\n",
      "46000 0.0041569937\n",
      "46500 0.004153276\n",
      "47000 0.0041498058\n",
      "47500 0.0041471464\n",
      "48000 0.004145044\n",
      "48500 0.0041433554\n",
      "49000 0.0041419878\n",
      "49500 0.0041408874\n",
      "50000 0.004139989\n"
     ]
    }
   ],
   "source": [
    "for i in range(50001):                                       ###这个计算还不是每一次都能学习成功，大多时候都是学习失败，layer2是一条水平直线\n",
    "    sess.run(optimizer,feed_dict={xs:x_data,ys:y_data})\n",
    "    if i%500==0:\n",
    "        print(i,sess.run(diff,feed_dict={xs:x_data,ys:y_data}))"
   ]
  },
  {
   "cell_type": "code",
   "execution_count": 12,
   "metadata": {},
   "outputs": [
    {
     "data": {
      "text/plain": [
       "<Figure size 432x288 with 0 Axes>"
      ]
     },
     "metadata": {},
     "output_type": "display_data"
    }
   ],
   "source": [
    "fig=plt.figure()"
   ]
  },
  {
   "cell_type": "code",
   "execution_count": 13,
   "metadata": {},
   "outputs": [
    {
     "data": {
      "text/plain": [
       "[<matplotlib.lines.Line2D at 0x225577fcba8>]"
      ]
     },
     "execution_count": 13,
     "metadata": {},
     "output_type": "execute_result"
    },
    {
     "data": {
      "image/png": "[encoded data removed]",
      "text/plain": [
       "<Figure size 432x288 with 1 Axes>"
      ]
     },
     "metadata": {},
     "output_type": "display_data"
    }
   ],
   "source": [
    "plt.scatter(x_data,y_data,c=\"r\")\n",
    "plt.plot(x_data,sess.run(layer2,feed_dict={xs:x_data,ys:y_data}))"
   ]
  },
  {
   "cell_type": "code",
   "execution_count": 14,
   "metadata": {},
   "outputs": [
    {
     "data": {
      "text/plain": [
       "'C:\\\\Users\\\\DELL\\\\testing and learning\\\\selfize'"
      ]
     },
     "execution_count": 14,
     "metadata": {},
     "output_type": "execute_result"
    }
   ],
   "source": [
    "pwd"
   ]
  },
  {
   "cell_type": "code",
   "execution_count": null,
   "metadata": {},
   "outputs": [],
   "source": []
  }
 ],
 "metadata": {
  "kernelspec": {
   "display_name": "Python 3",
   "language": "python",
   "name": "python3"
  },
  "language_info": {
   "codemirror_mode": {
    "name": "ipython",
    "version": 3
   },
   "file_extension": ".py",
   "mimetype": "text/x-python",
   "name": "python",
   "nbconvert_exporter": "python",
   "pygments_lexer": "ipython3",
   "version": "3.6.4"
  }
 },
 "nbformat": 4,
 "nbformat_minor": 2
}
