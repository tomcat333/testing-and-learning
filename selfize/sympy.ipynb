{
 "cells": [
  {
   "cell_type": "code",
   "execution_count": 1,
   "metadata": {},
   "outputs": [],
   "source": [
    "import numpy as np"
   ]
  },
  {
   "cell_type": "code",
   "execution_count": 2,
   "metadata": {},
   "outputs": [],
   "source": [
    "from sympy import *"
   ]
  },
  {
   "cell_type": "code",
   "execution_count": 38,
   "metadata": {},
   "outputs": [],
   "source": [
    "x=Symbol('x')"
   ]
  },
  {
   "cell_type": "code",
   "execution_count": 6,
   "metadata": {},
   "outputs": [
    {
     "data": {
      "text/plain": [
       "1 + x**2/2 + 5*x**4/24 + 61*x**6/720 + 277*x**8/8064 + O(x**10)"
      ]
     },
     "execution_count": 6,
     "metadata": {},
     "output_type": "execute_result"
    }
   ],
   "source": [
    "(1/cos(x)).series(x,0,10)"
   ]
  },
  {
   "cell_type": "code",
   "execution_count": 7,
   "metadata": {},
   "outputs": [
    {
     "data": {
      "text/plain": [
       "1/cos(1) + (x - 1)*sin(1)/cos(1)**2 + (x - 1)**2*(1/(2*cos(1)) + sin(1)**2/cos(1)**3) + (x - 1)**3*(5*sin(1)/(6*cos(1)**2) + sin(1)**3/cos(1)**4) + (x - 1)**4*(5/(24*cos(1)) + 7*sin(1)**2/(6*cos(1)**3) + sin(1)**4/cos(1)**5) + (x - 1)**5*(61*sin(1)/(120*cos(1)**2) + 3*sin(1)**3/(2*cos(1)**4) + sin(1)**5/cos(1)**6) + (x - 1)**6*(61/(720*cos(1)) + 331*sin(1)**2/(360*cos(1)**3) + 11*sin(1)**4/(6*cos(1)**5) + sin(1)**6/cos(1)**7) + (x - 1)**7*(277*sin(1)/(1008*cos(1)**2) + 173*sin(1)**3/(120*cos(1)**4) + 13*sin(1)**5/(6*cos(1)**6) + sin(1)**7/cos(1)**8) + (x - 1)**8*(277/(8064*cos(1)) + 3071*sin(1)**2/(5040*cos(1)**3) + 83*sin(1)**4/(40*cos(1)**5) + sin(1)**8/cos(1)**9 + 5*sin(1)**6/(2*cos(1)**7)) + (x - 1)**9*(50521*sin(1)/(362880*cos(1)**2) + 3403*sin(1)**3/(3024*cos(1)**4) + 203*sin(1)**5/(72*cos(1)**6) + sin(1)**9/cos(1)**10 + 17*sin(1)**7/(6*cos(1)**8)) + O((x - 1)**10, (x, 1))"
      ]
     },
     "execution_count": 7,
     "metadata": {},
     "output_type": "execute_result"
    }
   ],
   "source": [
    "(1/cos(x)).series(x,1,10)"
   ]
  },
  {
   "cell_type": "code",
   "execution_count": 8,
   "metadata": {},
   "outputs": [
    {
     "name": "stdout",
     "output_type": "stream",
     "text": [
      "                                   ⎛              2   ⎞            ⎛          \n",
      "  1      (x - 1)⋅sin(1)          2 ⎜   1       sin (1)⎟          3 ⎜ 5⋅sin(1) \n",
      "────── + ────────────── + (x - 1) ⋅⎜──────── + ───────⎟ + (x - 1) ⋅⎜───────── \n",
      "cos(1)         2                   ⎜2⋅cos(1)      3   ⎟            ⎜     2    \n",
      "            cos (1)                ⎝           cos (1)⎠            ⎝6⋅cos (1) \n",
      "\n",
      "     3   ⎞            ⎛                 2         4   ⎞            ⎛          \n",
      "  sin (1)⎟          4 ⎜    5       7⋅sin (1)   sin (1)⎟          5 ⎜ 61⋅sin(1)\n",
      "+ ───────⎟ + (x - 1) ⋅⎜───────── + ───────── + ───────⎟ + (x - 1) ⋅⎜──────────\n",
      "     4   ⎟            ⎜24⋅cos(1)        3         5   ⎟            ⎜       2  \n",
      "  cos (1)⎠            ⎝            6⋅cos (1)   cos (1)⎠            ⎝120⋅cos (1\n",
      "\n",
      "         3         5   ⎞            ⎛                    2            4       \n",
      "    3⋅sin (1)   sin (1)⎟          6 ⎜    61       331⋅sin (1)   11⋅sin (1)   s\n",
      "─ + ───────── + ───────⎟ + (x - 1) ⋅⎜────────── + ─────────── + ────────── + ─\n",
      "         4         6   ⎟            ⎜720⋅cos(1)          3           5        \n",
      ")   2⋅cos (1)   cos (1)⎠            ⎝             360⋅cos (1)   6⋅cos (1)    c\n",
      "\n",
      "  6   ⎞            ⎛                      3            5         7   ⎞        \n",
      "in (1)⎟          7 ⎜ 277⋅sin(1)    173⋅sin (1)   13⋅sin (1)   sin (1)⎟        \n",
      "──────⎟ + (x - 1) ⋅⎜──────────── + ─────────── + ────────── + ───────⎟ + (x - \n",
      "  7   ⎟            ⎜        2             4           6          8   ⎟        \n",
      "os (1)⎠            ⎝1008⋅cos (1)   120⋅cos (1)   6⋅cos (1)    cos (1)⎠        \n",
      "\n",
      "    ⎛                      2            4         8           6   ⎞           \n",
      "  8 ⎜    277       3071⋅sin (1)   83⋅sin (1)   sin (1)   5⋅sin (1)⎟          9\n",
      "1) ⋅⎜─────────── + ──────────── + ────────── + ─────── + ─────────⎟ + (x - 1) \n",
      "    ⎜8064⋅cos(1)           3            5         9           7   ⎟           \n",
      "    ⎝              5040⋅cos (1)   40⋅cos (1)   cos (1)   2⋅cos (1)⎠           \n",
      "\n",
      " ⎛                         3             5         9             7   ⎞        \n",
      " ⎜ 50521⋅sin(1)    3403⋅sin (1)   203⋅sin (1)   sin (1)    17⋅sin (1)⎟    ⎛   \n",
      "⋅⎜────────────── + ──────────── + ─────────── + ──────── + ──────────⎟ + O⎝(x \n",
      " ⎜          2              4             6         10           8    ⎟        \n",
      " ⎝362880⋅cos (1)   3024⋅cos (1)    72⋅cos (1)   cos  (1)   6⋅cos (1) ⎠        \n",
      "\n",
      "              \n",
      "    10       ⎞\n",
      "- 1)  ; x → 1⎠\n",
      "              \n",
      "              \n"
     ]
    }
   ],
   "source": [
    "pprint((1/cos(x)).series(x,1,10))"
   ]
  },
  {
   "cell_type": "code",
   "execution_count": 9,
   "metadata": {},
   "outputs": [],
   "source": [
    "a=Rational(1,2)"
   ]
  },
  {
   "cell_type": "code",
   "execution_count": 10,
   "metadata": {},
   "outputs": [
    {
     "data": {
      "text/plain": [
       "1/2"
      ]
     },
     "execution_count": 10,
     "metadata": {},
     "output_type": "execute_result"
    }
   ],
   "source": [
    "a"
   ]
  },
  {
   "cell_type": "code",
   "execution_count": 11,
   "metadata": {},
   "outputs": [
    {
     "data": {
      "text/plain": [
       "4"
      ]
     },
     "execution_count": 11,
     "metadata": {},
     "output_type": "execute_result"
    }
   ],
   "source": [
    "Rational(2)**2"
   ]
  },
  {
   "cell_type": "code",
   "execution_count": 12,
   "metadata": {},
   "outputs": [
    {
     "data": {
      "text/plain": [
       "1/88817841970012523233890533447265625"
      ]
     },
     "execution_count": 12,
     "metadata": {},
     "output_type": "execute_result"
    }
   ],
   "source": [
    "Rational(2)**50/Rational(10)**50"
   ]
  },
  {
   "cell_type": "code",
   "execution_count": 13,
   "metadata": {},
   "outputs": [
    {
     "data": {
      "text/plain": [
       "1125899906842624"
      ]
     },
     "execution_count": 13,
     "metadata": {},
     "output_type": "execute_result"
    }
   ],
   "source": [
    "Rational(2)**50"
   ]
  },
  {
   "cell_type": "code",
   "execution_count": 14,
   "metadata": {},
   "outputs": [
    {
     "data": {
      "text/plain": [
       "100000000000000000000000000000000000000000000000000"
      ]
     },
     "execution_count": 14,
     "metadata": {},
     "output_type": "execute_result"
    }
   ],
   "source": [
    "Rational(10)**50"
   ]
  },
  {
   "cell_type": "code",
   "execution_count": 15,
   "metadata": {},
   "outputs": [
    {
     "data": {
      "text/plain": [
       "88817841970012523233890533447265625"
      ]
     },
     "execution_count": 15,
     "metadata": {},
     "output_type": "execute_result"
    }
   ],
   "source": [
    "Rational(5)**50"
   ]
  },
  {
   "cell_type": "code",
   "execution_count": 17,
   "metadata": {},
   "outputs": [
    {
     "data": {
      "text/plain": [
       "2*pi"
      ]
     },
     "execution_count": 17,
     "metadata": {},
     "output_type": "execute_result"
    }
   ],
   "source": [
    "pi*2"
   ]
  },
  {
   "cell_type": "code",
   "execution_count": 19,
   "metadata": {},
   "outputs": [
    {
     "data": {
      "text/plain": [
       "3.14159265358979"
      ]
     },
     "execution_count": 19,
     "metadata": {},
     "output_type": "execute_result"
    }
   ],
   "source": [
    "pi.evalf()"
   ]
  },
  {
   "cell_type": "code",
   "execution_count": 21,
   "metadata": {},
   "outputs": [
    {
     "data": {
      "text/plain": [
       "6.28318530717959"
      ]
     },
     "execution_count": 21,
     "metadata": {},
     "output_type": "execute_result"
    }
   ],
   "source": [
    "a=pi*2\n",
    "a.evalf()"
   ]
  },
  {
   "cell_type": "code",
   "execution_count": 18,
   "metadata": {},
   "outputs": [
    {
     "data": {
      "text/plain": [
       "3*E"
      ]
     },
     "execution_count": 18,
     "metadata": {},
     "output_type": "execute_result"
    }
   ],
   "source": [
    "E*3"
   ]
  },
  {
   "cell_type": "code",
   "execution_count": 22,
   "metadata": {},
   "outputs": [
    {
     "data": {
      "text/plain": [
       "2.71828182845905"
      ]
     },
     "execution_count": 22,
     "metadata": {},
     "output_type": "execute_result"
    }
   ],
   "source": [
    "E.evalf()"
   ]
  },
  {
   "cell_type": "code",
   "execution_count": 23,
   "metadata": {},
   "outputs": [
    {
     "data": {
      "text/plain": [
       "True"
      ]
     },
     "execution_count": 23,
     "metadata": {},
     "output_type": "execute_result"
    }
   ],
   "source": [
    "oo>99"
   ]
  },
  {
   "cell_type": "code",
   "execution_count": 24,
   "metadata": {},
   "outputs": [
    {
     "data": {
      "text/plain": [
       "False"
      ]
     },
     "execution_count": 24,
     "metadata": {},
     "output_type": "execute_result"
    }
   ],
   "source": [
    "-oo>99"
   ]
  },
  {
   "cell_type": "code",
   "execution_count": 30,
   "metadata": {},
   "outputs": [],
   "source": [
    "a,b,c=symbols('a,b,c')"
   ]
  },
  {
   "cell_type": "code",
   "execution_count": 31,
   "metadata": {},
   "outputs": [
    {
     "data": {
      "text/plain": [
       "(g, h, i)"
      ]
     },
     "execution_count": 31,
     "metadata": {},
     "output_type": "execute_result"
    }
   ],
   "source": [
    "var('g:i')"
   ]
  },
  {
   "cell_type": "code",
   "execution_count": 32,
   "metadata": {},
   "outputs": [
    {
     "data": {
      "text/plain": [
       "(g0, g1, g2)"
      ]
     },
     "execution_count": 32,
     "metadata": {},
     "output_type": "execute_result"
    }
   ],
   "source": [
    "var('g:3')"
   ]
  },
  {
   "cell_type": "code",
   "execution_count": 33,
   "metadata": {},
   "outputs": [
    {
     "data": {
      "text/plain": [
       "(a + b)**2"
      ]
     },
     "execution_count": 33,
     "metadata": {},
     "output_type": "execute_result"
    }
   ],
   "source": [
    "(a+b)**2"
   ]
  },
  {
   "cell_type": "code",
   "execution_count": 35,
   "metadata": {},
   "outputs": [
    {
     "data": {
      "text/plain": [
       "a**2 + 2*a*b + b**2"
      ]
     },
     "execution_count": 35,
     "metadata": {},
     "output_type": "execute_result"
    }
   ],
   "source": [
    "((a+b)**2).expand()"
   ]
  },
  {
   "cell_type": "code",
   "execution_count": 36,
   "metadata": {},
   "outputs": [
    {
     "data": {
      "text/plain": [
       "(b + 1)**2"
      ]
     },
     "execution_count": 36,
     "metadata": {},
     "output_type": "execute_result"
    }
   ],
   "source": [
    "((a+b)**2).subs(a,1)"
   ]
  },
  {
   "cell_type": "code",
   "execution_count": 37,
   "metadata": {},
   "outputs": [
    {
     "data": {
      "text/plain": [
       "4"
      ]
     },
     "execution_count": 37,
     "metadata": {},
     "output_type": "execute_result"
    }
   ],
   "source": [
    "((a+1)**2).subs(a,1)"
   ]
  },
  {
   "cell_type": "code",
   "execution_count": 44,
   "metadata": {},
   "outputs": [
    {
     "data": {
      "text/plain": [
       "(a + b)**2"
      ]
     },
     "execution_count": 44,
     "metadata": {},
     "output_type": "execute_result"
    }
   ],
   "source": [
    "((a+b)**2).subs((a,1),(b,1))"
   ]
  },
  {
   "cell_type": "code",
   "execution_count": null,
   "metadata": {},
   "outputs": [],
   "source": []
  }
 ],
 "metadata": {
  "kernelspec": {
   "display_name": "Python 3",
   "language": "python",
   "name": "python3"
  },
  "language_info": {
   "codemirror_mode": {
    "name": "ipython",
    "version": 3
   },
   "file_extension": ".py",
   "mimetype": "text/x-python",
   "name": "python",
   "nbconvert_exporter": "python",
   "pygments_lexer": "ipython3",
   "version": "3.6.4"
  }
 },
 "nbformat": 4,
 "nbformat_minor": 2
}
