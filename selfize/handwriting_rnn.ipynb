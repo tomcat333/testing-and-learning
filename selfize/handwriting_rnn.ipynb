{
 "cells": [
  {
   "cell_type": "code",
   "execution_count": 1,
   "metadata": {},
   "outputs": [],
   "source": [
    "import copy"
   ]
  },
  {
   "cell_type": "code",
   "execution_count": 2,
   "metadata": {},
   "outputs": [],
   "source": [
    "import numpy as np"
   ]
  },
  {
   "cell_type": "code",
   "execution_count": 3,
   "metadata": {},
   "outputs": [],
   "source": [
    "np.random.seed(0)"
   ]
  },
  {
   "cell_type": "code",
   "execution_count": 4,
   "metadata": {},
   "outputs": [],
   "source": [
    "def sigmoid(x):\n",
    "    output=1/(1+np.exp(-x))\n",
    "    return output"
   ]
  },
  {
   "cell_type": "code",
   "execution_count": 39,
   "metadata": {},
   "outputs": [],
   "source": [
    "def sigmoid_output_to_derivative(output):\n",
    "    return output*(1-output)"
   ]
  },
  {
   "cell_type": "code",
   "execution_count": 6,
   "metadata": {},
   "outputs": [],
   "source": [
    "int2binary={}"
   ]
  },
  {
   "cell_type": "code",
   "execution_count": 7,
   "metadata": {},
   "outputs": [],
   "source": [
    "binary_dim=8"
   ]
  },
  {
   "cell_type": "code",
   "execution_count": 9,
   "metadata": {},
   "outputs": [
    {
     "data": {
      "text/plain": [
       "256"
      ]
     },
     "execution_count": 9,
     "metadata": {},
     "output_type": "execute_result"
    }
   ],
   "source": [
    "largest_number=pow(2,binary_dim)\n",
    "largest_number"
   ]
  },
  {
   "cell_type": "code",
   "execution_count": 11,
   "metadata": {
    "scrolled": true
   },
   "outputs": [
    {
     "data": {
      "text/plain": [
       "(array([[0, 0, 0, ..., 0, 0, 0],\n",
       "        [0, 0, 0, ..., 0, 0, 1],\n",
       "        [0, 0, 0, ..., 0, 1, 0],\n",
       "        ...,\n",
       "        [1, 1, 1, ..., 1, 0, 1],\n",
       "        [1, 1, 1, ..., 1, 1, 0],\n",
       "        [1, 1, 1, ..., 1, 1, 1]], dtype=uint8), (256, 8))"
      ]
     },
     "execution_count": 11,
     "metadata": {},
     "output_type": "execute_result"
    }
   ],
   "source": [
    "binary=np.unpackbits(np.array([range(largest_number)],dtype=np.uint8).T,axis=1)\n",
    "binary,binary.shape"
   ]
  },
  {
   "cell_type": "code",
   "execution_count": 12,
   "metadata": {},
   "outputs": [],
   "source": [
    "for i in range(largest_number):\n",
    "    int2binary[i]=binary[i]"
   ]
  },
  {
   "cell_type": "code",
   "execution_count": 19,
   "metadata": {},
   "outputs": [
    {
     "data": {
      "text/plain": [
       "256"
      ]
     },
     "execution_count": 19,
     "metadata": {},
     "output_type": "execute_result"
    }
   ],
   "source": [
    "len(int2binary)"
   ]
  },
  {
   "cell_type": "code",
   "execution_count": 15,
   "metadata": {},
   "outputs": [
    {
     "data": {
      "text/plain": [
       "array([0, 0, 0, 0, 0, 0, 1, 0], dtype=uint8)"
      ]
     },
     "execution_count": 15,
     "metadata": {},
     "output_type": "execute_result"
    }
   ],
   "source": [
    "int2binary[2]"
   ]
  },
  {
   "cell_type": "code",
   "execution_count": 16,
   "metadata": {},
   "outputs": [
    {
     "data": {
      "text/plain": [
       "array([0, 0, 0, 0, 0, 0, 1, 0], dtype=uint8)"
      ]
     },
     "execution_count": 16,
     "metadata": {},
     "output_type": "execute_result"
    }
   ],
   "source": [
    "binary[2]"
   ]
  },
  {
   "cell_type": "code",
   "execution_count": 17,
   "metadata": {
    "collapsed": true
   },
   "outputs": [
    {
     "data": {
      "text/plain": [
       "{0: array([0, 0, 0, 0, 0, 0, 0, 0], dtype=uint8),\n",
       " 1: array([0, 0, 0, 0, 0, 0, 0, 1], dtype=uint8),\n",
       " 2: array([0, 0, 0, 0, 0, 0, 1, 0], dtype=uint8),\n",
       " 3: array([0, 0, 0, 0, 0, 0, 1, 1], dtype=uint8),\n",
       " 4: array([0, 0, 0, 0, 0, 1, 0, 0], dtype=uint8),\n",
       " 5: array([0, 0, 0, 0, 0, 1, 0, 1], dtype=uint8),\n",
       " 6: array([0, 0, 0, 0, 0, 1, 1, 0], dtype=uint8),\n",
       " 7: array([0, 0, 0, 0, 0, 1, 1, 1], dtype=uint8),\n",
       " 8: array([0, 0, 0, 0, 1, 0, 0, 0], dtype=uint8),\n",
       " 9: array([0, 0, 0, 0, 1, 0, 0, 1], dtype=uint8),\n",
       " 10: array([0, 0, 0, 0, 1, 0, 1, 0], dtype=uint8),\n",
       " 11: array([0, 0, 0, 0, 1, 0, 1, 1], dtype=uint8),\n",
       " 12: array([0, 0, 0, 0, 1, 1, 0, 0], dtype=uint8),\n",
       " 13: array([0, 0, 0, 0, 1, 1, 0, 1], dtype=uint8),\n",
       " 14: array([0, 0, 0, 0, 1, 1, 1, 0], dtype=uint8),\n",
       " 15: array([0, 0, 0, 0, 1, 1, 1, 1], dtype=uint8),\n",
       " 16: array([0, 0, 0, 1, 0, 0, 0, 0], dtype=uint8),\n",
       " 17: array([0, 0, 0, 1, 0, 0, 0, 1], dtype=uint8),\n",
       " 18: array([0, 0, 0, 1, 0, 0, 1, 0], dtype=uint8),\n",
       " 19: array([0, 0, 0, 1, 0, 0, 1, 1], dtype=uint8),\n",
       " 20: array([0, 0, 0, 1, 0, 1, 0, 0], dtype=uint8),\n",
       " 21: array([0, 0, 0, 1, 0, 1, 0, 1], dtype=uint8),\n",
       " 22: array([0, 0, 0, 1, 0, 1, 1, 0], dtype=uint8),\n",
       " 23: array([0, 0, 0, 1, 0, 1, 1, 1], dtype=uint8),\n",
       " 24: array([0, 0, 0, 1, 1, 0, 0, 0], dtype=uint8),\n",
       " 25: array([0, 0, 0, 1, 1, 0, 0, 1], dtype=uint8),\n",
       " 26: array([0, 0, 0, 1, 1, 0, 1, 0], dtype=uint8),\n",
       " 27: array([0, 0, 0, 1, 1, 0, 1, 1], dtype=uint8),\n",
       " 28: array([0, 0, 0, 1, 1, 1, 0, 0], dtype=uint8),\n",
       " 29: array([0, 0, 0, 1, 1, 1, 0, 1], dtype=uint8),\n",
       " 30: array([0, 0, 0, 1, 1, 1, 1, 0], dtype=uint8),\n",
       " 31: array([0, 0, 0, 1, 1, 1, 1, 1], dtype=uint8),\n",
       " 32: array([0, 0, 1, 0, 0, 0, 0, 0], dtype=uint8),\n",
       " 33: array([0, 0, 1, 0, 0, 0, 0, 1], dtype=uint8),\n",
       " 34: array([0, 0, 1, 0, 0, 0, 1, 0], dtype=uint8),\n",
       " 35: array([0, 0, 1, 0, 0, 0, 1, 1], dtype=uint8),\n",
       " 36: array([0, 0, 1, 0, 0, 1, 0, 0], dtype=uint8),\n",
       " 37: array([0, 0, 1, 0, 0, 1, 0, 1], dtype=uint8),\n",
       " 38: array([0, 0, 1, 0, 0, 1, 1, 0], dtype=uint8),\n",
       " 39: array([0, 0, 1, 0, 0, 1, 1, 1], dtype=uint8),\n",
       " 40: array([0, 0, 1, 0, 1, 0, 0, 0], dtype=uint8),\n",
       " 41: array([0, 0, 1, 0, 1, 0, 0, 1], dtype=uint8),\n",
       " 42: array([0, 0, 1, 0, 1, 0, 1, 0], dtype=uint8),\n",
       " 43: array([0, 0, 1, 0, 1, 0, 1, 1], dtype=uint8),\n",
       " 44: array([0, 0, 1, 0, 1, 1, 0, 0], dtype=uint8),\n",
       " 45: array([0, 0, 1, 0, 1, 1, 0, 1], dtype=uint8),\n",
       " 46: array([0, 0, 1, 0, 1, 1, 1, 0], dtype=uint8),\n",
       " 47: array([0, 0, 1, 0, 1, 1, 1, 1], dtype=uint8),\n",
       " 48: array([0, 0, 1, 1, 0, 0, 0, 0], dtype=uint8),\n",
       " 49: array([0, 0, 1, 1, 0, 0, 0, 1], dtype=uint8),\n",
       " 50: array([0, 0, 1, 1, 0, 0, 1, 0], dtype=uint8),\n",
       " 51: array([0, 0, 1, 1, 0, 0, 1, 1], dtype=uint8),\n",
       " 52: array([0, 0, 1, 1, 0, 1, 0, 0], dtype=uint8),\n",
       " 53: array([0, 0, 1, 1, 0, 1, 0, 1], dtype=uint8),\n",
       " 54: array([0, 0, 1, 1, 0, 1, 1, 0], dtype=uint8),\n",
       " 55: array([0, 0, 1, 1, 0, 1, 1, 1], dtype=uint8),\n",
       " 56: array([0, 0, 1, 1, 1, 0, 0, 0], dtype=uint8),\n",
       " 57: array([0, 0, 1, 1, 1, 0, 0, 1], dtype=uint8),\n",
       " 58: array([0, 0, 1, 1, 1, 0, 1, 0], dtype=uint8),\n",
       " 59: array([0, 0, 1, 1, 1, 0, 1, 1], dtype=uint8),\n",
       " 60: array([0, 0, 1, 1, 1, 1, 0, 0], dtype=uint8),\n",
       " 61: array([0, 0, 1, 1, 1, 1, 0, 1], dtype=uint8),\n",
       " 62: array([0, 0, 1, 1, 1, 1, 1, 0], dtype=uint8),\n",
       " 63: array([0, 0, 1, 1, 1, 1, 1, 1], dtype=uint8),\n",
       " 64: array([0, 1, 0, 0, 0, 0, 0, 0], dtype=uint8),\n",
       " 65: array([0, 1, 0, 0, 0, 0, 0, 1], dtype=uint8),\n",
       " 66: array([0, 1, 0, 0, 0, 0, 1, 0], dtype=uint8),\n",
       " 67: array([0, 1, 0, 0, 0, 0, 1, 1], dtype=uint8),\n",
       " 68: array([0, 1, 0, 0, 0, 1, 0, 0], dtype=uint8),\n",
       " 69: array([0, 1, 0, 0, 0, 1, 0, 1], dtype=uint8),\n",
       " 70: array([0, 1, 0, 0, 0, 1, 1, 0], dtype=uint8),\n",
       " 71: array([0, 1, 0, 0, 0, 1, 1, 1], dtype=uint8),\n",
       " 72: array([0, 1, 0, 0, 1, 0, 0, 0], dtype=uint8),\n",
       " 73: array([0, 1, 0, 0, 1, 0, 0, 1], dtype=uint8),\n",
       " 74: array([0, 1, 0, 0, 1, 0, 1, 0], dtype=uint8),\n",
       " 75: array([0, 1, 0, 0, 1, 0, 1, 1], dtype=uint8),\n",
       " 76: array([0, 1, 0, 0, 1, 1, 0, 0], dtype=uint8),\n",
       " 77: array([0, 1, 0, 0, 1, 1, 0, 1], dtype=uint8),\n",
       " 78: array([0, 1, 0, 0, 1, 1, 1, 0], dtype=uint8),\n",
       " 79: array([0, 1, 0, 0, 1, 1, 1, 1], dtype=uint8),\n",
       " 80: array([0, 1, 0, 1, 0, 0, 0, 0], dtype=uint8),\n",
       " 81: array([0, 1, 0, 1, 0, 0, 0, 1], dtype=uint8),\n",
       " 82: array([0, 1, 0, 1, 0, 0, 1, 0], dtype=uint8),\n",
       " 83: array([0, 1, 0, 1, 0, 0, 1, 1], dtype=uint8),\n",
       " 84: array([0, 1, 0, 1, 0, 1, 0, 0], dtype=uint8),\n",
       " 85: array([0, 1, 0, 1, 0, 1, 0, 1], dtype=uint8),\n",
       " 86: array([0, 1, 0, 1, 0, 1, 1, 0], dtype=uint8),\n",
       " 87: array([0, 1, 0, 1, 0, 1, 1, 1], dtype=uint8),\n",
       " 88: array([0, 1, 0, 1, 1, 0, 0, 0], dtype=uint8),\n",
       " 89: array([0, 1, 0, 1, 1, 0, 0, 1], dtype=uint8),\n",
       " 90: array([0, 1, 0, 1, 1, 0, 1, 0], dtype=uint8),\n",
       " 91: array([0, 1, 0, 1, 1, 0, 1, 1], dtype=uint8),\n",
       " 92: array([0, 1, 0, 1, 1, 1, 0, 0], dtype=uint8),\n",
       " 93: array([0, 1, 0, 1, 1, 1, 0, 1], dtype=uint8),\n",
       " 94: array([0, 1, 0, 1, 1, 1, 1, 0], dtype=uint8),\n",
       " 95: array([0, 1, 0, 1, 1, 1, 1, 1], dtype=uint8),\n",
       " 96: array([0, 1, 1, 0, 0, 0, 0, 0], dtype=uint8),\n",
       " 97: array([0, 1, 1, 0, 0, 0, 0, 1], dtype=uint8),\n",
       " 98: array([0, 1, 1, 0, 0, 0, 1, 0], dtype=uint8),\n",
       " 99: array([0, 1, 1, 0, 0, 0, 1, 1], dtype=uint8),\n",
       " 100: array([0, 1, 1, 0, 0, 1, 0, 0], dtype=uint8),\n",
       " 101: array([0, 1, 1, 0, 0, 1, 0, 1], dtype=uint8),\n",
       " 102: array([0, 1, 1, 0, 0, 1, 1, 0], dtype=uint8),\n",
       " 103: array([0, 1, 1, 0, 0, 1, 1, 1], dtype=uint8),\n",
       " 104: array([0, 1, 1, 0, 1, 0, 0, 0], dtype=uint8),\n",
       " 105: array([0, 1, 1, 0, 1, 0, 0, 1], dtype=uint8),\n",
       " 106: array([0, 1, 1, 0, 1, 0, 1, 0], dtype=uint8),\n",
       " 107: array([0, 1, 1, 0, 1, 0, 1, 1], dtype=uint8),\n",
       " 108: array([0, 1, 1, 0, 1, 1, 0, 0], dtype=uint8),\n",
       " 109: array([0, 1, 1, 0, 1, 1, 0, 1], dtype=uint8),\n",
       " 110: array([0, 1, 1, 0, 1, 1, 1, 0], dtype=uint8),\n",
       " 111: array([0, 1, 1, 0, 1, 1, 1, 1], dtype=uint8),\n",
       " 112: array([0, 1, 1, 1, 0, 0, 0, 0], dtype=uint8),\n",
       " 113: array([0, 1, 1, 1, 0, 0, 0, 1], dtype=uint8),\n",
       " 114: array([0, 1, 1, 1, 0, 0, 1, 0], dtype=uint8),\n",
       " 115: array([0, 1, 1, 1, 0, 0, 1, 1], dtype=uint8),\n",
       " 116: array([0, 1, 1, 1, 0, 1, 0, 0], dtype=uint8),\n",
       " 117: array([0, 1, 1, 1, 0, 1, 0, 1], dtype=uint8),\n",
       " 118: array([0, 1, 1, 1, 0, 1, 1, 0], dtype=uint8),\n",
       " 119: array([0, 1, 1, 1, 0, 1, 1, 1], dtype=uint8),\n",
       " 120: array([0, 1, 1, 1, 1, 0, 0, 0], dtype=uint8),\n",
       " 121: array([0, 1, 1, 1, 1, 0, 0, 1], dtype=uint8),\n",
       " 122: array([0, 1, 1, 1, 1, 0, 1, 0], dtype=uint8),\n",
       " 123: array([0, 1, 1, 1, 1, 0, 1, 1], dtype=uint8),\n",
       " 124: array([0, 1, 1, 1, 1, 1, 0, 0], dtype=uint8),\n",
       " 125: array([0, 1, 1, 1, 1, 1, 0, 1], dtype=uint8),\n",
       " 126: array([0, 1, 1, 1, 1, 1, 1, 0], dtype=uint8),\n",
       " 127: array([0, 1, 1, 1, 1, 1, 1, 1], dtype=uint8),\n",
       " 128: array([1, 0, 0, 0, 0, 0, 0, 0], dtype=uint8),\n",
       " 129: array([1, 0, 0, 0, 0, 0, 0, 1], dtype=uint8),\n",
       " 130: array([1, 0, 0, 0, 0, 0, 1, 0], dtype=uint8),\n",
       " 131: array([1, 0, 0, 0, 0, 0, 1, 1], dtype=uint8),\n",
       " 132: array([1, 0, 0, 0, 0, 1, 0, 0], dtype=uint8),\n",
       " 133: array([1, 0, 0, 0, 0, 1, 0, 1], dtype=uint8),\n",
       " 134: array([1, 0, 0, 0, 0, 1, 1, 0], dtype=uint8),\n",
       " 135: array([1, 0, 0, 0, 0, 1, 1, 1], dtype=uint8),\n",
       " 136: array([1, 0, 0, 0, 1, 0, 0, 0], dtype=uint8),\n",
       " 137: array([1, 0, 0, 0, 1, 0, 0, 1], dtype=uint8),\n",
       " 138: array([1, 0, 0, 0, 1, 0, 1, 0], dtype=uint8),\n",
       " 139: array([1, 0, 0, 0, 1, 0, 1, 1], dtype=uint8),\n",
       " 140: array([1, 0, 0, 0, 1, 1, 0, 0], dtype=uint8),\n",
       " 141: array([1, 0, 0, 0, 1, 1, 0, 1], dtype=uint8),\n",
       " 142: array([1, 0, 0, 0, 1, 1, 1, 0], dtype=uint8),\n",
       " 143: array([1, 0, 0, 0, 1, 1, 1, 1], dtype=uint8),\n",
       " 144: array([1, 0, 0, 1, 0, 0, 0, 0], dtype=uint8),\n",
       " 145: array([1, 0, 0, 1, 0, 0, 0, 1], dtype=uint8),\n",
       " 146: array([1, 0, 0, 1, 0, 0, 1, 0], dtype=uint8),\n",
       " 147: array([1, 0, 0, 1, 0, 0, 1, 1], dtype=uint8),\n",
       " 148: array([1, 0, 0, 1, 0, 1, 0, 0], dtype=uint8),\n",
       " 149: array([1, 0, 0, 1, 0, 1, 0, 1], dtype=uint8),\n",
       " 150: array([1, 0, 0, 1, 0, 1, 1, 0], dtype=uint8),\n",
       " 151: array([1, 0, 0, 1, 0, 1, 1, 1], dtype=uint8),\n",
       " 152: array([1, 0, 0, 1, 1, 0, 0, 0], dtype=uint8),\n",
       " 153: array([1, 0, 0, 1, 1, 0, 0, 1], dtype=uint8),\n",
       " 154: array([1, 0, 0, 1, 1, 0, 1, 0], dtype=uint8),\n",
       " 155: array([1, 0, 0, 1, 1, 0, 1, 1], dtype=uint8),\n",
       " 156: array([1, 0, 0, 1, 1, 1, 0, 0], dtype=uint8),\n",
       " 157: array([1, 0, 0, 1, 1, 1, 0, 1], dtype=uint8),\n",
       " 158: array([1, 0, 0, 1, 1, 1, 1, 0], dtype=uint8),\n",
       " 159: array([1, 0, 0, 1, 1, 1, 1, 1], dtype=uint8),\n",
       " 160: array([1, 0, 1, 0, 0, 0, 0, 0], dtype=uint8),\n",
       " 161: array([1, 0, 1, 0, 0, 0, 0, 1], dtype=uint8),\n",
       " 162: array([1, 0, 1, 0, 0, 0, 1, 0], dtype=uint8),\n",
       " 163: array([1, 0, 1, 0, 0, 0, 1, 1], dtype=uint8),\n",
       " 164: array([1, 0, 1, 0, 0, 1, 0, 0], dtype=uint8),\n",
       " 165: array([1, 0, 1, 0, 0, 1, 0, 1], dtype=uint8),\n",
       " 166: array([1, 0, 1, 0, 0, 1, 1, 0], dtype=uint8),\n",
       " 167: array([1, 0, 1, 0, 0, 1, 1, 1], dtype=uint8),\n",
       " 168: array([1, 0, 1, 0, 1, 0, 0, 0], dtype=uint8),\n",
       " 169: array([1, 0, 1, 0, 1, 0, 0, 1], dtype=uint8),\n",
       " 170: array([1, 0, 1, 0, 1, 0, 1, 0], dtype=uint8),\n",
       " 171: array([1, 0, 1, 0, 1, 0, 1, 1], dtype=uint8),\n",
       " 172: array([1, 0, 1, 0, 1, 1, 0, 0], dtype=uint8),\n",
       " 173: array([1, 0, 1, 0, 1, 1, 0, 1], dtype=uint8),\n",
       " 174: array([1, 0, 1, 0, 1, 1, 1, 0], dtype=uint8),\n",
       " 175: array([1, 0, 1, 0, 1, 1, 1, 1], dtype=uint8),\n",
       " 176: array([1, 0, 1, 1, 0, 0, 0, 0], dtype=uint8),\n",
       " 177: array([1, 0, 1, 1, 0, 0, 0, 1], dtype=uint8),\n",
       " 178: array([1, 0, 1, 1, 0, 0, 1, 0], dtype=uint8),\n",
       " 179: array([1, 0, 1, 1, 0, 0, 1, 1], dtype=uint8),\n",
       " 180: array([1, 0, 1, 1, 0, 1, 0, 0], dtype=uint8),\n",
       " 181: array([1, 0, 1, 1, 0, 1, 0, 1], dtype=uint8),\n",
       " 182: array([1, 0, 1, 1, 0, 1, 1, 0], dtype=uint8),\n",
       " 183: array([1, 0, 1, 1, 0, 1, 1, 1], dtype=uint8),\n",
       " 184: array([1, 0, 1, 1, 1, 0, 0, 0], dtype=uint8),\n",
       " 185: array([1, 0, 1, 1, 1, 0, 0, 1], dtype=uint8),\n",
       " 186: array([1, 0, 1, 1, 1, 0, 1, 0], dtype=uint8),\n",
       " 187: array([1, 0, 1, 1, 1, 0, 1, 1], dtype=uint8),\n",
       " 188: array([1, 0, 1, 1, 1, 1, 0, 0], dtype=uint8),\n",
       " 189: array([1, 0, 1, 1, 1, 1, 0, 1], dtype=uint8),\n",
       " 190: array([1, 0, 1, 1, 1, 1, 1, 0], dtype=uint8),\n",
       " 191: array([1, 0, 1, 1, 1, 1, 1, 1], dtype=uint8),\n",
       " 192: array([1, 1, 0, 0, 0, 0, 0, 0], dtype=uint8),\n",
       " 193: array([1, 1, 0, 0, 0, 0, 0, 1], dtype=uint8),\n",
       " 194: array([1, 1, 0, 0, 0, 0, 1, 0], dtype=uint8),\n",
       " 195: array([1, 1, 0, 0, 0, 0, 1, 1], dtype=uint8),\n",
       " 196: array([1, 1, 0, 0, 0, 1, 0, 0], dtype=uint8),\n",
       " 197: array([1, 1, 0, 0, 0, 1, 0, 1], dtype=uint8),\n",
       " 198: array([1, 1, 0, 0, 0, 1, 1, 0], dtype=uint8),\n",
       " 199: array([1, 1, 0, 0, 0, 1, 1, 1], dtype=uint8),\n",
       " 200: array([1, 1, 0, 0, 1, 0, 0, 0], dtype=uint8),\n",
       " 201: array([1, 1, 0, 0, 1, 0, 0, 1], dtype=uint8),\n",
       " 202: array([1, 1, 0, 0, 1, 0, 1, 0], dtype=uint8),\n",
       " 203: array([1, 1, 0, 0, 1, 0, 1, 1], dtype=uint8),\n",
       " 204: array([1, 1, 0, 0, 1, 1, 0, 0], dtype=uint8),\n",
       " 205: array([1, 1, 0, 0, 1, 1, 0, 1], dtype=uint8),\n",
       " 206: array([1, 1, 0, 0, 1, 1, 1, 0], dtype=uint8),\n",
       " 207: array([1, 1, 0, 0, 1, 1, 1, 1], dtype=uint8),\n",
       " 208: array([1, 1, 0, 1, 0, 0, 0, 0], dtype=uint8),\n",
       " 209: array([1, 1, 0, 1, 0, 0, 0, 1], dtype=uint8),\n",
       " 210: array([1, 1, 0, 1, 0, 0, 1, 0], dtype=uint8),\n",
       " 211: array([1, 1, 0, 1, 0, 0, 1, 1], dtype=uint8),\n",
       " 212: array([1, 1, 0, 1, 0, 1, 0, 0], dtype=uint8),\n",
       " 213: array([1, 1, 0, 1, 0, 1, 0, 1], dtype=uint8),\n",
       " 214: array([1, 1, 0, 1, 0, 1, 1, 0], dtype=uint8),\n",
       " 215: array([1, 1, 0, 1, 0, 1, 1, 1], dtype=uint8),\n",
       " 216: array([1, 1, 0, 1, 1, 0, 0, 0], dtype=uint8),\n",
       " 217: array([1, 1, 0, 1, 1, 0, 0, 1], dtype=uint8),\n",
       " 218: array([1, 1, 0, 1, 1, 0, 1, 0], dtype=uint8),\n",
       " 219: array([1, 1, 0, 1, 1, 0, 1, 1], dtype=uint8),\n",
       " 220: array([1, 1, 0, 1, 1, 1, 0, 0], dtype=uint8),\n",
       " 221: array([1, 1, 0, 1, 1, 1, 0, 1], dtype=uint8),\n",
       " 222: array([1, 1, 0, 1, 1, 1, 1, 0], dtype=uint8),\n",
       " 223: array([1, 1, 0, 1, 1, 1, 1, 1], dtype=uint8),\n",
       " 224: array([1, 1, 1, 0, 0, 0, 0, 0], dtype=uint8),\n",
       " 225: array([1, 1, 1, 0, 0, 0, 0, 1], dtype=uint8),\n",
       " 226: array([1, 1, 1, 0, 0, 0, 1, 0], dtype=uint8),\n",
       " 227: array([1, 1, 1, 0, 0, 0, 1, 1], dtype=uint8),\n",
       " 228: array([1, 1, 1, 0, 0, 1, 0, 0], dtype=uint8),\n",
       " 229: array([1, 1, 1, 0, 0, 1, 0, 1], dtype=uint8),\n",
       " 230: array([1, 1, 1, 0, 0, 1, 1, 0], dtype=uint8),\n",
       " 231: array([1, 1, 1, 0, 0, 1, 1, 1], dtype=uint8),\n",
       " 232: array([1, 1, 1, 0, 1, 0, 0, 0], dtype=uint8),\n",
       " 233: array([1, 1, 1, 0, 1, 0, 0, 1], dtype=uint8),\n",
       " 234: array([1, 1, 1, 0, 1, 0, 1, 0], dtype=uint8),\n",
       " 235: array([1, 1, 1, 0, 1, 0, 1, 1], dtype=uint8),\n",
       " 236: array([1, 1, 1, 0, 1, 1, 0, 0], dtype=uint8),\n",
       " 237: array([1, 1, 1, 0, 1, 1, 0, 1], dtype=uint8),\n",
       " 238: array([1, 1, 1, 0, 1, 1, 1, 0], dtype=uint8),\n",
       " 239: array([1, 1, 1, 0, 1, 1, 1, 1], dtype=uint8),\n",
       " 240: array([1, 1, 1, 1, 0, 0, 0, 0], dtype=uint8),\n",
       " 241: array([1, 1, 1, 1, 0, 0, 0, 1], dtype=uint8),\n",
       " 242: array([1, 1, 1, 1, 0, 0, 1, 0], dtype=uint8),\n",
       " 243: array([1, 1, 1, 1, 0, 0, 1, 1], dtype=uint8),\n",
       " 244: array([1, 1, 1, 1, 0, 1, 0, 0], dtype=uint8),\n",
       " 245: array([1, 1, 1, 1, 0, 1, 0, 1], dtype=uint8),\n",
       " 246: array([1, 1, 1, 1, 0, 1, 1, 0], dtype=uint8),\n",
       " 247: array([1, 1, 1, 1, 0, 1, 1, 1], dtype=uint8),\n",
       " 248: array([1, 1, 1, 1, 1, 0, 0, 0], dtype=uint8),\n",
       " 249: array([1, 1, 1, 1, 1, 0, 0, 1], dtype=uint8),\n",
       " 250: array([1, 1, 1, 1, 1, 0, 1, 0], dtype=uint8),\n",
       " 251: array([1, 1, 1, 1, 1, 0, 1, 1], dtype=uint8),\n",
       " 252: array([1, 1, 1, 1, 1, 1, 0, 0], dtype=uint8),\n",
       " 253: array([1, 1, 1, 1, 1, 1, 0, 1], dtype=uint8),\n",
       " 254: array([1, 1, 1, 1, 1, 1, 1, 0], dtype=uint8),\n",
       " 255: array([1, 1, 1, 1, 1, 1, 1, 1], dtype=uint8)}"
      ]
     },
     "execution_count": 17,
     "metadata": {},
     "output_type": "execute_result"
    }
   ],
   "source": [
    "int2binary"
   ]
  },
  {
   "cell_type": "code",
   "execution_count": 20,
   "metadata": {},
   "outputs": [],
   "source": [
    "alpha=0.1\n",
    "input_dim=2\n",
    "hidden_dim=16\n",
    "output_dim=1"
   ]
  },
  {
   "cell_type": "code",
   "execution_count": 21,
   "metadata": {},
   "outputs": [
    {
     "data": {
      "text/plain": [
       "array([[ 0.09762701,  0.43037873,  0.20552675,  0.08976637, -0.1526904 ,\n",
       "         0.29178823, -0.12482558,  0.783546  ,  0.92732552, -0.23311696,\n",
       "         0.58345008,  0.05778984,  0.13608912,  0.85119328, -0.85792788,\n",
       "        -0.8257414 ],\n",
       "       [-0.95956321,  0.66523969,  0.5563135 ,  0.7400243 ,  0.95723668,\n",
       "         0.59831713, -0.07704128,  0.56105835, -0.76345115,  0.27984204,\n",
       "        -0.71329343,  0.88933783,  0.04369664, -0.17067612, -0.47088878,\n",
       "         0.54846738]])"
      ]
     },
     "execution_count": 21,
     "metadata": {},
     "output_type": "execute_result"
    }
   ],
   "source": [
    "synapse_0=2*np.random.random((input_dim,hidden_dim))-1\n",
    "synapse_0"
   ]
  },
  {
   "cell_type": "code",
   "execution_count": 22,
   "metadata": {},
   "outputs": [
    {
     "data": {
      "text/plain": [
       "array([[-0.08769934],\n",
       "       [ 0.1368679 ],\n",
       "       [-0.9624204 ],\n",
       "       [ 0.23527099],\n",
       "       [ 0.22419145],\n",
       "       [ 0.23386799],\n",
       "       [ 0.88749616],\n",
       "       [ 0.3636406 ],\n",
       "       [-0.2809842 ],\n",
       "       [-0.12593609],\n",
       "       [ 0.39526239],\n",
       "       [-0.87954906],\n",
       "       [ 0.33353343],\n",
       "       [ 0.34127574],\n",
       "       [-0.57923488],\n",
       "       [-0.7421474 ]])"
      ]
     },
     "execution_count": 22,
     "metadata": {},
     "output_type": "execute_result"
    }
   ],
   "source": [
    "synapse_1=2*np.random.random((hidden_dim,output_dim))-1\n",
    "synapse_1"
   ]
  },
  {
   "cell_type": "code",
   "execution_count": 23,
   "metadata": {},
   "outputs": [
    {
     "data": {
      "text/plain": [
       "array([[-0.3691433 , -0.27257846,  0.14039354, -0.12279697,  0.97674768,\n",
       "        -0.79591038, -0.58224649, -0.67738096,  0.30621665, -0.49341679,\n",
       "        -0.06737845, -0.51114882, -0.68206083, -0.77924972,  0.31265918,\n",
       "        -0.7236341 ],\n",
       "       [-0.60683528, -0.26254966,  0.64198646, -0.80579745,  0.67588981,\n",
       "        -0.80780318,  0.95291893, -0.0626976 ,  0.95352218,  0.20969104,\n",
       "         0.47852716, -0.92162442, -0.43438607, -0.75960688, -0.4077196 ,\n",
       "        -0.76254456],\n",
       "       [-0.36403364, -0.17147401, -0.87170501,  0.38494424,  0.13320291,\n",
       "        -0.46922102,  0.04649611, -0.81211898,  0.15189299,  0.8585924 ,\n",
       "        -0.3628621 ,  0.33482076, -0.73640428,  0.43265441, -0.42118781,\n",
       "        -0.63361728],\n",
       "       [ 0.17302587, -0.95978491,  0.65788006, -0.99060905,  0.35563307,\n",
       "        -0.45998405,  0.47038804,  0.92437709, -0.50249371,  0.15231467,\n",
       "         0.18408386,  0.14450381, -0.55383673,  0.90549802, -0.10574924,\n",
       "         0.69281734],\n",
       "       [ 0.39895855, -0.4051261 ,  0.62759564, -0.20698852,  0.76220639,\n",
       "         0.16254575,  0.76347072,  0.38506318,  0.45050856,  0.00264876,\n",
       "         0.91216727,  0.2879804 , -0.1522899 ,  0.21278643, -0.9616136 ,\n",
       "        -0.39685037],\n",
       "       [ 0.32034707, -0.41984479,  0.23603086, -0.1424626 , -0.72905187,\n",
       "        -0.40343535,  0.13992982,  0.18174552,  0.1486505 ,  0.30640164,\n",
       "         0.30420654, -0.13716313,  0.79309319, -0.26487626, -0.12827015,\n",
       "         0.78384671],\n",
       "       [ 0.61238798,  0.40777717, -0.79954623,  0.83896523,  0.4284826 ,\n",
       "         0.99769401, -0.70110339,  0.73625211, -0.67501413,  0.23111913,\n",
       "        -0.75236003,  0.69601646,  0.61463792,  0.13820148, -0.18563341,\n",
       "        -0.86166601],\n",
       "       [ 0.39485755, -0.09291463,  0.4441112 ,  0.73276465,  0.95104301,\n",
       "         0.71160668, -0.97657183, -0.28004387,  0.45998112, -0.65674065,\n",
       "         0.04207321, -0.89132402, -0.60000695, -0.96295641,  0.58739541,\n",
       "        -0.55215062],\n",
       "       [-0.30929664,  0.85616259,  0.4088288 , -0.93632214, -0.67061169,\n",
       "         0.2429568 ,  0.15445718, -0.52421436,  0.868428  ,  0.22793191,\n",
       "         0.07126561,  0.17981995,  0.46024406, -0.37611001, -0.20355788,\n",
       "        -0.5803125 ],\n",
       "       [-0.62761399,  0.88874478,  0.47910159, -0.01908238, -0.54517074,\n",
       "        -0.49128704, -0.88394168, -0.13116675, -0.37640824,  0.39268698,\n",
       "        -0.24449632, -0.64079264, -0.95064254, -0.86550074,  0.35878555,\n",
       "        -0.09260631],\n",
       "       [ 0.07315842,  0.79334259,  0.98067789, -0.56620603,  0.32615641,\n",
       "        -0.47335525, -0.958698  ,  0.51675731, -0.3599657 , -0.23307221,\n",
       "         0.17663423,  0.66209691,  0.25796369,  0.74530131, -0.45291593,\n",
       "         0.59609367],\n",
       "       [-0.62872811,  0.90558331,  0.37497655, -0.56898465,  0.89474118,\n",
       "         0.46171161, -0.49211671, -0.57337605,  0.03640143, -0.94867456,\n",
       "        -0.58505985, -0.15062906, -0.25166004, -0.07284915, -0.44474259,\n",
       "         0.17356869],\n",
       "       [ 0.72771121, -0.76493629,  0.03475821, -0.73586379,  0.43371936,\n",
       "        -0.20788059,  0.13084262, -0.63344033, -0.71030448, -0.02388744,\n",
       "        -0.28877452,  0.88086389,  0.53065051,  0.49732724,  0.80743948,\n",
       "        -0.83315513],\n",
       "       [ 0.10438494,  0.16895214,  0.92387276, -0.41570495, -0.51834244,\n",
       "        -0.79941212, -0.96714074,  0.85905863,  0.33983309,  0.57030582,\n",
       "        -0.43653979,  0.17282033, -0.87208947, -0.02874481,  0.95499028,\n",
       "         0.75301049],\n",
       "       [-0.3236821 ,  0.92314031, -0.53659675,  0.89863764,  0.88275541,\n",
       "         0.59840517,  0.26089587,  0.74857593, -0.41395943,  0.69788711,\n",
       "         0.23575338, -0.97352628, -0.30553296, -0.70371828,  0.96365878,\n",
       "        -0.04325939],\n",
       "       [-0.00521727,  0.27894503, -0.26283079, -0.72619946,  0.64423547,\n",
       "        -0.62030418,  0.02263797, -0.55136594, -0.80431103,  0.72438303,\n",
       "         0.94583898,  0.92166932,  0.813111  ,  0.54809467, -0.3337097 ,\n",
       "        -0.83779722]])"
      ]
     },
     "execution_count": 23,
     "metadata": {},
     "output_type": "execute_result"
    }
   ],
   "source": [
    "synapse_h=2*np.random.random((hidden_dim,hidden_dim))-1\n",
    "synapse_h"
   ]
  },
  {
   "cell_type": "code",
   "execution_count": 26,
   "metadata": {},
   "outputs": [
    {
     "data": {
      "text/plain": [
       "array([[0., 0., 0., 0., 0., 0., 0., 0., 0., 0., 0., 0., 0., 0., 0., 0.],\n",
       "       [0., 0., 0., 0., 0., 0., 0., 0., 0., 0., 0., 0., 0., 0., 0., 0.]])"
      ]
     },
     "execution_count": 26,
     "metadata": {},
     "output_type": "execute_result"
    }
   ],
   "source": [
    "synapse_0_update=np.zeros_like(synapse_0)\n",
    "synapse_0_update"
   ]
  },
  {
   "cell_type": "code",
   "execution_count": 27,
   "metadata": {},
   "outputs": [
    {
     "data": {
      "text/plain": [
       "array([[0.],\n",
       "       [0.],\n",
       "       [0.],\n",
       "       [0.],\n",
       "       [0.],\n",
       "       [0.],\n",
       "       [0.],\n",
       "       [0.],\n",
       "       [0.],\n",
       "       [0.],\n",
       "       [0.],\n",
       "       [0.],\n",
       "       [0.],\n",
       "       [0.],\n",
       "       [0.],\n",
       "       [0.]])"
      ]
     },
     "execution_count": 27,
     "metadata": {},
     "output_type": "execute_result"
    }
   ],
   "source": [
    "synapse_1_update=np.zeros_like(synapse_1)\n",
    "synapse_1_update"
   ]
  },
  {
   "cell_type": "code",
   "execution_count": 28,
   "metadata": {},
   "outputs": [],
   "source": [
    "synapse_h_update=np.zeros_like(synapse_h)"
   ]
  },
  {
   "cell_type": "code",
   "execution_count": 29,
   "metadata": {},
   "outputs": [],
   "source": [
    "for j in range(10000):\n",
    "    a_int=np.random.randint(largest_number/2)\n",
    "    a=int2binary[a_int]\n",
    "    b_int=np.random.randint(largest_number/2)\n",
    "    b=int2binary[b_int]\n",
    "    c_int=a_int+b_int\n",
    "    c=int2binary[c_int]    "
   ]
  },
  {
   "cell_type": "code",
   "execution_count": 30,
   "metadata": {},
   "outputs": [],
   "source": [
    "d=np.zeros_like(c)"
   ]
  },
  {
   "cell_type": "code",
   "execution_count": 43,
   "metadata": {},
   "outputs": [],
   "source": [
    "overallError=0"
   ]
  },
  {
   "cell_type": "code",
   "execution_count": 31,
   "metadata": {},
   "outputs": [],
   "source": [
    "layer_2_deltas=list()\n",
    "layer_1_values=list()\n",
    "layer_1_values.append(np.zeros(hidden_dim))"
   ]
  },
  {
   "cell_type": "code",
   "execution_count": 47,
   "metadata": {},
   "outputs": [
    {
     "ename": "IndexError",
     "evalue": "invalid index to scalar variable.",
     "output_type": "error",
     "traceback": [
      "\u001b[1;31m---------------------------------------------------------------------------\u001b[0m",
      "\u001b[1;31mIndexError\u001b[0m                                Traceback (most recent call last)",
      "\u001b[1;32m<ipython-input-47-debef44d4f63>\u001b[0m in \u001b[0;36m<module>\u001b[1;34m()\u001b[0m\n\u001b[0;32m      7\u001b[0m     \u001b[0mlayer_2_deltas\u001b[0m\u001b[1;33m.\u001b[0m\u001b[0mappend\u001b[0m\u001b[1;33m(\u001b[0m\u001b[1;33m(\u001b[0m\u001b[0mlayer_2_error\u001b[0m\u001b[1;33m)\u001b[0m\u001b[1;33m*\u001b[0m\u001b[0msigmoid_output_to_derivative\u001b[0m\u001b[1;33m(\u001b[0m\u001b[0mlayer_2\u001b[0m\u001b[1;33m)\u001b[0m\u001b[1;33m)\u001b[0m\u001b[1;33m\u001b[0m\u001b[0m\n\u001b[0;32m      8\u001b[0m     \u001b[0moverallError\u001b[0m\u001b[1;33m+=\u001b[0m\u001b[0mnp\u001b[0m\u001b[1;33m.\u001b[0m\u001b[0mabs\u001b[0m\u001b[1;33m(\u001b[0m\u001b[0mlayer_2_error\u001b[0m\u001b[1;33m[\u001b[0m\u001b[1;36m0\u001b[0m\u001b[1;33m]\u001b[0m\u001b[1;33m)\u001b[0m\u001b[1;33m\u001b[0m\u001b[0m\n\u001b[1;32m----> 9\u001b[1;33m     \u001b[0md\u001b[0m\u001b[1;33m[\u001b[0m\u001b[0mbinary_dim\u001b[0m\u001b[1;33m-\u001b[0m\u001b[0mposition\u001b[0m\u001b[1;33m-\u001b[0m\u001b[1;36m1\u001b[0m\u001b[1;33m]\u001b[0m\u001b[1;33m=\u001b[0m\u001b[0mnp\u001b[0m\u001b[1;33m.\u001b[0m\u001b[0mround\u001b[0m\u001b[1;33m(\u001b[0m\u001b[0mlayer_2\u001b[0m\u001b[1;33m[\u001b[0m\u001b[1;36m0\u001b[0m\u001b[1;33m]\u001b[0m\u001b[1;33m[\u001b[0m\u001b[1;36m0\u001b[0m\u001b[1;33m]\u001b[0m\u001b[1;33m)\u001b[0m\u001b[1;33m\u001b[0m\u001b[0m\n\u001b[0m",
      "\u001b[1;31mIndexError\u001b[0m: invalid index to scalar variable."
     ]
    }
   ],
   "source": [
    "for position in range(binary_dim):\n",
    "    x=np.array([a[binary_dim-position-1],b[binary_dim-position-1]])\n",
    "    y=np.array([c[binary_dim-position-1]])\n",
    "    layer_1=sigmoid(np.dot(x,synapse_0)+np.dot(layer_1_values[-1],synapse_h))\n",
    "    layer_2=sigmoid(np.dot(layer_1,synapse_1))\n",
    "    layer_2_error=y-layer_2\n",
    "    layer_2_deltas.append((layer_2_error)*sigmoid_output_to_derivative(layer_2))\n",
    "    overallError+=np.abs(layer_2_error[0])\n",
    "    d[binary_dim-position-1]=np.round(layer_2[0][0])"
   ]
  },
  {
   "cell_type": "code",
   "execution_count": 34,
   "metadata": {},
   "outputs": [],
   "source": []
  },
  {
   "cell_type": "code",
   "execution_count": 35,
   "metadata": {},
   "outputs": [],
   "source": []
  },
  {
   "cell_type": "code",
   "execution_count": 40,
   "metadata": {},
   "outputs": [],
   "source": []
  },
  {
   "cell_type": "code",
   "execution_count": 44,
   "metadata": {},
   "outputs": [],
   "source": []
  },
  {
   "cell_type": "code",
   "execution_count": 45,
   "metadata": {},
   "outputs": [
    {
     "ename": "IndexError",
     "evalue": "invalid index to scalar variable.",
     "output_type": "error",
     "traceback": [
      "\u001b[1;31m---------------------------------------------------------------------------\u001b[0m",
      "\u001b[1;31mIndexError\u001b[0m                                Traceback (most recent call last)",
      "\u001b[1;32m<ipython-input-45-876aa48ae220>\u001b[0m in \u001b[0;36m<module>\u001b[1;34m()\u001b[0m\n\u001b[1;32m----> 1\u001b[1;33m \u001b[0md\u001b[0m\u001b[1;33m[\u001b[0m\u001b[0mbinary_dim\u001b[0m\u001b[1;33m-\u001b[0m\u001b[0mposition\u001b[0m\u001b[1;33m-\u001b[0m\u001b[1;36m1\u001b[0m\u001b[1;33m]\u001b[0m\u001b[1;33m=\u001b[0m\u001b[0mnp\u001b[0m\u001b[1;33m.\u001b[0m\u001b[0mround\u001b[0m\u001b[1;33m(\u001b[0m\u001b[0mlayer_2\u001b[0m\u001b[1;33m[\u001b[0m\u001b[1;36m0\u001b[0m\u001b[1;33m]\u001b[0m\u001b[1;33m[\u001b[0m\u001b[1;36m0\u001b[0m\u001b[1;33m]\u001b[0m\u001b[1;33m)\u001b[0m\u001b[1;33m\u001b[0m\u001b[0m\n\u001b[0m",
      "\u001b[1;31mIndexError\u001b[0m: invalid index to scalar variable."
     ]
    }
   ],
   "source": []
  },
  {
   "cell_type": "code",
   "execution_count": null,
   "metadata": {},
   "outputs": [],
   "source": []
  }
 ],
 "metadata": {
  "kernelspec": {
   "display_name": "Python 3",
   "language": "python",
   "name": "python3"
  },
  "language_info": {
   "codemirror_mode": {
    "name": "ipython",
    "version": 3
   },
   "file_extension": ".py",
   "mimetype": "text/x-python",
   "name": "python",
   "nbconvert_exporter": "python",
   "pygments_lexer": "ipython3",
   "version": "3.6.4"
  }
 },
 "nbformat": 4,
 "nbformat_minor": 2
}
