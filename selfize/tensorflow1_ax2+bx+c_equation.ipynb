{
 "cells": [
  {
   "cell_type": "code",
   "execution_count": 1,
   "metadata": {},
   "outputs": [],
   "source": [
    "import tensorflow as tf\n",
    "import numpy as np"
   ]
  },
  {
   "cell_type": "code",
   "execution_count": 2,
   "metadata": {},
   "outputs": [],
   "source": [
    "zeros=tf.zeros([1])"
   ]
  },
  {
   "cell_type": "code",
   "execution_count": 3,
   "metadata": {},
   "outputs": [
    {
     "data": {
      "text/plain": [
       "<tf.Tensor 'zeros:0' shape=(1,) dtype=float32>"
      ]
     },
     "execution_count": 3,
     "metadata": {},
     "output_type": "execute_result"
    }
   ],
   "source": [
    "zeros"
   ]
  },
  {
   "cell_type": "code",
   "execution_count": 4,
   "metadata": {},
   "outputs": [],
   "source": [
    "sess=tf.Session()"
   ]
  },
  {
   "cell_type": "code",
   "execution_count": 5,
   "metadata": {},
   "outputs": [],
   "source": [
    "a=sess.run(zeros)"
   ]
  },
  {
   "cell_type": "code",
   "execution_count": 6,
   "metadata": {},
   "outputs": [
    {
     "data": {
      "text/plain": [
       "array([0.], dtype=float32)"
      ]
     },
     "execution_count": 6,
     "metadata": {},
     "output_type": "execute_result"
    }
   ],
   "source": [
    "a"
   ]
  },
  {
   "cell_type": "code",
   "execution_count": 9,
   "metadata": {},
   "outputs": [],
   "source": [
    "vrb=tf.Variable(tf.zeros([1]))"
   ]
  },
  {
   "cell_type": "code",
   "execution_count": 24,
   "metadata": {},
   "outputs": [],
   "source": [
    "sess.run(tf.initialize_all_variables())"
   ]
  },
  {
   "cell_type": "code",
   "execution_count": 14,
   "metadata": {},
   "outputs": [
    {
     "data": {
      "text/plain": [
       "<tf.Variable 'Variable_1:0' shape=(1,) dtype=float32_ref>"
      ]
     },
     "execution_count": 14,
     "metadata": {},
     "output_type": "execute_result"
    }
   ],
   "source": [
    "vrb"
   ]
  },
  {
   "cell_type": "code",
   "execution_count": 15,
   "metadata": {},
   "outputs": [],
   "source": [
    "vrb2=tf.Variable(tf.zeros([1]))"
   ]
  },
  {
   "cell_type": "code",
   "execution_count": 17,
   "metadata": {},
   "outputs": [
    {
     "data": {
      "text/plain": [
       "<tf.Variable 'Variable_2:0' shape=(1,) dtype=float32_ref>"
      ]
     },
     "execution_count": 17,
     "metadata": {},
     "output_type": "execute_result"
    }
   ],
   "source": [
    "vrb2"
   ]
  },
  {
   "cell_type": "code",
   "execution_count": 37,
   "metadata": {},
   "outputs": [],
   "source": [
    "sess.run(tf.initialize_all_variables())"
   ]
  },
  {
   "cell_type": "code",
   "execution_count": 25,
   "metadata": {},
   "outputs": [
    {
     "data": {
      "text/plain": [
       "array([0.], dtype=float32)"
      ]
     },
     "execution_count": 25,
     "metadata": {},
     "output_type": "execute_result"
    }
   ],
   "source": [
    "sess.run(vrb2)"
   ]
  },
  {
   "cell_type": "code",
   "execution_count": 36,
   "metadata": {},
   "outputs": [],
   "source": [
    "vrb6=tf.Variable(tf.zeros([1]))"
   ]
  },
  {
   "cell_type": "code",
   "execution_count": 39,
   "metadata": {},
   "outputs": [
    {
     "ename": "NameError",
     "evalue": "name 'vrb7' is not defined",
     "output_type": "error",
     "traceback": [
      "\u001b[1;31m---------------------------------------------------------------------------\u001b[0m",
      "\u001b[1;31mNameError\u001b[0m                                 Traceback (most recent call last)",
      "\u001b[1;32m<ipython-input-39-aad480984a2d>\u001b[0m in \u001b[0;36m<module>\u001b[1;34m()\u001b[0m\n\u001b[1;32m----> 1\u001b[1;33m \u001b[0msess\u001b[0m\u001b[1;33m.\u001b[0m\u001b[0mrun\u001b[0m\u001b[1;33m(\u001b[0m\u001b[0mvrb7\u001b[0m\u001b[1;33m)\u001b[0m\u001b[1;33m\u001b[0m\u001b[0m\n\u001b[0m",
      "\u001b[1;31mNameError\u001b[0m: name 'vrb7' is not defined"
     ]
    }
   ],
   "source": [
    "sess.run(vrb7)"
   ]
  },
  {
   "cell_type": "code",
   "execution_count": 40,
   "metadata": {},
   "outputs": [],
   "source": [
    "vrb7=tf.Variable(tf.zeros([1]))"
   ]
  },
  {
   "cell_type": "code",
   "execution_count": 43,
   "metadata": {
    "collapsed": true
   },
   "outputs": [
    {
     "ename": "FailedPreconditionError",
     "evalue": "Attempting to use uninitialized value Variable_7\n\t [[Node: _retval_Variable_7_0_0 = _Retval[T=DT_FLOAT, index=0, _device=\"/job:localhost/replica:0/task:0/device:CPU:0\"](Variable_7)]]",
     "output_type": "error",
     "traceback": [
      "\u001b[1;31m---------------------------------------------------------------------------\u001b[0m",
      "\u001b[1;31mFailedPreconditionError\u001b[0m                   Traceback (most recent call last)",
      "\u001b[1;32mc:\\users\\dell\\appdata\\local\\programs\\python\\python36\\lib\\site-packages\\tensorflow\\python\\client\\session.py\u001b[0m in \u001b[0;36m_do_call\u001b[1;34m(self, fn, *args)\u001b[0m\n\u001b[0;32m   1326\u001b[0m     \u001b[1;32mtry\u001b[0m\u001b[1;33m:\u001b[0m\u001b[1;33m\u001b[0m\u001b[0m\n\u001b[1;32m-> 1327\u001b[1;33m       \u001b[1;32mreturn\u001b[0m \u001b[0mfn\u001b[0m\u001b[1;33m(\u001b[0m\u001b[1;33m*\u001b[0m\u001b[0margs\u001b[0m\u001b[1;33m)\u001b[0m\u001b[1;33m\u001b[0m\u001b[0m\n\u001b[0m\u001b[0;32m   1328\u001b[0m     \u001b[1;32mexcept\u001b[0m \u001b[0merrors\u001b[0m\u001b[1;33m.\u001b[0m\u001b[0mOpError\u001b[0m \u001b[1;32mas\u001b[0m \u001b[0me\u001b[0m\u001b[1;33m:\u001b[0m\u001b[1;33m\u001b[0m\u001b[0m\n",
      "\u001b[1;32mc:\\users\\dell\\appdata\\local\\programs\\python\\python36\\lib\\site-packages\\tensorflow\\python\\client\\session.py\u001b[0m in \u001b[0;36m_run_fn\u001b[1;34m(feed_dict, fetch_list, target_list, options, run_metadata)\u001b[0m\n\u001b[0;32m   1311\u001b[0m       return self._call_tf_sessionrun(\n\u001b[1;32m-> 1312\u001b[1;33m           options, feed_dict, fetch_list, target_list, run_metadata)\n\u001b[0m\u001b[0;32m   1313\u001b[0m \u001b[1;33m\u001b[0m\u001b[0m\n",
      "\u001b[1;32mc:\\users\\dell\\appdata\\local\\programs\\python\\python36\\lib\\site-packages\\tensorflow\\python\\client\\session.py\u001b[0m in \u001b[0;36m_call_tf_sessionrun\u001b[1;34m(self, options, feed_dict, fetch_list, target_list, run_metadata)\u001b[0m\n\u001b[0;32m   1419\u001b[0m             \u001b[0mself\u001b[0m\u001b[1;33m.\u001b[0m\u001b[0m_session\u001b[0m\u001b[1;33m,\u001b[0m \u001b[0moptions\u001b[0m\u001b[1;33m,\u001b[0m \u001b[0mfeed_dict\u001b[0m\u001b[1;33m,\u001b[0m \u001b[0mfetch_list\u001b[0m\u001b[1;33m,\u001b[0m \u001b[0mtarget_list\u001b[0m\u001b[1;33m,\u001b[0m\u001b[1;33m\u001b[0m\u001b[0m\n\u001b[1;32m-> 1420\u001b[1;33m             status, run_metadata)\n\u001b[0m\u001b[0;32m   1421\u001b[0m \u001b[1;33m\u001b[0m\u001b[0m\n",
      "\u001b[1;32mc:\\users\\dell\\appdata\\local\\programs\\python\\python36\\lib\\site-packages\\tensorflow\\python\\framework\\errors_impl.py\u001b[0m in \u001b[0;36m__exit__\u001b[1;34m(self, type_arg, value_arg, traceback_arg)\u001b[0m\n\u001b[0;32m    515\u001b[0m             \u001b[0mcompat\u001b[0m\u001b[1;33m.\u001b[0m\u001b[0mas_text\u001b[0m\u001b[1;33m(\u001b[0m\u001b[0mc_api\u001b[0m\u001b[1;33m.\u001b[0m\u001b[0mTF_Message\u001b[0m\u001b[1;33m(\u001b[0m\u001b[0mself\u001b[0m\u001b[1;33m.\u001b[0m\u001b[0mstatus\u001b[0m\u001b[1;33m.\u001b[0m\u001b[0mstatus\u001b[0m\u001b[1;33m)\u001b[0m\u001b[1;33m)\u001b[0m\u001b[1;33m,\u001b[0m\u001b[1;33m\u001b[0m\u001b[0m\n\u001b[1;32m--> 516\u001b[1;33m             c_api.TF_GetCode(self.status.status))\n\u001b[0m\u001b[0;32m    517\u001b[0m     \u001b[1;31m# Delete the underlying status object from memory otherwise it stays alive\u001b[0m\u001b[1;33m\u001b[0m\u001b[1;33m\u001b[0m\u001b[0m\n",
      "\u001b[1;31mFailedPreconditionError\u001b[0m: Attempting to use uninitialized value Variable_7\n\t [[Node: _retval_Variable_7_0_0 = _Retval[T=DT_FLOAT, index=0, _device=\"/job:localhost/replica:0/task:0/device:CPU:0\"](Variable_7)]]",
      "\nDuring handling of the above exception, another exception occurred:\n",
      "\u001b[1;31mFailedPreconditionError\u001b[0m                   Traceback (most recent call last)",
      "\u001b[1;32m<ipython-input-43-aad480984a2d>\u001b[0m in \u001b[0;36m<module>\u001b[1;34m()\u001b[0m\n\u001b[1;32m----> 1\u001b[1;33m \u001b[0msess\u001b[0m\u001b[1;33m.\u001b[0m\u001b[0mrun\u001b[0m\u001b[1;33m(\u001b[0m\u001b[0mvrb7\u001b[0m\u001b[1;33m)\u001b[0m\u001b[1;33m\u001b[0m\u001b[0m\n\u001b[0m",
      "\u001b[1;32mc:\\users\\dell\\appdata\\local\\programs\\python\\python36\\lib\\site-packages\\tensorflow\\python\\client\\session.py\u001b[0m in \u001b[0;36mrun\u001b[1;34m(self, fetches, feed_dict, options, run_metadata)\u001b[0m\n\u001b[0;32m    903\u001b[0m     \u001b[1;32mtry\u001b[0m\u001b[1;33m:\u001b[0m\u001b[1;33m\u001b[0m\u001b[0m\n\u001b[0;32m    904\u001b[0m       result = self._run(None, fetches, feed_dict, options_ptr,\n\u001b[1;32m--> 905\u001b[1;33m                          run_metadata_ptr)\n\u001b[0m\u001b[0;32m    906\u001b[0m       \u001b[1;32mif\u001b[0m \u001b[0mrun_metadata\u001b[0m\u001b[1;33m:\u001b[0m\u001b[1;33m\u001b[0m\u001b[0m\n\u001b[0;32m    907\u001b[0m         \u001b[0mproto_data\u001b[0m \u001b[1;33m=\u001b[0m \u001b[0mtf_session\u001b[0m\u001b[1;33m.\u001b[0m\u001b[0mTF_GetBuffer\u001b[0m\u001b[1;33m(\u001b[0m\u001b[0mrun_metadata_ptr\u001b[0m\u001b[1;33m)\u001b[0m\u001b[1;33m\u001b[0m\u001b[0m\n",
      "\u001b[1;32mc:\\users\\dell\\appdata\\local\\programs\\python\\python36\\lib\\site-packages\\tensorflow\\python\\client\\session.py\u001b[0m in \u001b[0;36m_run\u001b[1;34m(self, handle, fetches, feed_dict, options, run_metadata)\u001b[0m\n\u001b[0;32m   1138\u001b[0m     \u001b[1;32mif\u001b[0m \u001b[0mfinal_fetches\u001b[0m \u001b[1;32mor\u001b[0m \u001b[0mfinal_targets\u001b[0m \u001b[1;32mor\u001b[0m \u001b[1;33m(\u001b[0m\u001b[0mhandle\u001b[0m \u001b[1;32mand\u001b[0m \u001b[0mfeed_dict_tensor\u001b[0m\u001b[1;33m)\u001b[0m\u001b[1;33m:\u001b[0m\u001b[1;33m\u001b[0m\u001b[0m\n\u001b[0;32m   1139\u001b[0m       results = self._do_run(handle, final_targets, final_fetches,\n\u001b[1;32m-> 1140\u001b[1;33m                              feed_dict_tensor, options, run_metadata)\n\u001b[0m\u001b[0;32m   1141\u001b[0m     \u001b[1;32melse\u001b[0m\u001b[1;33m:\u001b[0m\u001b[1;33m\u001b[0m\u001b[0m\n\u001b[0;32m   1142\u001b[0m       \u001b[0mresults\u001b[0m \u001b[1;33m=\u001b[0m \u001b[1;33m[\u001b[0m\u001b[1;33m]\u001b[0m\u001b[1;33m\u001b[0m\u001b[0m\n",
      "\u001b[1;32mc:\\users\\dell\\appdata\\local\\programs\\python\\python36\\lib\\site-packages\\tensorflow\\python\\client\\session.py\u001b[0m in \u001b[0;36m_do_run\u001b[1;34m(self, handle, target_list, fetch_list, feed_dict, options, run_metadata)\u001b[0m\n\u001b[0;32m   1319\u001b[0m     \u001b[1;32mif\u001b[0m \u001b[0mhandle\u001b[0m \u001b[1;32mis\u001b[0m \u001b[1;32mNone\u001b[0m\u001b[1;33m:\u001b[0m\u001b[1;33m\u001b[0m\u001b[0m\n\u001b[0;32m   1320\u001b[0m       return self._do_call(_run_fn, feeds, fetches, targets, options,\n\u001b[1;32m-> 1321\u001b[1;33m                            run_metadata)\n\u001b[0m\u001b[0;32m   1322\u001b[0m     \u001b[1;32melse\u001b[0m\u001b[1;33m:\u001b[0m\u001b[1;33m\u001b[0m\u001b[0m\n\u001b[0;32m   1323\u001b[0m       \u001b[1;32mreturn\u001b[0m \u001b[0mself\u001b[0m\u001b[1;33m.\u001b[0m\u001b[0m_do_call\u001b[0m\u001b[1;33m(\u001b[0m\u001b[0m_prun_fn\u001b[0m\u001b[1;33m,\u001b[0m \u001b[0mhandle\u001b[0m\u001b[1;33m,\u001b[0m \u001b[0mfeeds\u001b[0m\u001b[1;33m,\u001b[0m \u001b[0mfetches\u001b[0m\u001b[1;33m)\u001b[0m\u001b[1;33m\u001b[0m\u001b[0m\n",
      "\u001b[1;32mc:\\users\\dell\\appdata\\local\\programs\\python\\python36\\lib\\site-packages\\tensorflow\\python\\client\\session.py\u001b[0m in \u001b[0;36m_do_call\u001b[1;34m(self, fn, *args)\u001b[0m\n\u001b[0;32m   1338\u001b[0m         \u001b[1;32mexcept\u001b[0m \u001b[0mKeyError\u001b[0m\u001b[1;33m:\u001b[0m\u001b[1;33m\u001b[0m\u001b[0m\n\u001b[0;32m   1339\u001b[0m           \u001b[1;32mpass\u001b[0m\u001b[1;33m\u001b[0m\u001b[0m\n\u001b[1;32m-> 1340\u001b[1;33m       \u001b[1;32mraise\u001b[0m \u001b[0mtype\u001b[0m\u001b[1;33m(\u001b[0m\u001b[0me\u001b[0m\u001b[1;33m)\u001b[0m\u001b[1;33m(\u001b[0m\u001b[0mnode_def\u001b[0m\u001b[1;33m,\u001b[0m \u001b[0mop\u001b[0m\u001b[1;33m,\u001b[0m \u001b[0mmessage\u001b[0m\u001b[1;33m)\u001b[0m\u001b[1;33m\u001b[0m\u001b[0m\n\u001b[0m\u001b[0;32m   1341\u001b[0m \u001b[1;33m\u001b[0m\u001b[0m\n\u001b[0;32m   1342\u001b[0m   \u001b[1;32mdef\u001b[0m \u001b[0m_extend_graph\u001b[0m\u001b[1;33m(\u001b[0m\u001b[0mself\u001b[0m\u001b[1;33m)\u001b[0m\u001b[1;33m:\u001b[0m\u001b[1;33m\u001b[0m\u001b[0m\n",
      "\u001b[1;31mFailedPreconditionError\u001b[0m: Attempting to use uninitialized value Variable_7\n\t [[Node: _retval_Variable_7_0_0 = _Retval[T=DT_FLOAT, index=0, _device=\"/job:localhost/replica:0/task:0/device:CPU:0\"](Variable_7)]]"
     ]
    }
   ],
   "source": [
    "sess.run(vrb7)"
   ]
  },
  {
   "cell_type": "code",
   "execution_count": 44,
   "metadata": {},
   "outputs": [],
   "source": [
    "vrb8=tf.Variable(tf.zeros([1]))"
   ]
  },
  {
   "cell_type": "code",
   "execution_count": 45,
   "metadata": {},
   "outputs": [
    {
     "data": {
      "text/plain": [
       "<tf.Variable 'Variable_8:0' shape=(1,) dtype=float32_ref>"
      ]
     },
     "execution_count": 45,
     "metadata": {},
     "output_type": "execute_result"
    }
   ],
   "source": [
    "vrb8"
   ]
  },
  {
   "cell_type": "code",
   "execution_count": 46,
   "metadata": {},
   "outputs": [],
   "source": [
    "sess.run(tf.initialize_all_variables())"
   ]
  },
  {
   "cell_type": "code",
   "execution_count": 47,
   "metadata": {},
   "outputs": [
    {
     "data": {
      "text/plain": [
       "<tf.Variable 'Variable_8:0' shape=(1,) dtype=float32_ref>"
      ]
     },
     "execution_count": 47,
     "metadata": {},
     "output_type": "execute_result"
    }
   ],
   "source": [
    "vrb8"
   ]
  },
  {
   "cell_type": "code",
   "execution_count": 48,
   "metadata": {},
   "outputs": [
    {
     "data": {
      "text/plain": [
       "array([0.], dtype=float32)"
      ]
     },
     "execution_count": 48,
     "metadata": {},
     "output_type": "execute_result"
    }
   ],
   "source": [
    "sess.run(vrb8)"
   ]
  },
  {
   "cell_type": "code",
   "execution_count": 49,
   "metadata": {},
   "outputs": [
    {
     "data": {
      "text/plain": [
       "<tf.Variable 'Variable_8:0' shape=(1,) dtype=float32_ref>"
      ]
     },
     "execution_count": 49,
     "metadata": {},
     "output_type": "execute_result"
    }
   ],
   "source": [
    "vrb8"
   ]
  },
  {
   "cell_type": "code",
   "execution_count": 50,
   "metadata": {},
   "outputs": [],
   "source": [
    "aa=tf.reduce_mean(vrb-3)"
   ]
  },
  {
   "cell_type": "code",
   "execution_count": 51,
   "metadata": {},
   "outputs": [
    {
     "data": {
      "text/plain": [
       "<tf.Tensor 'Mean:0' shape=() dtype=float32>"
      ]
     },
     "execution_count": 51,
     "metadata": {},
     "output_type": "execute_result"
    }
   ],
   "source": [
    "aa"
   ]
  },
  {
   "cell_type": "code",
   "execution_count": 52,
   "metadata": {},
   "outputs": [
    {
     "data": {
      "text/plain": [
       "-3.0"
      ]
     },
     "execution_count": 52,
     "metadata": {},
     "output_type": "execute_result"
    }
   ],
   "source": [
    "sess.run(aa)"
   ]
  },
  {
   "cell_type": "code",
   "execution_count": 66,
   "metadata": {},
   "outputs": [],
   "source": [
    "vrbs=tf.Variable(tf.zeros([3,4]))"
   ]
  },
  {
   "cell_type": "code",
   "execution_count": 81,
   "metadata": {},
   "outputs": [],
   "source": [
    "vrbs2=tf.Variable(tf.zeros(2,3))"
   ]
  },
  {
   "cell_type": "code",
   "execution_count": 82,
   "metadata": {},
   "outputs": [],
   "source": [
    "sess.run(tf.initialize_all_variables())"
   ]
  },
  {
   "cell_type": "code",
   "execution_count": 68,
   "metadata": {},
   "outputs": [
    {
     "data": {
      "text/plain": [
       "array([[0., 0., 0., 0.],\n",
       "       [0., 0., 0., 0.],\n",
       "       [0., 0., 0., 0.]], dtype=float32)"
      ]
     },
     "execution_count": 68,
     "metadata": {},
     "output_type": "execute_result"
    }
   ],
   "source": [
    "sess.run(vrbs)"
   ]
  },
  {
   "cell_type": "code",
   "execution_count": 84,
   "metadata": {},
   "outputs": [
    {
     "data": {
      "text/plain": [
       "array([0, 0])"
      ]
     },
     "execution_count": 84,
     "metadata": {},
     "output_type": "execute_result"
    }
   ],
   "source": [
    "sess.run(vrbs2)"
   ]
  },
  {
   "cell_type": "code",
   "execution_count": 106,
   "metadata": {},
   "outputs": [],
   "source": [
    "optimizer=tf.train.GradientDescentOptimizer(0.5)"
   ]
  },
  {
   "cell_type": "code",
   "execution_count": 113,
   "metadata": {},
   "outputs": [],
   "source": [
    "aa2=tf.reduce_mean(tf.square(vrb-5))"
   ]
  },
  {
   "cell_type": "code",
   "execution_count": 114,
   "metadata": {},
   "outputs": [
    {
     "data": {
      "text/plain": [
       "25.0"
      ]
     },
     "execution_count": 114,
     "metadata": {},
     "output_type": "execute_result"
    }
   ],
   "source": [
    "sess.run(aa2)"
   ]
  },
  {
   "cell_type": "code",
   "execution_count": 118,
   "metadata": {},
   "outputs": [
    {
     "data": {
      "text/plain": [
       "4"
      ]
     },
     "execution_count": 118,
     "metadata": {},
     "output_type": "execute_result"
    }
   ],
   "source": [
    "sess.run(tf.reduce_mean(tf.square(5-3)))"
   ]
  },
  {
   "cell_type": "code",
   "execution_count": 119,
   "metadata": {},
   "outputs": [],
   "source": [
    "train=optimizer.minimize(aa2)"
   ]
  },
  {
   "cell_type": "code",
   "execution_count": 120,
   "metadata": {},
   "outputs": [],
   "source": [
    "sess.run(train)"
   ]
  },
  {
   "cell_type": "code",
   "execution_count": 92,
   "metadata": {},
   "outputs": [
    {
     "data": {
      "text/plain": [
       "<tf.Tensor 'Mean_1:0' shape=() dtype=float32>"
      ]
     },
     "execution_count": 92,
     "metadata": {},
     "output_type": "execute_result"
    }
   ],
   "source": [
    "aa2"
   ]
  },
  {
   "cell_type": "code",
   "execution_count": 123,
   "metadata": {},
   "outputs": [
    {
     "data": {
      "text/plain": [
       "array([5.], dtype=float32)"
      ]
     },
     "execution_count": 123,
     "metadata": {},
     "output_type": "execute_result"
    }
   ],
   "source": [
    "sess.run(vrb)"
   ]
  },
  {
   "cell_type": "code",
   "execution_count": 124,
   "metadata": {},
   "outputs": [
    {
     "data": {
      "text/plain": [
       "0.0"
      ]
     },
     "execution_count": 124,
     "metadata": {},
     "output_type": "execute_result"
    }
   ],
   "source": [
    "sess.run(aa2)"
   ]
  },
  {
   "cell_type": "code",
   "execution_count": 131,
   "metadata": {},
   "outputs": [],
   "source": [
    "x0=tf.Variable(tf.ones([1,3]))"
   ]
  },
  {
   "cell_type": "code",
   "execution_count": 132,
   "metadata": {},
   "outputs": [],
   "source": [
    "y0=tf.Variable(tf.ones([1,3]))"
   ]
  },
  {
   "cell_type": "code",
   "execution_count": 128,
   "metadata": {},
   "outputs": [],
   "source": [
    "x_list=[0,1,0]\n",
    "y_list=[0,0,1]"
   ]
  },
  {
   "cell_type": "code",
   "execution_count": 133,
   "metadata": {},
   "outputs": [],
   "source": [
    "diff=tf.reduce_mean(tf.square(x0-x_list)+tf.square(y0-y_list))"
   ]
  },
  {
   "cell_type": "code",
   "execution_count": 135,
   "metadata": {},
   "outputs": [],
   "source": [
    "optimizer=tf.train.GradientDescentOptimizer(0.5)"
   ]
  },
  {
   "cell_type": "code",
   "execution_count": 137,
   "metadata": {},
   "outputs": [],
   "source": [
    "train=optimizer.minimize(diff)"
   ]
  },
  {
   "cell_type": "code",
   "execution_count": 139,
   "metadata": {},
   "outputs": [],
   "source": [
    "sess.run(tf.initialize_all_variables())"
   ]
  },
  {
   "cell_type": "code",
   "execution_count": 140,
   "metadata": {},
   "outputs": [
    {
     "data": {
      "text/plain": [
       "array([[1., 1., 1.]], dtype=float32)"
      ]
     },
     "execution_count": 140,
     "metadata": {},
     "output_type": "execute_result"
    }
   ],
   "source": [
    "sess.run(x0)"
   ]
  },
  {
   "cell_type": "code",
   "execution_count": 141,
   "metadata": {},
   "outputs": [
    {
     "data": {
      "text/plain": [
       "1.3333334"
      ]
     },
     "execution_count": 141,
     "metadata": {},
     "output_type": "execute_result"
    }
   ],
   "source": [
    "sess.run(diff)"
   ]
  },
  {
   "cell_type": "code",
   "execution_count": 142,
   "metadata": {},
   "outputs": [],
   "source": [
    "sess.run(train)"
   ]
  },
  {
   "cell_type": "code",
   "execution_count": 143,
   "metadata": {},
   "outputs": [
    {
     "data": {
      "text/plain": [
       "array([[0.6666666, 1.       , 0.6666666]], dtype=float32)"
      ]
     },
     "execution_count": 143,
     "metadata": {},
     "output_type": "execute_result"
    }
   ],
   "source": [
    "sess.run(x0)"
   ]
  },
  {
   "cell_type": "code",
   "execution_count": 145,
   "metadata": {},
   "outputs": [
    {
     "data": {
      "text/plain": [
       "array([[0.6666666, 0.6666666, 1.       ]], dtype=float32)"
      ]
     },
     "execution_count": 145,
     "metadata": {},
     "output_type": "execute_result"
    }
   ],
   "source": [
    "sess.run(y0)"
   ]
  },
  {
   "cell_type": "code",
   "execution_count": 144,
   "metadata": {},
   "outputs": [
    {
     "data": {
      "text/plain": [
       "0.59259254"
      ]
     },
     "execution_count": 144,
     "metadata": {},
     "output_type": "execute_result"
    }
   ],
   "source": [
    "sess.run(diff)"
   ]
  },
  {
   "cell_type": "code",
   "execution_count": 146,
   "metadata": {},
   "outputs": [],
   "source": [
    "sess.run(train)"
   ]
  },
  {
   "cell_type": "code",
   "execution_count": 147,
   "metadata": {},
   "outputs": [
    {
     "data": {
      "text/plain": [
       "array([[0.44444442, 1.        , 0.44444442]], dtype=float32)"
      ]
     },
     "execution_count": 147,
     "metadata": {},
     "output_type": "execute_result"
    }
   ],
   "source": [
    "sess.run(x0)"
   ]
  },
  {
   "cell_type": "code",
   "execution_count": 148,
   "metadata": {},
   "outputs": [
    {
     "data": {
      "text/plain": [
       "0.26337445"
      ]
     },
     "execution_count": 148,
     "metadata": {},
     "output_type": "execute_result"
    }
   ],
   "source": [
    "sess.run(diff)"
   ]
  },
  {
   "cell_type": "code",
   "execution_count": 179,
   "metadata": {},
   "outputs": [],
   "source": [
    "sess.run(train)#这是因为错误的把x0，y0设为三个元素不相同的Variable，所以得到最终下x0，y0变成了一维向量而不是一个数值"
   ]
  },
  {
   "cell_type": "code",
   "execution_count": 180,
   "metadata": {},
   "outputs": [
    {
     "data": {
      "text/plain": [
       "array([[0.00513823, 1.        , 0.00513823]], dtype=float32)"
      ]
     },
     "execution_count": 180,
     "metadata": {},
     "output_type": "execute_result"
    }
   ],
   "source": [
    "sess.run(x0)"
   ]
  },
  {
   "cell_type": "code",
   "execution_count": 181,
   "metadata": {},
   "outputs": [
    {
     "data": {
      "text/plain": [
       "3.5201858e-05"
      ]
     },
     "execution_count": 181,
     "metadata": {},
     "output_type": "execute_result"
    }
   ],
   "source": [
    "sess.run(diff)"
   ]
  },
  {
   "cell_type": "code",
   "execution_count": 195,
   "metadata": {},
   "outputs": [],
   "source": [
    "x0=tf.Variable(tf.ones([1],dtype=tf.float32))\n",
    "y0=tf.Variable(tf.ones([1],dtype=tf.float32))"
   ]
  },
  {
   "cell_type": "code",
   "execution_count": 196,
   "metadata": {},
   "outputs": [],
   "source": [
    "vct=np.array([1,1,1],dtype=np.float)"
   ]
  },
  {
   "cell_type": "code",
   "execution_count": 197,
   "metadata": {},
   "outputs": [],
   "source": [
    "diff=tf.reduce_mean(tf.square(x0*vct-x_list)+tf.square(y0*vct-y_list))"
   ]
  },
  {
   "cell_type": "code",
   "execution_count": 198,
   "metadata": {},
   "outputs": [],
   "source": [
    "train=optimizer.minimize(diff)"
   ]
  },
  {
   "cell_type": "code",
   "execution_count": 201,
   "metadata": {},
   "outputs": [],
   "source": [
    "sess.run(tf.initialize_all_variables())"
   ]
  },
  {
   "cell_type": "code",
   "execution_count": 202,
   "metadata": {},
   "outputs": [
    {
     "data": {
      "text/plain": [
       "array([1.], dtype=float32)"
      ]
     },
     "execution_count": 202,
     "metadata": {},
     "output_type": "execute_result"
    }
   ],
   "source": [
    "sess.run(x0)"
   ]
  },
  {
   "cell_type": "code",
   "execution_count": 203,
   "metadata": {},
   "outputs": [
    {
     "data": {
      "text/plain": [
       "1.3333334"
      ]
     },
     "execution_count": 203,
     "metadata": {},
     "output_type": "execute_result"
    }
   ],
   "source": [
    "sess.run(diff)"
   ]
  },
  {
   "cell_type": "code",
   "execution_count": 204,
   "metadata": {},
   "outputs": [],
   "source": [
    "sess.run(train)"
   ]
  },
  {
   "cell_type": "code",
   "execution_count": 205,
   "metadata": {},
   "outputs": [
    {
     "data": {
      "text/plain": [
       "array([0.3333333], dtype=float32)"
      ]
     },
     "execution_count": 205,
     "metadata": {},
     "output_type": "execute_result"
    }
   ],
   "source": [
    "sess.run(x0)"
   ]
  },
  {
   "cell_type": "code",
   "execution_count": 206,
   "metadata": {},
   "outputs": [
    {
     "data": {
      "text/plain": [
       "0.44444445"
      ]
     },
     "execution_count": 206,
     "metadata": {},
     "output_type": "execute_result"
    }
   ],
   "source": [
    "sess.run(diff)"
   ]
  },
  {
   "cell_type": "code",
   "execution_count": 207,
   "metadata": {},
   "outputs": [
    {
     "data": {
      "text/plain": [
       "array([0.3333333], dtype=float32)"
      ]
     },
     "execution_count": 207,
     "metadata": {},
     "output_type": "execute_result"
    }
   ],
   "source": [
    "sess.run(x0)"
   ]
  },
  {
   "cell_type": "code",
   "execution_count": 208,
   "metadata": {},
   "outputs": [
    {
     "data": {
      "text/plain": [
       "0.44444445"
      ]
     },
     "execution_count": 208,
     "metadata": {},
     "output_type": "execute_result"
    }
   ],
   "source": [
    "sess.run(diff)"
   ]
  },
  {
   "cell_type": "code",
   "execution_count": 209,
   "metadata": {},
   "outputs": [
    {
     "data": {
      "text/plain": [
       "array([0.3333333], dtype=float32)"
      ]
     },
     "execution_count": 209,
     "metadata": {},
     "output_type": "execute_result"
    }
   ],
   "source": [
    "sess.run(y0)"
   ]
  },
  {
   "cell_type": "code",
   "execution_count": 210,
   "metadata": {},
   "outputs": [
    {
     "data": {
      "text/plain": [
       "'1.7.0'"
      ]
     },
     "execution_count": 210,
     "metadata": {},
     "output_type": "execute_result"
    }
   ],
   "source": [
    "tf.__version__"
   ]
  },
  {
   "cell_type": "raw",
   "metadata": {},
   "source": [
    "###下面进行练习，通过训练得到二次函数的三个系数a，b，c,原始函数a=2，b=3，c=1"
   ]
  },
  {
   "cell_type": "code",
   "execution_count": 211,
   "metadata": {},
   "outputs": [],
   "source": [
    "x_data=np.random.rand(100).astype(np.float32)"
   ]
  },
  {
   "cell_type": "code",
   "execution_count": 212,
   "metadata": {},
   "outputs": [],
   "source": [
    "y_data=2*x_data**2+3*x_data+1"
   ]
  },
  {
   "cell_type": "code",
   "execution_count": 213,
   "metadata": {
    "collapsed": true
   },
   "outputs": [
    {
     "data": {
      "text/plain": [
       "array([2.60782  , 5.3395085, 1.4789052, 1.7278118, 3.6437373, 1.5275302,\n",
       "       4.710637 , 1.9284792, 1.3751793, 1.2899168, 1.6298435, 5.4675655,\n",
       "       2.5213416, 5.732567 , 1.1395271, 5.862548 , 4.929756 , 3.7009122,\n",
       "       3.6232517, 4.9469066, 2.7148907, 3.7940946, 3.0698233, 1.3182986,\n",
       "       4.89108  , 5.6807365, 1.9403646, 2.2870486, 4.050234 , 2.2819214,\n",
       "       2.9939203, 1.4653605, 1.2112007, 3.3173056, 2.4799118, 5.800981 ,\n",
       "       4.837597 , 1.5088263, 4.2596636, 4.063359 , 1.6995978, 5.9508667,\n",
       "       1.7060295, 3.3559713, 1.032738 , 4.4023952, 1.0812532, 1.4957501,\n",
       "       3.4784195, 1.7086229, 2.7877064, 5.5614557, 3.3589287, 2.3921041,\n",
       "       4.4807634, 5.4626985, 2.423381 , 5.6032763, 1.3826449, 1.427394 ,\n",
       "       5.0593586, 5.376373 , 1.6287775, 2.0626526, 3.110157 , 3.4099998,\n",
       "       1.9108924, 4.2502985, 1.1090317, 2.3406231, 3.0832818, 4.1885777,\n",
       "       4.1803794, 2.1135736, 4.465107 , 5.183523 , 3.2309036, 2.9699867,\n",
       "       5.7574644, 1.9943748, 1.3790476, 5.431288 , 4.59379  , 4.912981 ,\n",
       "       5.0106635, 2.0930476, 2.8091955, 3.3496113, 3.7529898, 2.7002175,\n",
       "       2.113864 , 5.4341755, 1.733589 , 4.184064 , 3.2955818, 4.2226634,\n",
       "       2.6139474, 1.1444794, 4.7109823, 3.0890856], dtype=float32)"
      ]
     },
     "execution_count": 213,
     "metadata": {},
     "output_type": "execute_result"
    }
   ],
   "source": [
    "y_data"
   ]
  },
  {
   "cell_type": "code",
   "execution_count": 214,
   "metadata": {},
   "outputs": [],
   "source": [
    "a0=tf.Variable(tf.random_uniform([1],-4,4),dtype=tf.float32)"
   ]
  },
  {
   "cell_type": "code",
   "execution_count": 215,
   "metadata": {},
   "outputs": [],
   "source": [
    "b0=tf.Variable(tf.random_uniform([1],-4,4),dtype=tf.float32)"
   ]
  },
  {
   "cell_type": "code",
   "execution_count": 216,
   "metadata": {},
   "outputs": [],
   "source": [
    "c0=tf.Variable(tf.random_uniform([1],-4,4),dtype=tf.float32)"
   ]
  },
  {
   "cell_type": "code",
   "execution_count": 217,
   "metadata": {},
   "outputs": [],
   "source": [
    "diff=tf.reduce_mean(tf.square(a0*x_data**2+b0*x_data+c0-y_data))"
   ]
  },
  {
   "cell_type": "code",
   "execution_count": 218,
   "metadata": {},
   "outputs": [],
   "source": [
    "train=optimizer.minimize(diff)"
   ]
  },
  {
   "cell_type": "code",
   "execution_count": 219,
   "metadata": {},
   "outputs": [],
   "source": [
    "sess.run(tf.initialize_all_variables())"
   ]
  },
  {
   "cell_type": "code",
   "execution_count": 220,
   "metadata": {},
   "outputs": [
    {
     "data": {
      "text/plain": [
       "(array([-0.94276905], dtype=float32),\n",
       " array([0.18752575], dtype=float32),\n",
       " array([-1.173377], dtype=float32),\n",
       " 24.760008)"
      ]
     },
     "execution_count": 220,
     "metadata": {},
     "output_type": "execute_result"
    }
   ],
   "source": [
    "sess.run(a0),sess.run(b0),sess.run(c0),sess.run(diff)"
   ]
  },
  {
   "cell_type": "code",
   "execution_count": 221,
   "metadata": {},
   "outputs": [
    {
     "name": "stdout",
     "output_type": "stream",
     "text": [
      "0 [1.2358005] [3.103532] [3.4957566] 5.2370133\n",
      "1 [0.49365306] [1.9825528] [1.2166462] 1.2841957\n",
      "2 [1.0244945] [2.6381872] [2.0590754] 0.44162494\n",
      "3 [0.96293366] [2.4823394] [1.5321387] 0.2303485\n",
      "4 [1.1434659] [2.6709156] [1.6345441] 0.15480922\n",
      "5 [1.1969396] [2.6909325] [1.4731371] 0.11414113\n",
      "6 [1.2902827] [2.7729037] [1.4438722] 0.086446136\n",
      "7 [1.3512073] [2.815752] [1.3684536] 0.065950125\n",
      "8 [1.4137713] [2.865972] [1.3247409] 0.050417036\n",
      "9 [1.464406] [2.9041078] [1.2766341] 0.03857034\n"
     ]
    }
   ],
   "source": [
    "for step in range(201):\n",
    "    sess.run(train)\n",
    "    if step//10==0:\n",
    "        print(step,sess.run(a0),sess.run(b0),sess.run(c0),sess.run(diff))"
   ]
  },
  {
   "cell_type": "code",
   "execution_count": 222,
   "metadata": {},
   "outputs": [
    {
     "name": "stdout",
     "output_type": "stream",
     "text": [
      "0 [1.8916246] [3.114612] [0.97896546] 6.4227206e-05\n",
      "1 [1.8918995] [3.1143215] [0.97901875] 6.3901425e-05\n",
      "2 [1.8921736] [3.1140316] [0.9790719] 6.357711e-05\n",
      "3 [1.8924471] [3.1137424] [0.97912496] 6.325554e-05\n",
      "4 [1.8927199] [3.1134539] [0.9791779] 6.293505e-05\n",
      "5 [1.8929919] [3.113166] [0.9792307] 6.261552e-05\n",
      "6 [1.8932633] [3.112879] [0.9792834] 6.229897e-05\n",
      "7 [1.8935341] [3.1125927] [0.979336] 6.19836e-05\n",
      "8 [1.8938041] [3.112307] [0.9793884] 6.167014e-05\n",
      "9 [1.8940735] [3.1120224] [0.9794408] 6.1357074e-05\n",
      "10 [1.8943421] [3.1117382] [0.9794928] 6.104634e-05\n",
      "11 [1.89461] [3.111455] [0.9795449] 6.0737046e-05\n",
      "12 [1.8948773] [3.1111722] [0.9795967] 6.0429164e-05\n",
      "13 [1.895144] [3.1108902] [0.9796485] 6.0122915e-05\n",
      "14 [1.89541] [3.1106088] [0.9797001] 5.9818456e-05\n",
      "15 [1.8956752] [3.1103284] [0.97975165] 5.9515573e-05\n",
      "16 [1.8959397] [3.1100485] [0.97980297] 5.9213606e-05\n",
      "17 [1.8962036] [3.1097693] [0.97985417] 5.8913916e-05\n",
      "18 [1.896467] [3.109491] [0.97990537] 5.861543e-05\n",
      "19 [1.8967295] [3.1092134] [0.97995615] 5.8318827e-05\n",
      "20 [1.8969914] [3.1089363] [0.98000705] 5.8023023e-05\n",
      "21 [1.8972527] [3.10866] [0.9800578] 5.772886e-05\n",
      "22 [1.8975133] [3.1083844] [0.98010844] 5.7437137e-05\n",
      "23 [1.8977733] [3.1081095] [0.9801589] 5.714586e-05\n",
      "24 [1.8980325] [3.1078353] [0.9802092] 5.685546e-05\n",
      "25 [1.8982911] [3.1075618] [0.9802593] 5.6567966e-05\n",
      "26 [1.8985491] [3.107289] [0.98030937] 5.6281406e-05\n",
      "27 [1.8988063] [3.107017] [0.9803593] 5.59967e-05\n",
      "28 [1.899063] [3.1067457] [0.98040915] 5.5712815e-05\n",
      "29 [1.8993189] [3.1064749] [0.98045874] 5.5430373e-05\n",
      "30 [1.8995743] [3.106205] [0.9805084] 5.5149925e-05\n",
      "31 [1.899829] [3.1059356] [0.9805578] 5.4870383e-05\n",
      "32 [1.9000831] [3.1056669] [0.98060703] 5.459272e-05\n",
      "33 [1.9003365] [3.105399] [0.98065627] 5.4316126e-05\n",
      "34 [1.9005892] [3.1051316] [0.9807053] 5.4040986e-05\n",
      "35 [1.9008414] [3.104865] [0.98075426] 5.3766827e-05\n",
      "36 [1.9010928] [3.104599] [0.980803] 5.349485e-05\n",
      "37 [1.9013437] [3.1043339] [0.98085177] 5.322412e-05\n",
      "38 [1.9015939] [3.1040692] [0.9809003] 5.2953772e-05\n",
      "39 [1.9018434] [3.1038053] [0.9809487] 5.2685977e-05\n",
      "40 [1.9020923] [3.103542] [0.980997] 5.241872e-05\n",
      "41 [1.9023407] [3.1032794] [0.9810451] 5.2153035e-05\n",
      "42 [1.9025884] [3.1030173] [0.9810933] 5.1888816e-05\n",
      "43 [1.9028355] [3.102756] [0.9811413] 5.1626273e-05\n",
      "44 [1.9030819] [3.1024954] [0.9811892] 5.1364455e-05\n",
      "45 [1.9033277] [3.1022356] [0.9812368] 5.1104496e-05\n",
      "46 [1.9035729] [3.1019762] [0.9812844] 5.0845556e-05\n",
      "47 [1.9038175] [3.1017175] [0.98133194] 5.058795e-05\n",
      "48 [1.9040614] [3.1014595] [0.98137933] 5.033122e-05\n",
      "49 [1.9043047] [3.101202] [0.9814265] 5.00768e-05\n"
     ]
    }
   ],
   "source": [
    "for step in range(2001):\n",
    "    sess.run(train)\n",
    "    if step//50==0:\n",
    "        print(step,sess.run(a0),sess.run(b0),sess.run(c0),sess.run(diff))"
   ]
  },
  {
   "cell_type": "code",
   "execution_count": 223,
   "metadata": {},
   "outputs": [
    {
     "name": "stdout",
     "output_type": "stream",
     "text": [
      "0 [1.9993262] [3.0007124] [0.9998693] 2.48321e-09\n",
      "1 [1.9993279] [3.0007105] [0.9998696] 2.4707618e-09\n",
      "2 [1.9993297] [3.0007088] [0.99987] 2.460659e-09\n",
      "3 [1.9993314] [3.000707] [0.9998703] 2.4461966e-09\n",
      "4 [1.9993331] [3.0007052] [0.99987066] 2.432711e-09\n",
      "5 [1.9993348] [3.0007033] [0.99987084] 2.4204203e-09\n",
      "6 [1.9993366] [3.0007017] [0.9998713] 2.4061426e-09\n",
      "7 [1.9993383] [3.0006998] [0.99987155] 2.391899e-09\n",
      "8 [1.9993399] [3.000698] [0.9998719] 2.3867506e-09\n",
      "9 [1.9993416] [3.0006964] [0.99987227] 2.372528e-09\n",
      "10 [1.9993433] [3.0006945] [0.9998725] 2.3557016e-09\n",
      "11 [1.999345] [3.0006928] [0.99987286] 2.3517372e-09\n",
      "12 [1.9993466] [3.0006912] [0.99987316] 2.3364644e-09\n",
      "13 [1.9993483] [3.0006893] [0.99987346] 2.3208622e-09\n",
      "14 [1.99935] [3.0006876] [0.99987376] 2.3131408e-09\n",
      "15 [1.9993516] [3.000686] [0.9998741] 2.2989701e-09\n",
      "16 [1.9993532] [3.000684] [0.99987435] 2.2926618e-09\n",
      "17 [1.9993548] [3.0006824] [0.99987483] 2.27619e-09\n",
      "18 [1.9993564] [3.0006807] [0.99987507] 2.2667033e-09\n",
      "19 [1.999358] [3.000679] [0.99987537] 2.2503008e-09\n",
      "20 [1.9993596] [3.0006773] [0.9998756] 2.2436029e-09\n",
      "21 [1.9993613] [3.0006757] [0.999876] 2.2330398e-09\n",
      "22 [1.9993628] [3.000674] [0.99987626] 2.2232165e-09\n",
      "23 [1.9993645] [3.0006723] [0.9998766] 2.211329e-09\n",
      "24 [1.999366] [3.0006707] [0.99987686] 2.199902e-09\n",
      "25 [1.9993676] [3.000669] [0.99987715] 2.1925002e-09\n",
      "26 [1.9993693] [3.0006673] [0.9998775] 2.1788198e-09\n",
      "27 [1.9993708] [3.0006657] [0.99987775] 2.1649964e-09\n",
      "28 [1.9993724] [3.000664] [0.99987805] 2.1565771e-09\n",
      "29 [1.999374] [3.0006623] [0.99987847] 2.144475e-09\n",
      "30 [1.9993756] [3.0006607] [0.99987864] 2.1335702e-09\n",
      "31 [1.9993771] [3.000659] [0.99987894] 2.1226432e-09\n",
      "32 [1.9993787] [3.0006573] [0.9998793] 2.1138105e-09\n",
      "33 [1.9993802] [3.0006557] [0.9998796] 2.102246e-09\n",
      "34 [1.9993818] [3.000654] [0.99987996] 2.092647e-09\n",
      "35 [1.9993833] [3.0006523] [0.99988025] 2.0811735e-09\n",
      "36 [1.9993849] [3.0006506] [0.9998805] 2.073523e-09\n",
      "37 [1.9993865] [3.000649] [0.9998809] 2.0601314e-09\n",
      "38 [1.9993881] [3.0006473] [0.99988115] 2.0494357e-09\n",
      "39 [1.9993896] [3.0006456] [0.9998814] 2.0402466e-09\n",
      "40 [1.9993912] [3.000644] [0.9998818] 2.0272963e-09\n",
      "41 [1.9993927] [3.0006423] [0.9998821] 2.0179425e-09\n",
      "42 [1.9993943] [3.0006406] [0.99988234] 2.0061819e-09\n",
      "43 [1.9993958] [3.000639] [0.99988276] 1.9950772e-09\n",
      "44 [1.9993974] [3.0006373] [0.99988306] 1.9848791e-09\n",
      "45 [1.999399] [3.0006356] [0.9998833] 1.9784279e-09\n",
      "46 [1.9994005] [3.0006342] [0.9998837] 1.9673685e-09\n",
      "47 [1.9994019] [3.0006325] [0.9998839] 1.958161e-09\n",
      "48 [1.9994035] [3.0006309] [0.99988425] 1.9474522e-09\n",
      "49 [1.999405] [3.0006292] [0.99988455] 1.9356994e-09\n",
      "50 [1.9994066] [3.0006275] [0.99988484] 1.927564e-09\n",
      "51 [1.9994081] [3.0006258] [0.99988514] 1.9159971e-09\n",
      "52 [1.9994097] [3.0006244] [0.9998855] 1.9063484e-09\n",
      "53 [1.9994111] [3.0006227] [0.9998857] 1.900065e-09\n",
      "54 [1.9994127] [3.0006213] [0.9998861] 1.888103e-09\n",
      "55 [1.9994141] [3.0006196] [0.9998862] 1.881723e-09\n",
      "56 [1.9994156] [3.0006182] [0.99988663] 1.8696833e-09\n",
      "57 [1.9994171] [3.0006166] [0.9998868] 1.8569221e-09\n",
      "58 [1.9994185] [3.000615] [0.99988705] 1.8496072e-09\n",
      "59 [1.99942] [3.0006135] [0.9998875] 1.8421642e-09\n",
      "60 [1.9994215] [3.0006118] [0.9998877] 1.8309969e-09\n",
      "61 [1.999423] [3.0006104] [0.99988806] 1.8237374e-09\n",
      "62 [1.9994245] [3.0006087] [0.99988824] 1.8099341e-09\n",
      "63 [1.9994259] [3.000607] [0.99988854] 1.8053037e-09\n",
      "64 [1.9994274] [3.0006056] [0.99988896] 1.79422e-09\n",
      "65 [1.9994289] [3.000604] [0.99988914] 1.785894e-09\n",
      "66 [1.9994303] [3.0006025] [0.9998895] 1.7764014e-09\n",
      "67 [1.9994317] [3.000601] [0.99988973] 1.766227e-09\n",
      "68 [1.9994332] [3.0005994] [0.9998899] 1.7566779e-09\n",
      "69 [1.9994347] [3.000598] [0.9998903] 1.7481254e-09\n",
      "70 [1.9994361] [3.0005963] [0.9998905] 1.7420768e-09\n",
      "71 [1.9994377] [3.0005949] [0.9998909] 1.73105e-09\n",
      "72 [1.9994391] [3.0005934] [0.9998911] 1.7182429e-09\n",
      "73 [1.9994404] [3.0005918] [0.9998913] 1.713312e-09\n",
      "74 [1.9994419] [3.0005903] [0.9998917] 1.705223e-09\n",
      "75 [1.9994433] [3.000589] [0.99989194] 1.6998872e-09\n",
      "76 [1.9994447] [3.0005875] [0.9998922] 1.6891897e-09\n",
      "77 [1.999446] [3.0005858] [0.99989235] 1.6800286e-09\n",
      "78 [1.9994476] [3.0005844] [0.99989283] 1.670385e-09\n",
      "79 [1.999449] [3.000583] [0.999893] 1.6583098e-09\n",
      "80 [1.9994503] [3.0005813] [0.9998932] 1.6527598e-09\n",
      "81 [1.9994518] [3.0005798] [0.9998936] 1.64426e-09\n",
      "82 [1.9994531] [3.0005784] [0.99989384] 1.6388337e-09\n",
      "83 [1.9994545] [3.000577] [0.9998942] 1.6291709e-09\n",
      "84 [1.9994558] [3.0005755] [0.9998944] 1.621613e-09\n",
      "85 [1.9994572] [3.000574] [0.9998947] 1.6124404e-09\n",
      "86 [1.9994586] [3.0005727] [0.99989486] 1.6034467e-09\n",
      "87 [1.99946] [3.0005713] [0.99989516] 1.5951487e-09\n",
      "88 [1.9994613] [3.0005698] [0.9998954] 1.5851279e-09\n",
      "89 [1.9994626] [3.0005684] [0.99989563] 1.5797302e-09\n",
      "90 [1.999464] [3.000567] [0.999896] 1.5719271e-09\n",
      "91 [1.9994653] [3.0005655] [0.99989617] 1.5652829e-09\n",
      "92 [1.9994668] [3.000564] [0.99989647] 1.5552162e-09\n",
      "93 [1.9994681] [3.0005627] [0.99989665] 1.549113e-09\n",
      "94 [1.9994695] [3.0005612] [0.999897] 1.542682e-09\n",
      "95 [1.9994708] [3.0005598] [0.9998972] 1.5364817e-09\n",
      "96 [1.9994723] [3.0005584] [0.9998975] 1.5252142e-09\n",
      "97 [1.9994736] [3.000557] [0.9998977] 1.5145497e-09\n",
      "98 [1.9994749] [3.0005555] [0.99989796] 1.5098981e-09\n",
      "99 [1.9994762] [3.000554] [0.99989825] 1.499261e-09\n"
     ]
    }
   ],
   "source": [
    "for step in range(10001):\n",
    "    sess.run(train)\n",
    "    if step//100==0:\n",
    "        print(step,sess.run(a0),sess.run(b0),sess.run(c0),sess.run(diff))"
   ]
  },
  {
   "cell_type": "code",
   "execution_count": null,
   "metadata": {},
   "outputs": [],
   "source": []
  }
 ],
 "metadata": {
  "kernelspec": {
   "display_name": "Python 3",
   "language": "python",
   "name": "python3"
  },
  "language_info": {
   "codemirror_mode": {
    "name": "ipython",
    "version": 3
   },
   "file_extension": ".py",
   "mimetype": "text/x-python",
   "name": "python",
   "nbconvert_exporter": "python",
   "pygments_lexer": "ipython3",
   "version": "3.6.4"
  }
 },
 "nbformat": 4,
 "nbformat_minor": 2
}
