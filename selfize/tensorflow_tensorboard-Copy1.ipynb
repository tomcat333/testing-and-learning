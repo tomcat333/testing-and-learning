{
 "cells": [
  {
   "cell_type": "code",
   "execution_count": 1,
   "metadata": {},
   "outputs": [],
   "source": [
    "import numpy as np\n",
    "import tensorflow as tf"
   ]
  },
  {
   "cell_type": "code",
   "execution_count": 2,
   "metadata": {},
   "outputs": [],
   "source": [
    "import matplotlib.pyplot as plt"
   ]
  },
  {
   "cell_type": "code",
   "execution_count": 3,
   "metadata": {},
   "outputs": [],
   "source": [
    "def add_layer(input_data,input_size,output_size,layer_name,active_function=None):\n",
    "    weights = tf.Variable(tf.random_normal([input_size,output_size]))\n",
    "    tf.summary.histogram(layer_name + '/weights',weights)\n",
    "    biases=tf.Variable(tf.random_normal([1,output_size]))\n",
    "    tf.summary.histogram(layer_name+'/biases',biases)\n",
    "    if active_function==None:\n",
    "        output_data=tf.matmul(input_data,weights)+biases\n",
    "    else:\n",
    "        output_data=active_function(tf.matmul(input_data,weights)+biases)\n",
    "    tf.summary.histogram(layer_name+'/outputs',output_data)\n",
    "    return output_data"
   ]
  },
  {
   "cell_type": "code",
   "execution_count": 4,
   "metadata": {},
   "outputs": [],
   "source": [
    "x_data=np.linspace(0,np.pi,400)[:,np.newaxis]\n",
    "noise=np.random.normal(0,0.05,x_data.shape)\n",
    "y_data=3*np.sin(x_data)+0.5+noise"
   ]
  },
  {
   "cell_type": "code",
   "execution_count": 5,
   "metadata": {},
   "outputs": [],
   "source": [
    "xs=tf.placeholder(tf.float32,[None,1],name='x_input')\n",
    "ys=tf.placeholder(tf.float32,[None,1],name='y_input')"
   ]
  },
  {
   "cell_type": "code",
   "execution_count": 6,
   "metadata": {},
   "outputs": [
    {
     "data": {
      "text/plain": [
       "<tf.Tensor 'layer2:0' shape=() dtype=string>"
      ]
     },
     "execution_count": 6,
     "metadata": {},
     "output_type": "execute_result"
    }
   ],
   "source": [
    "layer1=add_layer(xs,1,10,layer_name='first_layer',active_function=tf.nn.relu)\n",
    "tf.summary.histogram('layer1',layer1)\n",
    "layer2=add_layer(layer1,10,1,layer_name='second_layer',active_function=None)\n",
    "tf.summary.histogram('layer2',layer2)"
   ]
  },
  {
   "cell_type": "code",
   "execution_count": 7,
   "metadata": {},
   "outputs": [
    {
     "data": {
      "text/plain": [
       "<tf.Tensor 'loss:0' shape=() dtype=string>"
      ]
     },
     "execution_count": 7,
     "metadata": {},
     "output_type": "execute_result"
    }
   ],
   "source": [
    "diff=tf.reduce_mean(tf.reduce_sum(tf.square(layer2-ys),reduction_indices=[1]))\n",
    "tf.summary.scalar('loss',diff)"
   ]
  },
  {
   "cell_type": "code",
   "execution_count": 8,
   "metadata": {},
   "outputs": [],
   "source": [
    "optimizer=tf.train.GradientDescentOptimizer(0.02).minimize(diff)"
   ]
  },
  {
   "cell_type": "code",
   "execution_count": 9,
   "metadata": {},
   "outputs": [],
   "source": [
    "sess=tf.Session()"
   ]
  },
  {
   "cell_type": "code",
   "execution_count": 10,
   "metadata": {},
   "outputs": [],
   "source": [
    "merged=tf.summary.merge_all()"
   ]
  },
  {
   "cell_type": "code",
   "execution_count": 11,
   "metadata": {
    "scrolled": true
   },
   "outputs": [
    {
     "name": "stdout",
     "output_type": "stream",
     "text": [
      "WARNING:tensorflow:From c:\\users\\dell\\appdata\\local\\programs\\python\\python36\\lib\\site-packages\\tensorflow\\python\\util\\tf_should_use.py:118: initialize_all_variables (from tensorflow.python.ops.variables) is deprecated and will be removed after 2017-03-02.\n",
      "Instructions for updating:\n",
      "Use `tf.global_variables_initializer` instead.\n"
     ]
    }
   ],
   "source": [
    "sess.run(tf.initialize_all_variables())\n",
    "writer=tf.summary.FileWriter('logs/',sess.graph)"
   ]
  },
  {
   "cell_type": "code",
   "execution_count": 12,
   "metadata": {},
   "outputs": [
    {
     "name": "stdout",
     "output_type": "stream",
     "text": [
      "0 11.7762375\n",
      "100 0.32674158\n",
      "200 0.1529879\n",
      "300 0.08137467\n",
      "400 0.061707545\n",
      "500 0.049045976\n",
      "600 0.06969342\n",
      "700 0.04352966\n",
      "800 0.104660176\n",
      "900 0.05514246\n",
      "1000 0.042987898\n",
      "1100 0.04518766\n",
      "1200 0.052961294\n",
      "1300 0.05328253\n",
      "1400 0.043676075\n",
      "1500 0.043086328\n",
      "1600 0.042302422\n",
      "1700 0.04176768\n",
      "1800 0.041596614\n",
      "1900 0.040486928\n",
      "2000 0.040902678\n",
      "2100 0.04133873\n",
      "2200 0.04433382\n",
      "2300 0.04914173\n",
      "2400 0.04446356\n",
      "2500 0.03944208\n",
      "2600 0.038055256\n",
      "2700 0.036863614\n",
      "2800 0.03623539\n",
      "2900 0.03604701\n",
      "3000 0.036657456\n",
      "3100 0.03703862\n",
      "3200 0.036630917\n",
      "3300 0.03612488\n",
      "3400 0.03534862\n",
      "3500 0.035024043\n",
      "3600 0.03353454\n",
      "3700 0.033295248\n",
      "3800 0.031967245\n",
      "3900 0.031407706\n",
      "4000 0.030658526\n",
      "4100 0.029980097\n",
      "4200 0.029223023\n",
      "4300 0.028492479\n",
      "4400 0.027742945\n",
      "4500 0.027023911\n",
      "4600 0.026327757\n",
      "4700 0.02562191\n",
      "4800 0.024935441\n",
      "4900 0.024267325\n",
      "5000 0.023608625\n"
     ]
    }
   ],
   "source": [
    "for i in range(5001):                                       ###这个计算还不是每一次都能学习成功，大多时候都是学习失败，layer2是一条水平直线\n",
    "    sess.run(optimizer,feed_dict={xs:x_data,ys:y_data})\n",
    "    if i%100==0:\n",
    "        result=sess.run(merged,feed_dict={xs:x_data,ys:y_data})\n",
    "        writer.add_summary(result,i)\n",
    "        print(i,sess.run(diff,feed_dict={xs:x_data,ys:y_data}))"
   ]
  },
  {
   "cell_type": "code",
   "execution_count": 13,
   "metadata": {},
   "outputs": [
    {
     "data": {
      "text/plain": [
       "<Figure size 432x288 with 0 Axes>"
      ]
     },
     "metadata": {},
     "output_type": "display_data"
    }
   ],
   "source": [
    "fig=plt.figure()"
   ]
  },
  {
   "cell_type": "code",
   "execution_count": 14,
   "metadata": {},
   "outputs": [
    {
     "data": {
      "text/plain": [
       "[<matplotlib.lines.Line2D at 0x1ff630516a0>]"
      ]
     },
     "execution_count": 14,
     "metadata": {},
     "output_type": "execute_result"
    },
    {
     "data": {
      "image/png": "[encoded data removed]",
      "text/plain": [
       "<Figure size 432x288 with 1 Axes>"
      ]
     },
     "metadata": {},
     "output_type": "display_data"
    }
   ],
   "source": [
    "plt.scatter(x_data,y_data,c=\"r\")\n",
    "plt.plot(x_data,sess.run(layer2,feed_dict={xs:x_data,ys:y_data}))"
   ]
  },
  {
   "cell_type": "code",
   "execution_count": 15,
   "metadata": {},
   "outputs": [
    {
     "data": {
      "text/plain": [
       "'C:\\\\Users\\\\DELL\\\\testing and learning\\\\selfize'"
      ]
     },
     "execution_count": 15,
     "metadata": {},
     "output_type": "execute_result"
    }
   ],
   "source": [
    "pwd"
   ]
  },
  {
   "cell_type": "code",
   "execution_count": null,
   "metadata": {},
   "outputs": [],
   "source": []
  }
 ],
 "metadata": {
  "kernelspec": {
   "display_name": "Python 3",
   "language": "python",
   "name": "python3"
  },
  "language_info": {
   "codemirror_mode": {
    "name": "ipython",
    "version": 3
   },
   "file_extension": ".py",
   "mimetype": "text/x-python",
   "name": "python",
   "nbconvert_exporter": "python",
   "pygments_lexer": "ipython3",
   "version": "3.6.4"
  }
 },
 "nbformat": 4,
 "nbformat_minor": 2
}
