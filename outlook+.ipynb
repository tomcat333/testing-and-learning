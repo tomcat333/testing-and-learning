{
 "cells": [
  {
   "cell_type": "code",
   "execution_count": 54,
   "metadata": {},
   "outputs": [],
   "source": [
    "import email"
   ]
  },
  {
   "cell_type": "code",
   "execution_count": 18,
   "metadata": {},
   "outputs": [],
   "source": [
    "import imaplib"
   ]
  },
  {
   "cell_type": "code",
   "execution_count": 44,
   "metadata": {},
   "outputs": [
    {
     "name": "stdout",
     "output_type": "stream",
     "text": [
      "已连接服务器\n",
      "已登陆\n"
     ]
    }
   ],
   "source": [
    "conn = imaplib.IMAP4_SSL(port = '993',host = 'imap.163.com')\n",
    "print('已连接服务器')\n",
    "conn.login('tomcatatwy@163.com','2ga=godwy')\n",
    "print('已登陆')"
   ]
  },
  {
   "cell_type": "code",
   "execution_count": 45,
   "metadata": {},
   "outputs": [
    {
     "data": {
      "text/plain": [
       "('OK', [b'416'])"
      ]
     },
     "execution_count": 45,
     "metadata": {},
     "output_type": "execute_result"
    }
   ],
   "source": [
    "conn.select('INBOX')"
   ]
  },
  {
   "cell_type": "code",
   "execution_count": 48,
   "metadata": {},
   "outputs": [],
   "source": [
    "type, data = conn.search(None, 'ALL') "
   ]
  },
  {
   "cell_type": "code",
   "execution_count": 49,
   "metadata": {},
   "outputs": [],
   "source": [
    "newlist=data[0].split()"
   ]
  },
  {
   "cell_type": "code",
   "execution_count": 51,
   "metadata": {},
   "outputs": [],
   "source": [
    "type, data = conn.fetch(newlist[0], '(RFC822)')"
   ]
  },
  {
   "cell_type": "code",
   "execution_count": 35,
   "metadata": {},
   "outputs": [
    {
     "data": {
      "text/plain": [
       "[b'1 2 3 4 5 6 7 8 9 10 11 12 13 14 15 16 17 18 19 20 21 22 23 24 25 26 27 28 29 30 31 32 33 34 35 36 37 38 39 40 41 42 43 44 45 46 47 48 49 50 51 52 53 54 55 56 57 58 59 60 61 62 63 64 65 66 67 68 69 70 71 72 73 74 75 76 77 78 79 80 81 82 83 84 85 86 87 88 89 90 91 92 93 94 95 96 97 98 99 100 101 102 103 104 105 106 107 108 109 110 111 112 113 114 115 116 117 118 119 120 121 122 123 124 125 126 127 128 129 130 131 132 133 134 135 136 137 138 139 140 141 142 143 144 145 146 147 148 149 150 151 152 153 154 155 156 157 158 159 160 161 162 163 164 165 166 167 168 169 170 171 172 173 174 175 176 177 178 179 180 181 182 183 184 185 186 187 188 189 190 191 192 193 194 195 196 197 198 199 200 201 202 203 204 205 206 207 208 209 210 211 212 213 214 215 216 217 218 219 220 221 222 223 224 225 226 227 228 229 230 231 232 233 234 235 236 237 238 239 240 241 242 243 244 245 246 247 248 249 250 251 252 253 254 255 256 257 258 259 260 261 262 263 264 265 266 267 268 269 270 271 272 273 274 275 276 277 278 279 280 281 282 283 284 285 286 287 288 289 290 291 292 293 294 295 296 297 298 299 300 301 302 303 304 305 306 307 308 309 310 311 312 313 314 315 316 317 318 319 320 321 322 323 324 325 326 327 328 329 330 331 332 333 334 335 336 337 338 339 340 341 342 343 344 345 346 347 348 349 350 351 352 353 354 355 356 357 358 359 360 361 362 363 364 365 366 367 368 369 370 371 372 373 374 375 376 377 378 379 380 381 382 383 384 385 386 387 388 389 390 391 392 393 394 395 396 397 398 399 400 401 402 403 404 405 406 407 408 409 410 411 412 413 414 415 416']"
      ]
     },
     "execution_count": 35,
     "metadata": {},
     "output_type": "execute_result"
    }
   ],
   "source": [
    "data"
   ]
  },
  {
   "cell_type": "code",
   "execution_count": 55,
   "metadata": {},
   "outputs": [],
   "source": [
    "msg = email.message_from_string(data[0][1].decode('utf-8'))"
   ]
  },
  {
   "cell_type": "code",
   "execution_count": 56,
   "metadata": {},
   "outputs": [
    {
     "data": {
      "text/plain": [
       "<email.message.Message at 0x20179188e80>"
      ]
     },
     "execution_count": 56,
     "metadata": {},
     "output_type": "execute_result"
    }
   ],
   "source": [
    "msg"
   ]
  },
  {
   "cell_type": "code",
   "execution_count": 57,
   "metadata": {},
   "outputs": [],
   "source": [
    "sub = msg.get('subject')"
   ]
  },
  {
   "cell_type": "code",
   "execution_count": 58,
   "metadata": {},
   "outputs": [
    {
     "data": {
      "text/plain": [
       "'=?UTF-8?Q?Re:_[shadowsocks/shadowsocks]?=\\r\\n =?UTF-8?Q?_=E6=9C=80=E8=BF=91=E6=98=AF=E4=B8=8D=E6=98=AF=E8=A2=AB=E6=89=B9=E9=87=8F=E8=AF=86=E5=88=AB=E4=BA=86=EF=BC=9F?=\\r\\n =?UTF-8?Q?_=28#1192=29?='"
      ]
     },
     "execution_count": 58,
     "metadata": {},
     "output_type": "execute_result"
    }
   ],
   "source": [
    "sub"
   ]
  },
  {
   "cell_type": "code",
   "execution_count": 62,
   "metadata": {},
   "outputs": [
    {
     "name": "stdout",
     "output_type": "stream",
     "text": [
      "Re: [shadowsocks/shadowsocks] 最近是不是被批量识别了？ (#1192)\n"
     ]
    }
   ],
   "source": [
    " sub = msg.get('subject')\n",
    "\n",
    " #用get()获取标题并进行初步的解码。\n",
    "\n",
    " subdecode = email.header.decode_header(sub)[0][0]\n",
    "\n",
    "  #打印标题\n",
    " print(subdecode.decode('utf-8'))"
   ]
  },
  {
   "cell_type": "code",
   "execution_count": 63,
   "metadata": {},
   "outputs": [
    {
     "name": "stdout",
     "output_type": "stream",
     "text": [
      "我现在有点相信封的IP就是之前曾经封过的，我有一个祖传的从未出过问题，新买的两个都封了，新买的IP可能是以前被封过又放出来的\n",
      "\n",
      "-- \n",
      "You are receiving this because you are subscribed to this thread.\n",
      "Reply to this email directly or view it on GitHub:\n",
      "https://github.com/shadowsocks/shadowsocks/issues/1192#issuecomment-373556564\n",
      "<p>我现在有点相信封的IP就是之前曾经封过的，我有一个祖传的从未出过问题，新买的两个都封了，新买的IP可能是以前被封过又放出来的</p>\n",
      "\n",
      "<p style=\"font-size:small;-webkit-text-size-adjust:none;color:#666;\">&mdash;<br />You are receiving this because you are subscribed to this thread.<br />Reply to this email directly, <a href=\"https://github.com/shadowsocks/shadowsocks/issues/1192#issuecomment-373556564\">view it on GitHub</a>, or <a href=\"https://github.com/notifications/unsubscribe-auth/AhjYoL9KbskbSEJGnaKS57dydYDd4FGoks5tevudgaJpZM4SqYfj\">mute the thread</a>.<img src=\"https://github.com/notifications/beacon/AhjYoIDnMTyYTvxw91UzuegeZVQb9koaks5tevudgaJpZM4SqYfj.gif\" height=\"1\" width=\"1\" alt=\"\" /></p>\n",
      "<div itemscope itemtype=\"http://schema.org/EmailMessage\">\n",
      "<div itemprop=\"action\" itemscope itemtype=\"http://schema.org/ViewAction\">\n",
      "  <link itemprop=\"url\" href=\"https://github.com/shadowsocks/shadowsocks/issues/1192#issuecomment-373556564\"></link>\n",
      "  <meta itemprop=\"name\" content=\"View Issue\"></meta>\n",
      "</div>\n",
      "<meta itemprop=\"description\" content=\"View this Issue on GitHub\"></meta>\n",
      "</div>\n",
      "\n",
      "<script type=\"application/json\" data-scope=\"inboxmarkup\">{\"api_version\":\"1.0\",\"publisher\":{\"api_key\":\"05dde50f1d1a384dd78767c55493e4bb\",\"name\":\"GitHub\"},\"entity\":{\"external_key\":\"github/shadowsocks/shadowsocks\",\"title\":\"shadowsocks/shadowsocks\",\"subtitle\":\"GitHub repository\",\"main_image_url\":\"https://cloud.githubusercontent.com/assets/143418/17495839/a5054eac-5d88-11e6-95fc-7290892c7bb5.png\",\"avatar_image_url\":\"https://cloud.githubusercontent.com/assets/143418/15842166/7c72db34-2c0b-11e6-9aed-b52498112777.png\",\"action\":{\"name\":\"Open in GitHub\",\"url\":\"https://github.com/shadowsocks/shadowsocks\"}},\"updates\":{\"snippets\":[{\"icon\":\"PERSON\",\"message\":\"@WarmColor in #1192: 我现在有点相信封的IP就是之前曾经封过的，我有一个祖传的从未出过问题，新买的两个都封了，新买的IP可能是以前被封过又放出来的\"}],\"action\":{\"name\":\"View Issue\",\"url\":\"https://github.com/shadowsocks/shadowsocks/issues/1192#issuecomment-373556564\"}}}</script>\n"
     ]
    }
   ],
   "source": [
    " for part in msg.walk():\n",
    "        # 如果ture的话内容是没用的\n",
    "        if not part.is_multipart():            \n",
    "            print(part.get_payload(decode=True).decode('utf-8')) \n",
    "            # 解码出文本内容，直接输出来就可以了。"
   ]
  },
  {
   "cell_type": "code",
   "execution_count": null,
   "metadata": {},
   "outputs": [],
   "source": []
  }
 ],
 "metadata": {
  "kernelspec": {
   "display_name": "Python 3",
   "language": "python",
   "name": "python3"
  },
  "language_info": {
   "codemirror_mode": {
    "name": "ipython",
    "version": 3
   },
   "file_extension": ".py",
   "mimetype": "text/x-python",
   "name": "python",
   "nbconvert_exporter": "python",
   "pygments_lexer": "ipython3",
   "version": "3.6.4"
  }
 },
 "nbformat": 4,
 "nbformat_minor": 2
}
