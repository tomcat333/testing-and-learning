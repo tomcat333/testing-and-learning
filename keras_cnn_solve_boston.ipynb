{
 "cells": [
  {
   "cell_type": "code",
   "execution_count": 73,
   "metadata": {},
   "outputs": [],
   "source": [
    "import numpy as np"
   ]
  },
  {
   "cell_type": "code",
   "execution_count": 2,
   "metadata": {},
   "outputs": [],
   "source": [
    "import tensorflow as tf"
   ]
  },
  {
   "cell_type": "code",
   "execution_count": 273,
   "metadata": {},
   "outputs": [],
   "source": [
    "import sklearn"
   ]
  },
  {
   "cell_type": "code",
   "execution_count": 1,
   "metadata": {},
   "outputs": [],
   "source": [
    "from tensorflow import keras"
   ]
  },
  {
   "cell_type": "code",
   "execution_count": 4,
   "metadata": {},
   "outputs": [],
   "source": [
    "from tensorflow.keras.models import Sequential"
   ]
  },
  {
   "cell_type": "code",
   "execution_count": 7,
   "metadata": {},
   "outputs": [],
   "source": [
    "from tensorflow.keras import Model,Input"
   ]
  },
  {
   "cell_type": "code",
   "execution_count": 8,
   "metadata": {},
   "outputs": [],
   "source": [
    "from tensorflow.keras import datasets"
   ]
  },
  {
   "cell_type": "code",
   "execution_count": 12,
   "metadata": {},
   "outputs": [],
   "source": [
    "from tensorflow.keras.layers import Dense,Conv2D,MaxPooling2D,BatchNormalization,Flatten"
   ]
  },
  {
   "cell_type": "code",
   "execution_count": 322,
   "metadata": {},
   "outputs": [],
   "source": [
    "from tensorflow.keras.layers import Dropout"
   ]
  },
  {
   "cell_type": "code",
   "execution_count": 91,
   "metadata": {},
   "outputs": [],
   "source": [
    "from sklearn.preprocessing import OneHotEncoder"
   ]
  },
  {
   "cell_type": "code",
   "execution_count": 266,
   "metadata": {},
   "outputs": [],
   "source": [
    "from sklearn.svm import SVR"
   ]
  },
  {
   "cell_type": "code",
   "execution_count": 275,
   "metadata": {},
   "outputs": [],
   "source": [
    "from sklearn import metrics"
   ]
  },
  {
   "cell_type": "code",
   "execution_count": 279,
   "metadata": {},
   "outputs": [
    {
     "name": "stderr",
     "output_type": "stream",
     "text": [
      "d:\\program files\\python\\lib\\site-packages\\sklearn\\cross_validation.py:41: DeprecationWarning: This module was deprecated in version 0.18 in favor of the model_selection module into which all the refactored classes and functions are moved. Also note that the interface of the new CV iterators are different from that of this module. This module will be removed in 0.20.\n",
      "  \"This module will be removed in 0.20.\", DeprecationWarning)\n",
      "d:\\program files\\python\\lib\\site-packages\\sklearn\\grid_search.py:42: DeprecationWarning: This module was deprecated in version 0.18 in favor of the model_selection module into which all the refactored classes and functions are moved. This module will be removed in 0.20.\n",
      "  DeprecationWarning)\n"
     ]
    }
   ],
   "source": [
    "from sklearn import grid_search"
   ]
  },
  {
   "cell_type": "code",
   "execution_count": 274,
   "metadata": {
    "scrolled": true
   },
   "outputs": [
    {
     "data": {
      "text/plain": [
       "['_ASSUME_FINITE',\n",
       " '__SKLEARN_SETUP__',\n",
       " '__all__',\n",
       " '__builtins__',\n",
       " '__cached__',\n",
       " '__check_build',\n",
       " '__doc__',\n",
       " '__file__',\n",
       " '__loader__',\n",
       " '__name__',\n",
       " '__package__',\n",
       " '__path__',\n",
       " '__spec__',\n",
       " '__version__',\n",
       " '_contextmanager',\n",
       " 'base',\n",
       " 'clone',\n",
       " 'config_context',\n",
       " 'exceptions',\n",
       " 'externals',\n",
       " 'feature_selection',\n",
       " 'get_config',\n",
       " 'linear_model',\n",
       " 'logger',\n",
       " 'logging',\n",
       " 'metrics',\n",
       " 'model_selection',\n",
       " 'neighbors',\n",
       " 'os',\n",
       " 'preprocessing',\n",
       " 'random_projection',\n",
       " 're',\n",
       " 'set_config',\n",
       " 'setup_module',\n",
       " 'svm',\n",
       " 'sys',\n",
       " 'utils',\n",
       " 'warnings']"
      ]
     },
     "execution_count": 274,
     "metadata": {},
     "output_type": "execute_result"
    }
   ],
   "source": [
    "dir(sklearn)"
   ]
  },
  {
   "cell_type": "code",
   "execution_count": 65,
   "metadata": {},
   "outputs": [],
   "source": [
    "DATAS=datasets.mnist.load_data()"
   ]
  },
  {
   "cell_type": "code",
   "execution_count": 66,
   "metadata": {},
   "outputs": [
    {
     "data": {
      "text/plain": [
       "(60000, 28, 28)"
      ]
     },
     "execution_count": 66,
     "metadata": {},
     "output_type": "execute_result"
    }
   ],
   "source": [
    "DATAS[0][0].shape"
   ]
  },
  {
   "cell_type": "code",
   "execution_count": 67,
   "metadata": {},
   "outputs": [
    {
     "data": {
      "text/plain": [
       "(60000,)"
      ]
     },
     "execution_count": 67,
     "metadata": {},
     "output_type": "execute_result"
    }
   ],
   "source": [
    "DATAS[0][1].shape"
   ]
  },
  {
   "cell_type": "code",
   "execution_count": 68,
   "metadata": {},
   "outputs": [
    {
     "data": {
      "text/plain": [
       "(10000, 28, 28)"
      ]
     },
     "execution_count": 68,
     "metadata": {},
     "output_type": "execute_result"
    }
   ],
   "source": [
    "DATAS[1][0].shape"
   ]
  },
  {
   "cell_type": "code",
   "execution_count": 69,
   "metadata": {},
   "outputs": [
    {
     "data": {
      "text/plain": [
       "(10000,)"
      ]
     },
     "execution_count": 69,
     "metadata": {},
     "output_type": "execute_result"
    }
   ],
   "source": [
    "DATAS[1][1].shape"
   ]
  },
  {
   "cell_type": "code",
   "execution_count": 70,
   "metadata": {},
   "outputs": [],
   "source": [
    "X_train=DATAS[0][0]\n",
    "y_train=DATAS[0][1]\n",
    "X_test=DATAS[1][0]\n",
    "y_test=DATAS[1][1]"
   ]
  },
  {
   "cell_type": "code",
   "execution_count": 93,
   "metadata": {},
   "outputs": [],
   "source": [
    "encoder=OneHotEncoder()"
   ]
  },
  {
   "cell_type": "code",
   "execution_count": 98,
   "metadata": {},
   "outputs": [
    {
     "data": {
      "text/plain": [
       "OneHotEncoder(categorical_features='all', dtype=<class 'numpy.float64'>,\n",
       "       handle_unknown='error', n_values='auto', sparse=True)"
      ]
     },
     "execution_count": 98,
     "metadata": {},
     "output_type": "execute_result"
    }
   ],
   "source": [
    "encoder.fit([[i] for i in range(10)])"
   ]
  },
  {
   "cell_type": "code",
   "execution_count": 100,
   "metadata": {},
   "outputs": [
    {
     "data": {
      "text/plain": [
       "(60000,)"
      ]
     },
     "execution_count": 100,
     "metadata": {},
     "output_type": "execute_result"
    }
   ],
   "source": [
    "y_train.shape"
   ]
  },
  {
   "cell_type": "code",
   "execution_count": 162,
   "metadata": {},
   "outputs": [],
   "source": [
    "y_train_transformed=encoder.transform(np.array(y_train).reshape(-1,1)).toarray()"
   ]
  },
  {
   "cell_type": "code",
   "execution_count": 163,
   "metadata": {},
   "outputs": [],
   "source": [
    "y_test_transformed=encoder.transform(np.array(y_test).reshape(-1,1)).toarray()"
   ]
  },
  {
   "cell_type": "code",
   "execution_count": 97,
   "metadata": {},
   "outputs": [
    {
     "data": {
      "text/plain": [
       "[[0], [1], [2], [3], [4], [5], [6], [7], [8], [9]]"
      ]
     },
     "execution_count": 97,
     "metadata": {},
     "output_type": "execute_result"
    }
   ],
   "source": [
    "[[i] for i in range(10)]"
   ]
  },
  {
   "cell_type": "code",
   "execution_count": 116,
   "metadata": {},
   "outputs": [],
   "source": [
    "inputs=Input(shape=(28,28,1))"
   ]
  },
  {
   "cell_type": "code",
   "execution_count": 117,
   "metadata": {},
   "outputs": [],
   "source": [
    "conv_1=Conv2D(32,(2,2),activation='relu',padding='same')(inputs)"
   ]
  },
  {
   "cell_type": "code",
   "execution_count": 141,
   "metadata": {},
   "outputs": [],
   "source": [
    "pooled_1=MaxPooling2D((2,2))(conv_1)"
   ]
  },
  {
   "cell_type": "code",
   "execution_count": 142,
   "metadata": {},
   "outputs": [],
   "source": [
    "normed=BatchNormalization()(pooled_1)"
   ]
  },
  {
   "cell_type": "code",
   "execution_count": 143,
   "metadata": {},
   "outputs": [],
   "source": [
    "conv_2=Conv2D(64,(2,2),activation='relu',padding='same')(normed)"
   ]
  },
  {
   "cell_type": "code",
   "execution_count": 144,
   "metadata": {},
   "outputs": [],
   "source": [
    "pooled_2=MaxPooling2D((2,2))(conv_2)"
   ]
  },
  {
   "cell_type": "code",
   "execution_count": 145,
   "metadata": {},
   "outputs": [],
   "source": [
    "flatted=Flatten()(pooled_2)"
   ]
  },
  {
   "cell_type": "code",
   "execution_count": 146,
   "metadata": {},
   "outputs": [],
   "source": [
    "fulcnct=Dense(500,activation='relu')(flatted)"
   ]
  },
  {
   "cell_type": "code",
   "execution_count": 147,
   "metadata": {},
   "outputs": [],
   "source": [
    "predicted=Dense(10,activation='softmax')(fulcnct)"
   ]
  },
  {
   "cell_type": "code",
   "execution_count": 129,
   "metadata": {},
   "outputs": [],
   "source": [
    "knt_model=Model(inputs=inputs,outputs=predicted)"
   ]
  },
  {
   "cell_type": "code",
   "execution_count": 130,
   "metadata": {},
   "outputs": [],
   "source": [
    "knt_model.compile(loss='categorical_crossentropy',\n",
    "                 optimizer='sgd',\n",
    "                 metrics=['accuracy'])"
   ]
  },
  {
   "cell_type": "code",
   "execution_count": 131,
   "metadata": {},
   "outputs": [
    {
     "name": "stdout",
     "output_type": "stream",
     "text": [
      "Epoch 1/1\n",
      "60000/60000 [==============================] - 91s 2ms/step - loss: 0.1703 - acc: 0.9490\n"
     ]
    },
    {
     "data": {
      "text/plain": [
       "<tensorflow.python.keras.callbacks.History at 0x22051f26978>"
      ]
     },
     "execution_count": 131,
     "metadata": {},
     "output_type": "execute_result"
    }
   ],
   "source": [
    "knt_model.fit(X_train[:,:,:,np.newaxis],y_train_transformed)"
   ]
  },
  {
   "cell_type": "code",
   "execution_count": 138,
   "metadata": {},
   "outputs": [],
   "source": [
    "x_holder=tf.placeholder(tf.float32,shape=(None,28,28,1))"
   ]
  },
  {
   "cell_type": "code",
   "execution_count": 140,
   "metadata": {},
   "outputs": [],
   "source": [
    "conv_1=Conv2D(32,(2,2),activation='relu',padding='same')(x_holder)"
   ]
  },
  {
   "cell_type": "code",
   "execution_count": 148,
   "metadata": {},
   "outputs": [],
   "source": [
    "y_holder=tf.placeholder(tf.float32,shape=(None,10))"
   ]
  },
  {
   "cell_type": "code",
   "execution_count": 152,
   "metadata": {},
   "outputs": [],
   "source": [
    "loss=tf.reduce_mean(-tf.reduce_sum(tf.log(predicted)*y_holder,reduction_indices=[1]))"
   ]
  },
  {
   "cell_type": "code",
   "execution_count": 153,
   "metadata": {},
   "outputs": [],
   "source": [
    "train=tf.train.AdamOptimizer(1e-4).minimize(loss)"
   ]
  },
  {
   "cell_type": "code",
   "execution_count": 154,
   "metadata": {},
   "outputs": [],
   "source": [
    "sess=tf.Session()"
   ]
  },
  {
   "cell_type": "code",
   "execution_count": 170,
   "metadata": {},
   "outputs": [],
   "source": [
    "sess.run(tf.initialize_all_variables())"
   ]
  },
  {
   "cell_type": "code",
   "execution_count": 171,
   "metadata": {},
   "outputs": [
    {
     "name": "stdout",
     "output_type": "stream",
     "text": [
      "nan\n"
     ]
    }
   ],
   "source": [
    "sess.run(train,feed_dict={x_holder:X_train[:,:,:,np.newaxis],y_holder:y_train_transformed})\n",
    "print(sess.run(loss,feed_dict={x_holder:X_train[:,:,:,np.newaxis],y_holder:y_train_transformed}))"
   ]
  },
  {
   "cell_type": "code",
   "execution_count": 169,
   "metadata": {},
   "outputs": [
    {
     "data": {
      "text/plain": [
       "nan"
      ]
     },
     "execution_count": 169,
     "metadata": {},
     "output_type": "execute_result"
    }
   ],
   "source": [
    "sess.run(loss,feed_dict={x_holder:X_train[:,:,:,np.newaxis],y_holder:y_train_transformed})"
   ]
  },
  {
   "cell_type": "code",
   "execution_count": 175,
   "metadata": {},
   "outputs": [
    {
     "name": "stdout",
     "output_type": "stream",
     "text": [
      "Downloading data from https://storage.googleapis.com/tensorflow/tf-keras-datasets/boston_housing.npz\n",
      "57344/57026 [==============================] - 0s 4us/step\n"
     ]
    }
   ],
   "source": [
    "boston_data=datasets.boston_housing.load_data()"
   ]
  },
  {
   "cell_type": "code",
   "execution_count": 218,
   "metadata": {},
   "outputs": [],
   "source": [
    "X_train_boston=boston_data[0][0]"
   ]
  },
  {
   "cell_type": "code",
   "execution_count": 387,
   "metadata": {},
   "outputs": [
    {
     "data": {
      "text/plain": [
       "(3, 13)"
      ]
     },
     "execution_count": 387,
     "metadata": {},
     "output_type": "execute_result"
    }
   ],
   "source": [
    "X_train_boston[0:3].shape"
   ]
  },
  {
   "cell_type": "code",
   "execution_count": 401,
   "metadata": {},
   "outputs": [],
   "source": [
    "x_test=tf.placeholder(tf.float32,shape=(3,13))"
   ]
  },
  {
   "cell_type": "code",
   "execution_count": 402,
   "metadata": {},
   "outputs": [],
   "source": [
    "nor_test=BatchNormalization()(x_test)"
   ]
  },
  {
   "cell_type": "code",
   "execution_count": 409,
   "metadata": {},
   "outputs": [],
   "source": [
    "layer_nor_tf=tf.layers.batch_normalization(x_test,training=True)           #####居然必须把training设成True才行"
   ]
  },
  {
   "cell_type": "code",
   "execution_count": 572,
   "metadata": {},
   "outputs": [],
   "source": [
    "sess.run(tf.initialize_all_variables())"
   ]
  },
  {
   "cell_type": "code",
   "execution_count": 412,
   "metadata": {},
   "outputs": [],
   "source": [
    "nor_result=sess.run(layer_nor_tf,feed_dict={x_test:X_train_boston[0:3]})"
   ]
  },
  {
   "cell_type": "code",
   "execution_count": 422,
   "metadata": {},
   "outputs": [
    {
     "data": {
      "text/plain": [
       "array([ 0.0000000e+00,  0.0000000e+00,  0.0000000e+00,  0.0000000e+00,\n",
       "        4.7683716e-07, -1.5894572e-07,  7.9472862e-08, -1.5894572e-07,\n",
       "        0.0000000e+00, -3.9736431e-08,  1.5894572e-07, -5.0862632e-06,\n",
       "       -1.5894572e-07], dtype=float32)"
      ]
     },
     "execution_count": 422,
     "metadata": {},
     "output_type": "execute_result"
    }
   ],
   "source": [
    "np.mean(nor_result,axis=0)"
   ]
  },
  {
   "cell_type": "code",
   "execution_count": 219,
   "metadata": {},
   "outputs": [],
   "source": [
    "y_train_boston=boston_data[0][1]"
   ]
  },
  {
   "cell_type": "code",
   "execution_count": 220,
   "metadata": {},
   "outputs": [],
   "source": [
    "X_test_boston=boston_data[1][0]"
   ]
  },
  {
   "cell_type": "code",
   "execution_count": 221,
   "metadata": {},
   "outputs": [],
   "source": [
    "y_test_boston=boston_data[1][1]"
   ]
  },
  {
   "cell_type": "code",
   "execution_count": 641,
   "metadata": {},
   "outputs": [],
   "source": [
    "input_boston=Input(shape=(13,))"
   ]
  },
  {
   "cell_type": "code",
   "execution_count": 642,
   "metadata": {},
   "outputs": [],
   "source": [
    "normed_boston=BatchNormalization()(input_boston,training=True)"
   ]
  },
  {
   "cell_type": "code",
   "execution_count": 643,
   "metadata": {},
   "outputs": [],
   "source": [
    "layer1=Dense(600,activation='relu')(normed_boston)"
   ]
  },
  {
   "cell_type": "code",
   "execution_count": 644,
   "metadata": {},
   "outputs": [],
   "source": [
    "drop1=Dropout(rate=0.4)(layer1)"
   ]
  },
  {
   "cell_type": "code",
   "execution_count": 645,
   "metadata": {},
   "outputs": [],
   "source": [
    "layer2=Dense(1000,activation='relu')(drop1)"
   ]
  },
  {
   "cell_type": "code",
   "execution_count": 646,
   "metadata": {},
   "outputs": [],
   "source": [
    "drop2=Dropout(rate=0.5)(layer2)"
   ]
  },
  {
   "cell_type": "code",
   "execution_count": 647,
   "metadata": {},
   "outputs": [],
   "source": [
    "layer3=Dense(10,activation='softmax')(drop2)"
   ]
  },
  {
   "cell_type": "code",
   "execution_count": 648,
   "metadata": {},
   "outputs": [],
   "source": [
    "layer4=Dense(1,activation=None)(layer3)"
   ]
  },
  {
   "cell_type": "code",
   "execution_count": 649,
   "metadata": {},
   "outputs": [],
   "source": [
    "model_boston=Model(inputs=input_boston,outputs=layer4)"
   ]
  },
  {
   "cell_type": "code",
   "execution_count": 650,
   "metadata": {},
   "outputs": [],
   "source": [
    "model_boston.compile(loss='mse',\n",
    "                     optimizer='sgd')"
   ]
  },
  {
   "cell_type": "code",
   "execution_count": 651,
   "metadata": {},
   "outputs": [
    {
     "name": "stdout",
     "output_type": "stream",
     "text": [
      "Epoch 1/100\n",
      "404/404 [==============================] - 2s 5ms/step - loss: 446.0941\n",
      "Epoch 2/100\n",
      "404/404 [==============================] - 0s 443us/step - loss: 219.2348\n",
      "Epoch 3/100\n",
      "404/404 [==============================] - 0s 430us/step - loss: 130.4841\n",
      "Epoch 4/100\n",
      "404/404 [==============================] - 0s 346us/step - loss: 100.5120 0s - loss: 91.20\n",
      "Epoch 5/100\n",
      "404/404 [==============================] - 0s 344us/step - loss: 90.1150\n",
      "Epoch 6/100\n",
      "404/404 [==============================] - 0s 364us/step - loss: 86.4646\n",
      "Epoch 7/100\n",
      "404/404 [==============================] - 0s 537us/step - loss: 85.0304\n",
      "Epoch 8/100\n",
      "404/404 [==============================] - 0s 440us/step - loss: 73.3372\n",
      "Epoch 9/100\n",
      "404/404 [==============================] - 0s 369us/step - loss: 59.5285\n",
      "Epoch 10/100\n",
      "404/404 [==============================] - 0s 319us/step - loss: 51.8224\n",
      "Epoch 11/100\n",
      "404/404 [==============================] - 0s 336us/step - loss: 48.2550\n",
      "Epoch 12/100\n",
      "404/404 [==============================] - 0s 334us/step - loss: 45.3552\n",
      "Epoch 13/100\n",
      "404/404 [==============================] - 0s 331us/step - loss: 42.0819\n",
      "Epoch 14/100\n",
      "404/404 [==============================] - 0s 490us/step - loss: 38.4579\n",
      "Epoch 15/100\n",
      "404/404 [==============================] - 0s 510us/step - loss: 36.2704\n",
      "Epoch 16/100\n",
      "404/404 [==============================] - 0s 327us/step - loss: 40.1853\n",
      "Epoch 17/100\n",
      "404/404 [==============================] - 0s 324us/step - loss: 36.1522\n",
      "Epoch 18/100\n",
      "404/404 [==============================] - 0s 317us/step - loss: 31.7248\n",
      "Epoch 19/100\n",
      "404/404 [==============================] - 0s 339us/step - loss: 33.3485\n",
      "Epoch 20/100\n",
      "404/404 [==============================] - 0s 339us/step - loss: 31.5271\n",
      "Epoch 21/100\n",
      "404/404 [==============================] - 0s 391us/step - loss: 33.0221\n",
      "Epoch 22/100\n",
      "404/404 [==============================] - 0s 549us/step - loss: 29.2414\n",
      "Epoch 23/100\n",
      "404/404 [==============================] - 0s 433us/step - loss: 29.2310\n",
      "Epoch 24/100\n",
      "404/404 [==============================] - 0s 341us/step - loss: 27.8558\n",
      "Epoch 25/100\n",
      "404/404 [==============================] - 0s 339us/step - loss: 28.7722\n",
      "Epoch 26/100\n",
      "404/404 [==============================] - 0s 319us/step - loss: 26.3920\n",
      "Epoch 27/100\n",
      "404/404 [==============================] - 0s 438us/step - loss: 27.7102\n",
      "Epoch 28/100\n",
      "404/404 [==============================] - 0s 460us/step - loss: 27.6315\n",
      "Epoch 29/100\n",
      "404/404 [==============================] - 0s 344us/step - loss: 25.9808\n",
      "Epoch 30/100\n",
      "404/404 [==============================] - 0s 579us/step - loss: 23.2753\n",
      "Epoch 31/100\n",
      "404/404 [==============================] - 0s 364us/step - loss: 22.9403\n",
      "Epoch 32/100\n",
      "404/404 [==============================] - 0s 351us/step - loss: 26.0745\n",
      "Epoch 33/100\n",
      "404/404 [==============================] - 0s 386us/step - loss: 26.1465\n",
      "Epoch 34/100\n",
      "404/404 [==============================] - 0s 448us/step - loss: 25.5952\n",
      "Epoch 35/100\n",
      "404/404 [==============================] - 0s 319us/step - loss: 21.3884\n",
      "Epoch 36/100\n",
      "404/404 [==============================] - 0s 344us/step - loss: 19.5803\n",
      "Epoch 37/100\n",
      "404/404 [==============================] - 0s 314us/step - loss: 17.7471\n",
      "Epoch 38/100\n",
      "404/404 [==============================] - 0s 492us/step - loss: 21.3339\n",
      "Epoch 39/100\n",
      "404/404 [==============================] - 0s 349us/step - loss: 24.2870\n",
      "Epoch 40/100\n",
      "404/404 [==============================] - 0s 416us/step - loss: 28.2115\n",
      "Epoch 41/100\n",
      "404/404 [==============================] - 0s 346us/step - loss: 21.7869\n",
      "Epoch 42/100\n",
      "404/404 [==============================] - 0s 319us/step - loss: 20.5136\n",
      "Epoch 43/100\n",
      "404/404 [==============================] - 0s 336us/step - loss: 19.0477\n",
      "Epoch 44/100\n",
      "404/404 [==============================] - 0s 386us/step - loss: 19.4008\n",
      "Epoch 45/100\n",
      "404/404 [==============================] - 0s 361us/step - loss: 20.7973\n",
      "Epoch 46/100\n",
      "404/404 [==============================] - 0s 609us/step - loss: 17.6523\n",
      "Epoch 47/100\n",
      "404/404 [==============================] - 0s 386us/step - loss: 21.0621\n",
      "Epoch 48/100\n",
      "404/404 [==============================] - 0s 317us/step - loss: 29.3002\n",
      "Epoch 49/100\n",
      "404/404 [==============================] - 0s 309us/step - loss: 22.6096\n",
      "Epoch 50/100\n",
      "404/404 [==============================] - 0s 324us/step - loss: 18.8594\n",
      "Epoch 51/100\n",
      "404/404 [==============================] - 0s 344us/step - loss: 20.9593\n",
      "Epoch 52/100\n",
      "404/404 [==============================] - 0s 299us/step - loss: 19.4936\n",
      "Epoch 53/100\n",
      "404/404 [==============================] - 0s 923us/step - loss: 18.8163\n",
      "Epoch 54/100\n",
      "404/404 [==============================] - 0s 443us/step - loss: 24.0392\n",
      "Epoch 55/100\n",
      "404/404 [==============================] - 0s 423us/step - loss: 17.6446\n",
      "Epoch 56/100\n",
      "404/404 [==============================] - 0s 388us/step - loss: 15.9071\n",
      "Epoch 57/100\n",
      "404/404 [==============================] - 0s 470us/step - loss: 28.5994\n",
      "Epoch 58/100\n",
      "404/404 [==============================] - 0s 529us/step - loss: 20.1584\n",
      "Epoch 59/100\n",
      "404/404 [==============================] - 0s 537us/step - loss: 17.3201\n",
      "Epoch 60/100\n",
      "404/404 [==============================] - 0s 554us/step - loss: 15.1689\n",
      "Epoch 61/100\n",
      "404/404 [==============================] - 0s 408us/step - loss: 18.5501\n",
      "Epoch 62/100\n",
      "404/404 [==============================] - 0s 450us/step - loss: 18.0954\n",
      "Epoch 63/100\n",
      "404/404 [==============================] - 0s 500us/step - loss: 18.3079\n",
      "Epoch 64/100\n",
      "404/404 [==============================] - 0s 381us/step - loss: 17.8645\n",
      "Epoch 65/100\n",
      "404/404 [==============================] - 0s 349us/step - loss: 24.1840\n",
      "Epoch 66/100\n",
      "404/404 [==============================] - 0s 648us/step - loss: 16.4826\n",
      "Epoch 67/100\n",
      "404/404 [==============================] - 0s 507us/step - loss: 24.1453\n",
      "Epoch 68/100\n",
      "404/404 [==============================] - 0s 542us/step - loss: 22.1314\n",
      "Epoch 69/100\n",
      "404/404 [==============================] - 0s 361us/step - loss: 16.5122\n",
      "Epoch 70/100\n",
      "404/404 [==============================] - 0s 386us/step - loss: 16.1070\n",
      "Epoch 71/100\n",
      "404/404 [==============================] - 0s 396us/step - loss: 19.8031\n",
      "Epoch 72/100\n",
      "404/404 [==============================] - 0s 341us/step - loss: 19.0164\n",
      "Epoch 73/100\n",
      "404/404 [==============================] - 0s 811us/step - loss: 14.6626\n",
      "Epoch 74/100\n",
      "404/404 [==============================] - 0s 435us/step - loss: 17.8766\n",
      "Epoch 75/100\n",
      "404/404 [==============================] - 0s 351us/step - loss: 21.8842\n",
      "Epoch 76/100\n",
      "404/404 [==============================] - 0s 324us/step - loss: 19.5361\n",
      "Epoch 77/100\n",
      "404/404 [==============================] - 0s 364us/step - loss: 17.5406\n",
      "Epoch 78/100\n",
      "404/404 [==============================] - 0s 374us/step - loss: 19.1994\n",
      "Epoch 79/100\n",
      "404/404 [==============================] - 0s 559us/step - loss: 17.3745\n",
      "Epoch 80/100\n",
      "404/404 [==============================] - 0s 532us/step - loss: 18.9223\n",
      "Epoch 81/100\n",
      "404/404 [==============================] - 0s 576us/step - loss: 17.9724\n",
      "Epoch 82/100\n",
      "404/404 [==============================] - 0s 406us/step - loss: 17.1419\n",
      "Epoch 83/100\n",
      "404/404 [==============================] - 0s 403us/step - loss: 15.2121\n",
      "Epoch 84/100\n",
      "404/404 [==============================] - 0s 609us/step - loss: 17.3586\n",
      "Epoch 85/100\n",
      "404/404 [==============================] - 0s 346us/step - loss: 22.4500\n",
      "Epoch 86/100\n",
      "404/404 [==============================] - 0s 361us/step - loss: 15.9329\n",
      "Epoch 87/100\n",
      "404/404 [==============================] - 0s 614us/step - loss: 14.7430\n",
      "Epoch 88/100\n",
      "404/404 [==============================] - 0s 430us/step - loss: 14.7722\n",
      "Epoch 89/100\n",
      "404/404 [==============================] - 0s 562us/step - loss: 13.0872\n",
      "Epoch 90/100\n",
      "404/404 [==============================] - 0s 450us/step - loss: 15.5113\n",
      "Epoch 91/100\n",
      "404/404 [==============================] - 0s 413us/step - loss: 20.9573\n",
      "Epoch 92/100\n",
      "404/404 [==============================] - 0s 361us/step - loss: 25.0506\n",
      "Epoch 93/100\n",
      "404/404 [==============================] - 0s 364us/step - loss: 16.0396\n",
      "Epoch 94/100\n",
      "404/404 [==============================] - 0s 730us/step - loss: 22.8249\n",
      "Epoch 95/100\n",
      "404/404 [==============================] - 0s 482us/step - loss: 16.4664\n",
      "Epoch 96/100\n"
     ]
    },
    {
     "name": "stdout",
     "output_type": "stream",
     "text": [
      "404/404 [==============================] - 0s 349us/step - loss: 16.1410\n",
      "Epoch 97/100\n",
      "404/404 [==============================] - 0s 349us/step - loss: 18.0126\n",
      "Epoch 98/100\n",
      "404/404 [==============================] - 0s 334us/step - loss: 17.0941\n",
      "Epoch 99/100\n",
      "404/404 [==============================] - 0s 374us/step - loss: 24.1891\n",
      "Epoch 100/100\n",
      "404/404 [==============================] - 0s 433us/step - loss: 17.6754\n"
     ]
    },
    {
     "data": {
      "text/plain": [
       "<tensorflow.python.keras.callbacks.History at 0x2202dacff28>"
      ]
     },
     "execution_count": 651,
     "metadata": {},
     "output_type": "execute_result"
    }
   ],
   "source": [
    "model_boston.fit(X_train_boston,y_train_boston,epochs=100)"
   ]
  },
  {
   "cell_type": "code",
   "execution_count": 652,
   "metadata": {
    "scrolled": true
   },
   "outputs": [
    {
     "data": {
      "text/plain": [
       "array([13.901374 , 20.337719 , 21.278582 , 37.597572 , 26.946499 ,\n",
       "       21.38446  , 39.768806 , 25.564949 , 19.906519 , 19.899376 ,\n",
       "       19.872349 , 18.18703  , 15.045628 , 41.80566  , 19.000334 ,\n",
       "       21.666996 , 28.259417 , 22.9476   , 19.760763 , 19.964777 ,\n",
       "       13.901375 , 14.004792 , 20.864904 , 19.66957  , 20.715708 ,\n",
       "       22.533686 , 37.678093 , 29.979378 , 13.901374 , 21.38217  ,\n",
       "       23.873253 , 13.901375 , 29.783869 , 22.836262 , 20.215439 ,\n",
       "       13.901374 , 14.109653 , 18.163536 , 18.730417 , 25.418623 ,\n",
       "       24.513168 , 29.317616 , 13.913697 , 41.728554 , 28.291185 ,\n",
       "       23.22245  , 30.136227 , 19.878973 , 20.53765  , 22.463171 ,\n",
       "       29.446644 , 20.255283 , 13.901427 , 14.28129  , 39.219074 ,\n",
       "       27.370905 , 13.901473 , 41.805614 , 30.421799 , 22.272724 ,\n",
       "       20.125593 , 13.946228 , 13.901374 , 20.368042 , 26.464693 ,\n",
       "       22.94166  , 13.901375 , 24.94749  , 13.901374 , 13.901374 ,\n",
       "       19.821815 , 27.90783  , 20.642256 , 13.901433 , 28.641344 ,\n",
       "       20.378075 , 21.24808  , 29.124674 , 38.62899  , 13.901374 ,\n",
       "       23.049335 , 41.800125 , 19.848    , 13.903846 , 19.91858  ,\n",
       "       20.26051  , 19.324163 , 20.974838 , 25.371315 , 26.724583 ,\n",
       "       20.243307 , 20.694351 , 28.677227 , 41.148655 , 38.584946 ,\n",
       "       19.11426  , 29.704037 , 19.226921 , 20.370337 , 41.805504 ,\n",
       "       20.481606 , 13.9200325], dtype=float32)"
      ]
     },
     "execution_count": 652,
     "metadata": {},
     "output_type": "execute_result"
    }
   ],
   "source": [
    "model_boston.predict(X_test_boston).reshape(1,-1)[0]"
   ]
  },
  {
   "cell_type": "code",
   "execution_count": 653,
   "metadata": {},
   "outputs": [
    {
     "data": {
      "text/plain": [
       "19.258438973289618"
      ]
     },
     "execution_count": 653,
     "metadata": {},
     "output_type": "execute_result"
    }
   ],
   "source": [
    "metrics.mean_squared_error(model_boston.predict(X_test_boston).reshape(1,-1)[0],y_test_boston)"
   ]
  },
  {
   "cell_type": "code",
   "execution_count": 533,
   "metadata": {},
   "outputs": [
    {
     "data": {
      "text/plain": [
       "array([ 7.2, 18.8, 19. , 27. , 22.2, 24.5, 31.2, 22.9, 20.5, 23.2, 18.6,\n",
       "       14.5, 17.8, 50. , 20.8, 24.3, 24.2, 19.8, 19.1, 22.7, 12. , 10.2,\n",
       "       20. , 18.5, 20.9, 23. , 27.5, 30.1,  9.5, 22. , 21.2, 14.1, 33.1,\n",
       "       23.4, 20.1,  7.4, 15.4, 23.8, 20.1, 24.5, 33. , 28.4, 14.1, 46.7,\n",
       "       32.5, 29.6, 28.4, 19.8, 20.2, 25. , 35.4, 20.3,  9.7, 14.5, 34.9,\n",
       "       26.6,  7.2, 50. , 32.4, 21.6, 29.8, 13.1, 27.5, 21.2, 23.1, 21.9,\n",
       "       13. , 23.2,  8.1,  5.6, 21.7, 29.6, 19.6,  7. , 26.4, 18.9, 20.9,\n",
       "       28.1, 35.4, 10.2, 24.3, 43.1, 17.6, 15.4, 16.2, 27.1, 21.4, 21.5,\n",
       "       22.4, 25. , 16.6, 18.6, 22. , 42.8, 35.1, 21.5, 36. , 21.9, 24.1,\n",
       "       50. , 26.7, 25. ])"
      ]
     },
     "execution_count": 533,
     "metadata": {},
     "output_type": "execute_result"
    }
   ],
   "source": [
    "y_test_boston"
   ]
  },
  {
   "cell_type": "code",
   "execution_count": 267,
   "metadata": {},
   "outputs": [],
   "source": [
    "svr_boston=SVR()"
   ]
  },
  {
   "cell_type": "code",
   "execution_count": 268,
   "metadata": {},
   "outputs": [
    {
     "data": {
      "text/plain": [
       "SVR(C=1.0, cache_size=200, coef0=0.0, degree=3, epsilon=0.1, gamma='auto',\n",
       "  kernel='rbf', max_iter=-1, shrinking=True, tol=0.001, verbose=False)"
      ]
     },
     "execution_count": 268,
     "metadata": {},
     "output_type": "execute_result"
    }
   ],
   "source": [
    "svr_boston.fit(X_train_boston,y_train_boston)"
   ]
  },
  {
   "cell_type": "code",
   "execution_count": 276,
   "metadata": {},
   "outputs": [
    {
     "data": {
      "text/plain": [
       "-0.02242374210743403"
      ]
     },
     "execution_count": 276,
     "metadata": {},
     "output_type": "execute_result"
    }
   ],
   "source": [
    "svr_boston.score(X_test_boston,y_test_boston)"
   ]
  },
  {
   "cell_type": "code",
   "execution_count": 285,
   "metadata": {},
   "outputs": [],
   "source": [
    "from sklearn.model_selection import GridSearchCV"
   ]
  },
  {
   "cell_type": "code",
   "execution_count": 282,
   "metadata": {},
   "outputs": [],
   "source": [
    "grid_search_svm=GridSearchCV(svr_boston,param_grid={'kernel':['linear','rbf'],'C':[0.1,1,10,100]})"
   ]
  },
  {
   "cell_type": "code",
   "execution_count": 284,
   "metadata": {},
   "outputs": [],
   "source": [
    "rst=grid_search_svm.fit(X_train_boston,y_train_boston)"
   ]
  },
  {
   "cell_type": "code",
   "execution_count": 287,
   "metadata": {
    "scrolled": true
   },
   "outputs": [
    {
     "name": "stderr",
     "output_type": "stream",
     "text": [
      "d:\\program files\\python\\lib\\site-packages\\sklearn\\utils\\deprecation.py:122: FutureWarning: You are accessing a training score ('mean_train_score'), which will not be available by default any more in 0.21. If you need training scores, please set return_train_score=True\n",
      "  warnings.warn(*warn_args, **warn_kwargs)\n",
      "d:\\program files\\python\\lib\\site-packages\\sklearn\\utils\\deprecation.py:122: FutureWarning: You are accessing a training score ('split0_train_score'), which will not be available by default any more in 0.21. If you need training scores, please set return_train_score=True\n",
      "  warnings.warn(*warn_args, **warn_kwargs)\n",
      "d:\\program files\\python\\lib\\site-packages\\sklearn\\utils\\deprecation.py:122: FutureWarning: You are accessing a training score ('split1_train_score'), which will not be available by default any more in 0.21. If you need training scores, please set return_train_score=True\n",
      "  warnings.warn(*warn_args, **warn_kwargs)\n",
      "d:\\program files\\python\\lib\\site-packages\\sklearn\\utils\\deprecation.py:122: FutureWarning: You are accessing a training score ('split2_train_score'), which will not be available by default any more in 0.21. If you need training scores, please set return_train_score=True\n",
      "  warnings.warn(*warn_args, **warn_kwargs)\n",
      "d:\\program files\\python\\lib\\site-packages\\sklearn\\utils\\deprecation.py:122: FutureWarning: You are accessing a training score ('std_train_score'), which will not be available by default any more in 0.21. If you need training scores, please set return_train_score=True\n",
      "  warnings.warn(*warn_args, **warn_kwargs)\n"
     ]
    },
    {
     "data": {
      "text/plain": [
       "{'mean_fit_time': array([1.37595256e-01, 5.98986944e-03, 1.32391032e+00, 7.33645757e-03,\n",
       "        1.55650935e+01, 8.00196330e-03, 2.56709711e+01, 8.99537404e-03]),\n",
       " 'mean_score_time': array([0.00099937, 0.00233905, 0.00066566, 0.00464908, 0.00100001,\n",
       "        0.00266496, 0.00033355, 0.00233213]),\n",
       " 'mean_test_score': array([ 0.66061849, -0.03105849,  0.65333792, -0.01255665,  0.643474  ,\n",
       "         0.06858777,  0.53992006,  0.09954753]),\n",
       " 'mean_train_score': array([ 0.67889624, -0.01206665,  0.69661962,  0.13151768,  0.70331837,\n",
       "         0.80598586,  0.51960397,  0.99871143]),\n",
       " 'param_C': masked_array(data=[0.1, 0.1, 1, 1, 10, 10, 100, 100],\n",
       "              mask=[False, False, False, False, False, False, False, False],\n",
       "        fill_value='?',\n",
       "             dtype=object),\n",
       " 'param_kernel': masked_array(data=['linear', 'rbf', 'linear', 'rbf', 'linear', 'rbf',\n",
       "                    'linear', 'rbf'],\n",
       "              mask=[False, False, False, False, False, False, False, False],\n",
       "        fill_value='?',\n",
       "             dtype=object),\n",
       " 'params': [{'C': 0.1, 'kernel': 'linear'},\n",
       "  {'C': 0.1, 'kernel': 'rbf'},\n",
       "  {'C': 1, 'kernel': 'linear'},\n",
       "  {'C': 1, 'kernel': 'rbf'},\n",
       "  {'C': 10, 'kernel': 'linear'},\n",
       "  {'C': 10, 'kernel': 'rbf'},\n",
       "  {'C': 100, 'kernel': 'linear'},\n",
       "  {'C': 100, 'kernel': 'rbf'}],\n",
       " 'rank_test_score': array([1, 8, 2, 7, 3, 6, 4, 5]),\n",
       " 'split0_test_score': array([ 0.68663926, -0.00989763,  0.70724316,  0.00320611,  0.71599288,\n",
       "         0.06453592,  0.4708359 ,  0.10411367]),\n",
       " 'split0_train_score': array([ 0.65136937, -0.00191056,  0.67760733,  0.13955864,  0.6843645 ,\n",
       "         0.79405192,  0.43880773,  0.99814849]),\n",
       " 'split1_test_score': array([ 0.72503146, -0.0106125 ,  0.6569551 ,  0.01670213,  0.59603226,\n",
       "         0.1327397 ,  0.54292352,  0.12130415]),\n",
       " 'split1_train_score': array([ 0.67189371, -0.03483352,  0.70059099,  0.10205104,  0.70605168,\n",
       "         0.80093644,  0.62370544,  0.99989722]),\n",
       " 'split2_test_score': array([ 0.56950989, -0.07297584,  0.59538622, -0.05791419,  0.61820973,\n",
       "         0.0080392 ,  0.60649391,  0.07302834]),\n",
       " 'split2_train_score': array([7.13425649e-01, 5.44122323e-04, 7.11660530e-01, 1.52943364e-01,\n",
       "        7.19538931e-01, 8.22969223e-01, 4.96298758e-01, 9.98088574e-01]),\n",
       " 'std_fit_time': array([2.85604916e-03, 1.03693049e-05, 1.94698625e-01, 4.65652272e-04,\n",
       "        3.61196294e+00, 1.11867754e-05, 4.73379142e+00, 2.97360213e-07]),\n",
       " 'std_score_time': array([6.25769923e-07, 4.65764646e-04, 4.70697977e-04, 1.69080759e-03,\n",
       "        5.61957980e-07, 4.70639899e-04, 4.71707529e-04, 4.71258324e-04]),\n",
       " 'std_test_score': array([0.06607506, 0.0295315 , 0.04570871, 0.03242631, 0.05216454,\n",
       "        0.05095781, 0.05538837, 0.01996004]),\n",
       " 'std_train_score': array([0.02581372, 0.01612976, 0.01418294, 0.02154066, 0.01448938,\n",
       "        0.01233356, 0.07726207, 0.00083884])}"
      ]
     },
     "execution_count": 287,
     "metadata": {},
     "output_type": "execute_result"
    }
   ],
   "source": [
    "rst.cv_results_"
   ]
  },
  {
   "cell_type": "code",
   "execution_count": 289,
   "metadata": {},
   "outputs": [],
   "source": [
    "svr_boston=SVR(kernel=\"linear\",C=0.1)"
   ]
  },
  {
   "cell_type": "code",
   "execution_count": 290,
   "metadata": {},
   "outputs": [
    {
     "data": {
      "text/plain": [
       "SVR(C=0.1, cache_size=200, coef0=0.0, degree=3, epsilon=0.1, gamma='auto',\n",
       "  kernel='linear', max_iter=-1, shrinking=True, tol=0.001, verbose=False)"
      ]
     },
     "execution_count": 290,
     "metadata": {},
     "output_type": "execute_result"
    }
   ],
   "source": [
    "svr_boston.fit(X_train_boston,y_train_boston,)"
   ]
  },
  {
   "cell_type": "code",
   "execution_count": 291,
   "metadata": {},
   "outputs": [
    {
     "data": {
      "text/plain": [
       "array([ 8.17745591, 19.01883293, 22.2835033 , 26.95889927, 24.39678795,\n",
       "       21.01231234, 28.50692059, 24.25533344, 19.32505957, 19.85828454,\n",
       "       18.3266446 , 18.12855946, 15.98989597, 33.32782778, 16.18540684,\n",
       "       20.56438956, 24.08890441, 20.92854521, 17.55895595, 20.64997014,\n",
       "       10.01541527, 13.89679224, 21.7831427 , 14.1451175 , 22.74727427,\n",
       "       20.36830685, 27.47921883, 27.16919442, 11.68859812, 20.97318962,\n",
       "       21.75590479, 15.12952418, 31.34925173, 23.11774591, 16.75068848,\n",
       "        6.07208239, 17.094847  , 20.59826876, 14.17411048, 28.11469105,\n",
       "       23.48235173, 26.3592583 , 16.78700913, 33.10766282, 28.43401867,\n",
       "       23.76940628, 29.29445033, 18.4758186 , 21.43716586, 23.56729132,\n",
       "       31.43885609, 17.97938032, 10.06698977, 14.49805065, 31.40702085,\n",
       "       26.11568953, 16.3152989 , 37.0598665 , 32.1518911 , 23.43045978,\n",
       "       22.94246904, 18.69620514, 16.07226281, 21.11705048, 24.21842106,\n",
       "       24.39815679, 16.3479423 , 26.20599365,  3.16134286, 10.8851936 ,\n",
       "       20.8382729 , 25.44491807, 19.35647944,  7.08248783, 27.31503424,\n",
       "       20.81796765, 20.43813334, 24.33295124, 31.83416843,  6.85655915,\n",
       "       22.99418298, 34.62723648, 16.55341647, 17.44134001, 20.24171151,\n",
       "       18.6171966 , 19.02105207, 21.0504655 , 23.47543156, 24.33598735,\n",
       "       17.18529335, 19.14284481, 25.50452167, 29.444409  , 32.52237637,\n",
       "       22.2740873 , 33.7785615 , 32.24200099, 23.88944801, 33.40353403,\n",
       "       28.04028741, 22.19594685])"
      ]
     },
     "execution_count": 291,
     "metadata": {},
     "output_type": "execute_result"
    }
   ],
   "source": [
    "svr_boston.predict(X_test_boston)"
   ]
  },
  {
   "cell_type": "code",
   "execution_count": 313,
   "metadata": {},
   "outputs": [
    {
     "data": {
      "text/plain": [
       "22.375276874867165"
      ]
     },
     "execution_count": 313,
     "metadata": {},
     "output_type": "execute_result"
    }
   ],
   "source": [
    "metrics.mean_squared_error(svr_boston.predict(X_test_boston),y_test_boston)"
   ]
  },
  {
   "cell_type": "code",
   "execution_count": null,
   "metadata": {},
   "outputs": [],
   "source": []
  }
 ],
 "metadata": {
  "kernelspec": {
   "display_name": "Python 3",
   "language": "python",
   "name": "python3"
  },
  "language_info": {
   "codemirror_mode": {
    "name": "ipython",
    "version": 3
   },
   "file_extension": ".py",
   "mimetype": "text/x-python",
   "name": "python",
   "nbconvert_exporter": "python",
   "pygments_lexer": "ipython3",
   "version": "3.5.4"
  }
 },
 "nbformat": 4,
 "nbformat_minor": 2
}
