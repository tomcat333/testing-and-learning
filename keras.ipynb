{
 "cells": [
  {
   "cell_type": "code",
   "execution_count": 1,
   "metadata": {},
   "outputs": [],
   "source": [
    "import numpy as np"
   ]
  },
  {
   "cell_type": "code",
   "execution_count": 2,
   "metadata": {},
   "outputs": [],
   "source": [
    "import tensorflow as tf"
   ]
  },
  {
   "cell_type": "code",
   "execution_count": 3,
   "metadata": {},
   "outputs": [],
   "source": [
    "import sklearn"
   ]
  },
  {
   "cell_type": "code",
   "execution_count": 4,
   "metadata": {},
   "outputs": [
    {
     "name": "stderr",
     "output_type": "stream",
     "text": [
      "Using TensorFlow backend.\n"
     ]
    }
   ],
   "source": [
    "import keras"
   ]
  },
  {
   "cell_type": "code",
   "execution_count": 5,
   "metadata": {},
   "outputs": [],
   "source": [
    "from keras.models import Sequential"
   ]
  },
  {
   "cell_type": "code",
   "execution_count": 6,
   "metadata": {},
   "outputs": [],
   "source": [
    "from keras.layers import Dense"
   ]
  },
  {
   "cell_type": "code",
   "execution_count": 7,
   "metadata": {},
   "outputs": [],
   "source": [
    "from tensorflow.examples.tutorials.mnist import input_data"
   ]
  },
  {
   "cell_type": "code",
   "execution_count": 8,
   "metadata": {
    "scrolled": true
   },
   "outputs": [
    {
     "name": "stdout",
     "output_type": "stream",
     "text": [
      "WARNING:tensorflow:From <ipython-input-8-c99e03515d4a>:1: read_data_sets (from tensorflow.contrib.learn.python.learn.datasets.mnist) is deprecated and will be removed in a future version.\n",
      "Instructions for updating:\n",
      "Please use alternatives such as official/mnist/dataset.py from tensorflow/models.\n",
      "WARNING:tensorflow:From d:\\program files\\python\\lib\\site-packages\\tensorflow\\contrib\\learn\\python\\learn\\datasets\\mnist.py:260: maybe_download (from tensorflow.contrib.learn.python.learn.datasets.base) is deprecated and will be removed in a future version.\n",
      "Instructions for updating:\n",
      "Please write your own downloading logic.\n",
      "WARNING:tensorflow:From d:\\program files\\python\\lib\\site-packages\\tensorflow\\contrib\\learn\\python\\learn\\datasets\\mnist.py:262: extract_images (from tensorflow.contrib.learn.python.learn.datasets.mnist) is deprecated and will be removed in a future version.\n",
      "Instructions for updating:\n",
      "Please use tf.data to implement this functionality.\n",
      "Extracting MNIST_data\\train-images-idx3-ubyte.gz\n",
      "WARNING:tensorflow:From d:\\program files\\python\\lib\\site-packages\\tensorflow\\contrib\\learn\\python\\learn\\datasets\\mnist.py:267: extract_labels (from tensorflow.contrib.learn.python.learn.datasets.mnist) is deprecated and will be removed in a future version.\n",
      "Instructions for updating:\n",
      "Please use tf.data to implement this functionality.\n",
      "Extracting MNIST_data\\train-labels-idx1-ubyte.gz\n",
      "WARNING:tensorflow:From d:\\program files\\python\\lib\\site-packages\\tensorflow\\contrib\\learn\\python\\learn\\datasets\\mnist.py:110: dense_to_one_hot (from tensorflow.contrib.learn.python.learn.datasets.mnist) is deprecated and will be removed in a future version.\n",
      "Instructions for updating:\n",
      "Please use tf.one_hot on tensors.\n",
      "Extracting MNIST_data\\t10k-images-idx3-ubyte.gz\n",
      "Extracting MNIST_data\\t10k-labels-idx1-ubyte.gz\n",
      "WARNING:tensorflow:From d:\\program files\\python\\lib\\site-packages\\tensorflow\\contrib\\learn\\python\\learn\\datasets\\mnist.py:290: DataSet.__init__ (from tensorflow.contrib.learn.python.learn.datasets.mnist) is deprecated and will be removed in a future version.\n",
      "Instructions for updating:\n",
      "Please use alternatives such as official/mnist/dataset.py from tensorflow/models.\n"
     ]
    }
   ],
   "source": [
    "DATAS=input_data.read_data_sets('MNIST_data',one_hot=True)"
   ]
  },
  {
   "cell_type": "code",
   "execution_count": 9,
   "metadata": {},
   "outputs": [],
   "source": [
    "X_train=DATAS.train.images"
   ]
  },
  {
   "cell_type": "code",
   "execution_count": 10,
   "metadata": {},
   "outputs": [],
   "source": [
    "y_train=DATAS.train.labels"
   ]
  },
  {
   "cell_type": "code",
   "execution_count": 11,
   "metadata": {},
   "outputs": [],
   "source": [
    "X_test=DATAS.test.images\n",
    "y_test=DATAS.test.labels"
   ]
  },
  {
   "cell_type": "code",
   "execution_count": 11,
   "metadata": {},
   "outputs": [],
   "source": [
    "model=Sequential()"
   ]
  },
  {
   "cell_type": "code",
   "execution_count": 12,
   "metadata": {},
   "outputs": [],
   "source": [
    "model.add(Dense(32,input_dim=784,activation='relu'))"
   ]
  },
  {
   "cell_type": "code",
   "execution_count": 23,
   "metadata": {},
   "outputs": [],
   "source": [
    "model.add(Dense(10,activation='softmax'))"
   ]
  },
  {
   "cell_type": "code",
   "execution_count": 26,
   "metadata": {},
   "outputs": [],
   "source": [
    "model.compile(loss='categorical_crossentropy',\n",
    "             optimizer='sgd',\n",
    "             metrics=['accuracy'])"
   ]
  },
  {
   "cell_type": "code",
   "execution_count": 15,
   "metadata": {},
   "outputs": [],
   "source": [
    "from IPython.display import SVG\n",
    "from keras.utils.vis_utils import model_to_dot"
   ]
  },
  {
   "cell_type": "code",
   "execution_count": 24,
   "metadata": {},
   "outputs": [
    {
     "data": {
      "image/svg+xml": [
       "<svg height=\"264pt\" viewBox=\"0.00 0.00 112.00 264.00\" width=\"112pt\" xmlns=\"http://www.w3.org/2000/svg\" xmlns:xlink=\"http://www.w3.org/1999/xlink\">\n",
       "<g class=\"graph\" id=\"graph0\" transform=\"scale(1 1) rotate(0) translate(4 260)\">\n",
       "<title>G</title>\n",
       "<polygon fill=\"white\" points=\"-4,4 -4,-260 108,-260 108,4 -4,4\" stroke=\"none\"/>\n",
       "<!-- 2410539256184 -->\n",
       "<g class=\"node\" id=\"node1\"><title>2410539256184</title>\n",
       "<polygon fill=\"none\" points=\"0,-146.5 0,-182.5 104,-182.5 104,-146.5 0,-146.5\" stroke=\"black\"/>\n",
       "<text font-family=\"Times New Roman,serif\" font-size=\"14.00\" text-anchor=\"middle\" x=\"52\" y=\"-160.8\">dense_1: Dense</text>\n",
       "</g>\n",
       "<!-- 2410539256800 -->\n",
       "<g class=\"node\" id=\"node2\"><title>2410539256800</title>\n",
       "<polygon fill=\"none\" points=\"0,-73.5 0,-109.5 104,-109.5 104,-73.5 0,-73.5\" stroke=\"black\"/>\n",
       "<text font-family=\"Times New Roman,serif\" font-size=\"14.00\" text-anchor=\"middle\" x=\"52\" y=\"-87.8\">dense_2: Dense</text>\n",
       "</g>\n",
       "<!-- 2410539256184&#45;&gt;2410539256800 -->\n",
       "<g class=\"edge\" id=\"edge2\"><title>2410539256184-&gt;2410539256800</title>\n",
       "<path d=\"M52,-146.313C52,-138.289 52,-128.547 52,-119.569\" fill=\"none\" stroke=\"black\"/>\n",
       "<polygon fill=\"black\" points=\"55.5001,-119.529 52,-109.529 48.5001,-119.529 55.5001,-119.529\" stroke=\"black\"/>\n",
       "</g>\n",
       "<!-- 2410539255568 -->\n",
       "<g class=\"node\" id=\"node3\"><title>2410539255568</title>\n",
       "<polygon fill=\"none\" points=\"0,-0.5 0,-36.5 104,-36.5 104,-0.5 0,-0.5\" stroke=\"black\"/>\n",
       "<text font-family=\"Times New Roman,serif\" font-size=\"14.00\" text-anchor=\"middle\" x=\"52\" y=\"-14.8\">dense_3: Dense</text>\n",
       "</g>\n",
       "<!-- 2410539256800&#45;&gt;2410539255568 -->\n",
       "<g class=\"edge\" id=\"edge3\"><title>2410539256800-&gt;2410539255568</title>\n",
       "<path d=\"M52,-73.3129C52,-65.2895 52,-55.5475 52,-46.5691\" fill=\"none\" stroke=\"black\"/>\n",
       "<polygon fill=\"black\" points=\"55.5001,-46.5288 52,-36.5288 48.5001,-46.5289 55.5001,-46.5288\" stroke=\"black\"/>\n",
       "</g>\n",
       "<!-- 2410539256576 -->\n",
       "<g class=\"node\" id=\"node4\"><title>2410539256576</title>\n",
       "<polygon fill=\"none\" points=\"0,-219.5 0,-255.5 104,-255.5 104,-219.5 0,-219.5\" stroke=\"black\"/>\n",
       "<text font-family=\"Times New Roman,serif\" font-size=\"14.00\" text-anchor=\"middle\" x=\"52\" y=\"-233.8\">2410539256576</text>\n",
       "</g>\n",
       "<!-- 2410539256576&#45;&gt;2410539256184 -->\n",
       "<g class=\"edge\" id=\"edge1\"><title>2410539256576-&gt;2410539256184</title>\n",
       "<path d=\"M52,-219.313C52,-211.289 52,-201.547 52,-192.569\" fill=\"none\" stroke=\"black\"/>\n",
       "<polygon fill=\"black\" points=\"55.5001,-192.529 52,-182.529 48.5001,-192.529 55.5001,-192.529\" stroke=\"black\"/>\n",
       "</g>\n",
       "</g>\n",
       "</svg>"
      ],
      "text/plain": [
       "<IPython.core.display.SVG object>"
      ]
     },
     "execution_count": 24,
     "metadata": {},
     "output_type": "execute_result"
    }
   ],
   "source": [
    "SVG(model_to_dot(model).create(prog='dot', format='svg'))"
   ]
  },
  {
   "cell_type": "code",
   "execution_count": 22,
   "metadata": {},
   "outputs": [],
   "source": [
    "from keras.utils import plot_model\n",
    "plot_model(model, show_shapes=True,to_file='model.png')"
   ]
  },
  {
   "cell_type": "code",
   "execution_count": 27,
   "metadata": {
    "scrolled": true
   },
   "outputs": [
    {
     "name": "stdout",
     "output_type": "stream",
     "text": [
      "Epoch 1/20\n",
      "55000/55000 [==============================] - 2s 36us/step - loss: 1.5880 - acc: 0.8467\n",
      "Epoch 2/20\n",
      "55000/55000 [==============================] - 2s 32us/step - loss: 0.8791 - acc: 0.9555\n",
      "Epoch 3/20\n",
      "55000/55000 [==============================] - 2s 31us/step - loss: 0.5546 - acc: 0.9572\n",
      "Epoch 4/20\n",
      "55000/55000 [==============================] - 2s 31us/step - loss: 0.4061 - acc: 0.9583\n",
      "Epoch 5/20\n",
      "55000/55000 [==============================] - 2s 32us/step - loss: 0.3277 - acc: 0.9605\n",
      "Epoch 6/20\n",
      "55000/55000 [==============================] - 2s 31us/step - loss: 0.2809 - acc: 0.9616\n",
      "Epoch 7/20\n",
      "55000/55000 [==============================] - 2s 32us/step - loss: 0.2492 - acc: 0.9631\n",
      "Epoch 8/20\n",
      "55000/55000 [==============================] - 2s 32us/step - loss: 0.2268 - acc: 0.9640\n",
      "Epoch 9/20\n",
      "55000/55000 [==============================] - 2s 34us/step - loss: 0.2096 - acc: 0.9655\n",
      "Epoch 10/20\n",
      "55000/55000 [==============================] - 2s 34us/step - loss: 0.1956 - acc: 0.9667\n",
      "Epoch 11/20\n",
      "55000/55000 [==============================] - 2s 33us/step - loss: 0.1842 - acc: 0.9680\n",
      "Epoch 12/20\n",
      "55000/55000 [==============================] - 2s 34us/step - loss: 0.1751 - acc: 0.9685\n",
      "Epoch 13/20\n",
      "55000/55000 [==============================] - 2s 33us/step - loss: 0.1668 - acc: 0.9694\n",
      "Epoch 14/20\n",
      "55000/55000 [==============================] - 2s 33us/step - loss: 0.1593 - acc: 0.9710\n",
      "Epoch 15/20\n",
      "55000/55000 [==============================] - 2s 32us/step - loss: 0.1528 - acc: 0.9714\n",
      "Epoch 16/20\n",
      "55000/55000 [==============================] - 2s 32us/step - loss: 0.1472 - acc: 0.9725\n",
      "Epoch 17/20\n",
      "55000/55000 [==============================] - 2s 32us/step - loss: 0.1416 - acc: 0.9732\n",
      "Epoch 18/20\n",
      "55000/55000 [==============================] - 2s 32us/step - loss: 0.1370 - acc: 0.9739\n",
      "Epoch 19/20\n",
      "55000/55000 [==============================] - 2s 31us/step - loss: 0.1330 - acc: 0.9746\n",
      "Epoch 20/20\n",
      "55000/55000 [==============================] - 2s 33us/step - loss: 0.1287 - acc: 0.9756\n"
     ]
    },
    {
     "data": {
      "text/plain": [
       "<keras.callbacks.History at 0x2313f7a9080>"
      ]
     },
     "execution_count": 27,
     "metadata": {},
     "output_type": "execute_result"
    }
   ],
   "source": [
    "model.fit(X_train,y_train,epochs=20)"
   ]
  },
  {
   "cell_type": "code",
   "execution_count": 28,
   "metadata": {},
   "outputs": [
    {
     "name": "stdout",
     "output_type": "stream",
     "text": [
      "10000/10000 [==============================] - 0s 21us/step\n"
     ]
    }
   ],
   "source": [
    "loss_and_metrics=model.evaluate(X_test,y_test)"
   ]
  },
  {
   "cell_type": "code",
   "execution_count": 20,
   "metadata": {},
   "outputs": [
    {
     "data": {
      "text/plain": [
       "[0.1563457353912294, 0.9533]"
      ]
     },
     "execution_count": 20,
     "metadata": {},
     "output_type": "execute_result"
    }
   ],
   "source": [
    "loss_and_metrics"
   ]
  },
  {
   "cell_type": "code",
   "execution_count": 29,
   "metadata": {},
   "outputs": [
    {
     "data": {
      "text/plain": [
       "[0.1686404246389866, 0.9614]"
      ]
     },
     "execution_count": 29,
     "metadata": {},
     "output_type": "execute_result"
    }
   ],
   "source": [
    "loss_and_metrics"
   ]
  },
  {
   "cell_type": "code",
   "execution_count": 31,
   "metadata": {
    "scrolled": true
   },
   "outputs": [
    {
     "name": "stdout",
     "output_type": "stream",
     "text": [
      "Epoch 1/10\n",
      "100/100 [==============================] - 5s 49ms/step - loss: 2.3257\n",
      "Epoch 2/10\n",
      "100/100 [==============================] - 4s 38ms/step - loss: 2.3481\n",
      "Epoch 3/10\n",
      "100/100 [==============================] - 4s 38ms/step - loss: 2.2928\n",
      "Epoch 4/10\n",
      "100/100 [==============================] - 4s 38ms/step - loss: 2.2858\n",
      "Epoch 5/10\n",
      "100/100 [==============================] - 4s 38ms/step - loss: 2.2683\n",
      "Epoch 6/10\n",
      "100/100 [==============================] - 4s 38ms/step - loss: 2.3105\n",
      "Epoch 7/10\n",
      "100/100 [==============================] - 4s 38ms/step - loss: 2.3099\n",
      "Epoch 8/10\n",
      "100/100 [==============================] - 4s 38ms/step - loss: 2.2768\n",
      "Epoch 9/10\n",
      "100/100 [==============================] - 4s 39ms/step - loss: 2.2936\n",
      "Epoch 10/10\n",
      "100/100 [==============================] - 4s 39ms/step - loss: 2.2883\n",
      "20/20 [==============================] - 1s 39ms/step\n"
     ]
    }
   ],
   "source": [
    "import numpy as np\n",
    "import keras\n",
    "from keras.models import Sequential\n",
    "from keras.layers import Dense, Dropout, Flatten\n",
    "from keras.layers import Conv2D, MaxPooling2D\n",
    "from keras.optimizers import SGD\n",
    "\n",
    "# Generate dummy data\n",
    "x_train = np.random.random((100, 100, 100, 3))\n",
    "y_train = keras.utils.to_categorical(np.random.randint(10, size=(100, 1)), num_classes=10)\n",
    "x_test = np.random.random((20, 100, 100, 3))\n",
    "y_test = keras.utils.to_categorical(np.random.randint(10, size=(20, 1)), num_classes=10)\n",
    "\n",
    "model = Sequential()\n",
    "# input: 100x100 images with 3 channels -> (100, 100, 3) tensors.\n",
    "# this applies 32 convolution filters of size 3x3 each.\n",
    "model.add(Conv2D(32, (3, 3), activation='relu', input_shape=(100, 100, 3)))\n",
    "model.add(Conv2D(32, (3, 3), activation='relu'))\n",
    "model.add(MaxPooling2D(pool_size=(2, 2)))\n",
    "model.add(Dropout(0.25))\n",
    "\n",
    "model.add(Conv2D(64, (3, 3), activation='relu'))\n",
    "model.add(Conv2D(64, (3, 3), activation='relu'))\n",
    "model.add(MaxPooling2D(pool_size=(2, 2)))\n",
    "model.add(Dropout(0.25))\n",
    "\n",
    "model.add(Flatten())\n",
    "model.add(Dense(256, activation='relu'))\n",
    "model.add(Dropout(0.5))\n",
    "model.add(Dense(10, activation='softmax'))\n",
    "\n",
    "sgd = SGD(lr=0.01, decay=1e-6, momentum=0.9, nesterov=True)\n",
    "model.compile(loss='categorical_crossentropy', optimizer=sgd)\n",
    "\n",
    "model.fit(x_train, y_train, batch_size=32, epochs=10)\n",
    "score = model.evaluate(x_test, y_test, batch_size=32)"
   ]
  },
  {
   "cell_type": "code",
   "execution_count": 33,
   "metadata": {},
   "outputs": [],
   "source": [
    "from keras.utils import plot_model\n",
    "plot_model(model,show_shapes=True,to_file='conv2d.png')"
   ]
  },
  {
   "cell_type": "code",
   "execution_count": 35,
   "metadata": {
    "scrolled": true
   },
   "outputs": [
    {
     "name": "stdout",
     "output_type": "stream",
     "text": [
      "Train on 1000 samples, validate on 100 samples\n",
      "Epoch 1/5\n",
      "1000/1000 [==============================] - 3s 3ms/step - loss: 11.5141 - acc: 0.1090 - val_loss: 11.8979 - val_acc: 0.1300\n",
      "Epoch 2/5\n",
      "1000/1000 [==============================] - 0s 262us/step - loss: 11.5128 - acc: 0.1090 - val_loss: 11.8969 - val_acc: 0.1200\n",
      "Epoch 3/5\n",
      "1000/1000 [==============================] - 0s 209us/step - loss: 11.5126 - acc: 0.1200 - val_loss: 11.8949 - val_acc: 0.1300\n",
      "Epoch 4/5\n",
      "1000/1000 [==============================] - 0s 221us/step - loss: 11.5117 - acc: 0.1120 - val_loss: 11.8954 - val_acc: 0.0600\n",
      "Epoch 5/5\n",
      "1000/1000 [==============================] - 0s 186us/step - loss: 11.5111 - acc: 0.1220 - val_loss: 11.8962 - val_acc: 0.1500\n"
     ]
    },
    {
     "data": {
      "text/plain": [
       "<keras.callbacks.History at 0x2313f65eb38>"
      ]
     },
     "execution_count": 35,
     "metadata": {},
     "output_type": "execute_result"
    }
   ],
   "source": [
    "from keras.models import Sequential\n",
    "from keras.layers import LSTM, Dense\n",
    "import numpy as np\n",
    "\n",
    "data_dim = 16\n",
    "timesteps = 8\n",
    "num_classes = 10\n",
    "\n",
    "# expected input data shape: (batch_size, timesteps, data_dim)\n",
    "model = Sequential()\n",
    "model.add(LSTM(32, return_sequences=True,\n",
    "               input_shape=(timesteps, data_dim)))  # returns a sequence of vectors of dimension 32\n",
    "model.add(LSTM(32, return_sequences=True))  # returns a sequence of vectors of dimension 32\n",
    "model.add(LSTM(32))  # return a single vector of dimension 32\n",
    "model.add(Dense(10, activation='softmax'))\n",
    "\n",
    "model.compile(loss='categorical_crossentropy',\n",
    "              optimizer='rmsprop',\n",
    "              metrics=['accuracy'])\n",
    "\n",
    "# Generate dummy training data\n",
    "x_train = np.random.random((1000, timesteps, data_dim))\n",
    "y_train = np.random.random((1000, num_classes))\n",
    "\n",
    "# Generate dummy validation data\n",
    "x_val = np.random.random((100, timesteps, data_dim))\n",
    "y_val = np.random.random((100, num_classes))\n",
    "\n",
    "model.fit(x_train, y_train,\n",
    "          batch_size=64, epochs=5,\n",
    "          validation_data=(x_val, y_val))"
   ]
  },
  {
   "cell_type": "code",
   "execution_count": 36,
   "metadata": {},
   "outputs": [],
   "source": [
    "from keras.utils import plot_model\n",
    "plot_model(model,show_shapes=True,to_file='lstm.png')"
   ]
  },
  {
   "cell_type": "code",
   "execution_count": 41,
   "metadata": {},
   "outputs": [],
   "source": [
    "from keras.layers import Conv2D,MaxPooling2D,Flatten"
   ]
  },
  {
   "cell_type": "code",
   "execution_count": 155,
   "metadata": {},
   "outputs": [],
   "source": [
    "from keras.layers import Dropout"
   ]
  },
  {
   "cell_type": "code",
   "execution_count": 43,
   "metadata": {},
   "outputs": [
    {
     "data": {
      "text/plain": [
       "((55000, 784), (1000, 10))"
      ]
     },
     "execution_count": 43,
     "metadata": {},
     "output_type": "execute_result"
    }
   ],
   "source": [
    "X_train.shape,y_train.shape"
   ]
  },
  {
   "cell_type": "code",
   "execution_count": 44,
   "metadata": {},
   "outputs": [
    {
     "data": {
      "text/plain": [
       "((10000, 784), (20, 10))"
      ]
     },
     "execution_count": 44,
     "metadata": {},
     "output_type": "execute_result"
    }
   ],
   "source": [
    "X_test.shape,y_test.shape"
   ]
  },
  {
   "cell_type": "code",
   "execution_count": 45,
   "metadata": {},
   "outputs": [],
   "source": [
    "y_train=DATAS.train.labels\n",
    "y_test=DATAS.test.labels"
   ]
  },
  {
   "cell_type": "code",
   "execution_count": 46,
   "metadata": {},
   "outputs": [
    {
     "data": {
      "text/plain": [
       "((55000, 10), (10000, 10))"
      ]
     },
     "execution_count": 46,
     "metadata": {},
     "output_type": "execute_result"
    }
   ],
   "source": [
    "y_train.shape,y_test.shape"
   ]
  },
  {
   "cell_type": "code",
   "execution_count": 198,
   "metadata": {},
   "outputs": [],
   "source": [
    "model=Sequential()"
   ]
  },
  {
   "cell_type": "code",
   "execution_count": 199,
   "metadata": {},
   "outputs": [],
   "source": [
    "model.add(Conv2D(32,(2,2),padding='same',activation='relu',input_shape=(28,28,1)))"
   ]
  },
  {
   "cell_type": "code",
   "execution_count": 200,
   "metadata": {},
   "outputs": [],
   "source": [
    "model.add(MaxPooling2D((2,2),strides=(2,2),padding='same'))"
   ]
  },
  {
   "cell_type": "code",
   "execution_count": 201,
   "metadata": {},
   "outputs": [],
   "source": [
    "model.add(Conv2D(64,(2,2),padding='same',activation='relu'))"
   ]
  },
  {
   "cell_type": "code",
   "execution_count": 202,
   "metadata": {},
   "outputs": [],
   "source": [
    "model.add(MaxPooling2D((2,2),strides=(2,2),padding='same'))"
   ]
  },
  {
   "cell_type": "code",
   "execution_count": 203,
   "metadata": {},
   "outputs": [],
   "source": [
    "model.add(Flatten())"
   ]
  },
  {
   "cell_type": "code",
   "execution_count": 204,
   "metadata": {},
   "outputs": [],
   "source": [
    "model.add(Dense(1024,activation='relu'))"
   ]
  },
  {
   "cell_type": "code",
   "execution_count": 205,
   "metadata": {},
   "outputs": [],
   "source": [
    "model.add(Dropout(rate=0.5))"
   ]
  },
  {
   "cell_type": "code",
   "execution_count": 206,
   "metadata": {},
   "outputs": [],
   "source": [
    "model.add(Dense(10,activation='softmax'))"
   ]
  },
  {
   "cell_type": "code",
   "execution_count": 207,
   "metadata": {},
   "outputs": [],
   "source": [
    "from keras.optimizers import SGD"
   ]
  },
  {
   "cell_type": "code",
   "execution_count": 208,
   "metadata": {},
   "outputs": [],
   "source": [
    "sgd=SGD(lr=0.01,decay=1e-6,momentum=0.9,nesterov=True)"
   ]
  },
  {
   "cell_type": "code",
   "execution_count": 209,
   "metadata": {},
   "outputs": [],
   "source": [
    "model.compile(loss='categorical_crossentropy',optimizer=sgd,metrics=['accuracy'])"
   ]
  },
  {
   "cell_type": "code",
   "execution_count": 210,
   "metadata": {},
   "outputs": [],
   "source": [
    "from keras.utils import plot_model\n",
    "plot_model(model,show_shapes=True,to_file='try_cnn.png')"
   ]
  },
  {
   "cell_type": "code",
   "execution_count": 211,
   "metadata": {
    "scrolled": true
   },
   "outputs": [
    {
     "name": "stdout",
     "output_type": "stream",
     "text": [
      "Epoch 1/5\n",
      "55000/55000 [==============================] - 1016s 18ms/step - loss: 0.2651 - acc: 0.9157\n",
      "Epoch 2/5\n",
      "55000/55000 [==============================] - 1017s 18ms/step - loss: 0.0862 - acc: 0.9726\n",
      "Epoch 3/5\n",
      "55000/55000 [==============================] - 918s 17ms/step - loss: 0.0599 - acc: 0.9812\n",
      "Epoch 4/5\n",
      "55000/55000 [==============================] - 909s 17ms/step - loss: 0.0480 - acc: 0.9849\n",
      "Epoch 5/5\n",
      "55000/55000 [==============================] - 912s 17ms/step - loss: 0.0390 - acc: 0.9874\n"
     ]
    },
    {
     "data": {
      "text/plain": [
       "<keras.callbacks.History at 0x23175e22048>"
      ]
     },
     "execution_count": 211,
     "metadata": {},
     "output_type": "execute_result"
    }
   ],
   "source": [
    "model.fit(X_train.reshape(-1,28,28,1),y_train,epochs=5)"
   ]
  },
  {
   "cell_type": "code",
   "execution_count": 213,
   "metadata": {},
   "outputs": [
    {
     "name": "stdout",
     "output_type": "stream",
     "text": [
      "1000/1000 [==============================] - 0s 412us/step\n"
     ]
    },
    {
     "data": {
      "text/plain": [
       "[0.04233231209218502, 0.983]"
      ]
     },
     "execution_count": 213,
     "metadata": {},
     "output_type": "execute_result"
    }
   ],
   "source": [
    "model.evaluate(X_test.reshape(-1,28,28,1)[:1000,:,:,:],y_test[:1000])"
   ]
  },
  {
   "cell_type": "code",
   "execution_count": 172,
   "metadata": {},
   "outputs": [],
   "source": [
    "from keras.layers import LSTM"
   ]
  },
  {
   "cell_type": "code",
   "execution_count": 189,
   "metadata": {},
   "outputs": [],
   "source": [
    "model_lstm=Sequential()"
   ]
  },
  {
   "cell_type": "code",
   "execution_count": 190,
   "metadata": {},
   "outputs": [],
   "source": [
    "model_lstm.add(LSTM(32,return_sequences=True,input_shape=(28,28)))"
   ]
  },
  {
   "cell_type": "code",
   "execution_count": 191,
   "metadata": {},
   "outputs": [],
   "source": [
    "model_lstm.add(LSTM(32,return_sequences=True))"
   ]
  },
  {
   "cell_type": "code",
   "execution_count": 192,
   "metadata": {},
   "outputs": [],
   "source": [
    "model_lstm.add(LSTM(32))"
   ]
  },
  {
   "cell_type": "code",
   "execution_count": 193,
   "metadata": {},
   "outputs": [],
   "source": [
    "model_lstm.add(Dense(10,activation='softmax'))"
   ]
  },
  {
   "cell_type": "code",
   "execution_count": 194,
   "metadata": {},
   "outputs": [],
   "source": [
    "model_lstm.compile(loss='categorical_crossentropy',\n",
    "             optimizer='rmsprop',\n",
    "             metrics=['accuracy'])"
   ]
  },
  {
   "cell_type": "code",
   "execution_count": 195,
   "metadata": {},
   "outputs": [],
   "source": [
    "plot_model(model_lstm,show_shapes=True,to_file='try_lstm.png')"
   ]
  },
  {
   "cell_type": "code",
   "execution_count": 196,
   "metadata": {},
   "outputs": [
    {
     "name": "stdout",
     "output_type": "stream",
     "text": [
      "Epoch 1/5\n",
      "55000/55000 [==============================] - 58s 1ms/step - loss: 0.5954 - acc: 0.8085: 0s - loss: 0.5991 -\n",
      "Epoch 2/5\n",
      "55000/55000 [==============================] - 53s 960us/step - loss: 0.1911 - acc: 0.9430\n",
      "Epoch 3/5\n",
      "55000/55000 [==============================] - 53s 956us/step - loss: 0.1229 - acc: 0.9635\n",
      "Epoch 4/5\n",
      "55000/55000 [==============================] - 54s 980us/step - loss: 0.0892 - acc: 0.9735\n",
      "Epoch 5/5\n",
      "55000/55000 [==============================] - 53s 964us/step - loss: 0.0730 - acc: 0.9787\n"
     ]
    },
    {
     "data": {
      "text/plain": [
       "<keras.callbacks.History at 0x2314605d7b8>"
      ]
     },
     "execution_count": 196,
     "metadata": {},
     "output_type": "execute_result"
    }
   ],
   "source": [
    "model_lstm.fit(X_train.reshape(-1,28,28),y_train,epochs=5)"
   ]
  },
  {
   "cell_type": "code",
   "execution_count": 187,
   "metadata": {},
   "outputs": [
    {
     "name": "stdout",
     "output_type": "stream",
     "text": [
      "10000/10000 [==============================] - 3s 283us/step\n"
     ]
    },
    {
     "data": {
      "text/plain": [
       "[0.18842802984714507, 0.9434]"
      ]
     },
     "execution_count": 187,
     "metadata": {},
     "output_type": "execute_result"
    }
   ],
   "source": [
    "model_lstm.evaluate(X_test.reshape(-1,28,28),y_test)"
   ]
  },
  {
   "cell_type": "code",
   "execution_count": 197,
   "metadata": {},
   "outputs": [
    {
     "name": "stdout",
     "output_type": "stream",
     "text": [
      "10000/10000 [==============================] - 3s 261us/step\n"
     ]
    },
    {
     "data": {
      "text/plain": [
       "[0.06489395804777741, 0.9805]"
      ]
     },
     "execution_count": 197,
     "metadata": {},
     "output_type": "execute_result"
    }
   ],
   "source": [
    "model_lstm.evaluate(X_test.reshape(-1,28,28),y_test)"
   ]
  },
  {
   "cell_type": "code",
   "execution_count": 13,
   "metadata": {},
   "outputs": [
    {
     "data": {
      "text/plain": [
       "(55000, 784)"
      ]
     },
     "execution_count": 13,
     "metadata": {},
     "output_type": "execute_result"
    }
   ],
   "source": [
    "X_train.shape"
   ]
  },
  {
   "cell_type": "code",
   "execution_count": 14,
   "metadata": {},
   "outputs": [],
   "source": [
    "X_train_img=X_train.reshape(-1,28,28)"
   ]
  },
  {
   "cell_type": "code",
   "execution_count": 26,
   "metadata": {},
   "outputs": [],
   "source": [
    "from keras.utils import plot_model"
   ]
  },
  {
   "cell_type": "code",
   "execution_count": 22,
   "metadata": {},
   "outputs": [],
   "source": [
    "from keras.layers import LSTM"
   ]
  },
  {
   "cell_type": "code",
   "execution_count": 80,
   "metadata": {},
   "outputs": [],
   "source": [
    "from keras.layers import Dropout"
   ]
  },
  {
   "cell_type": "code",
   "execution_count": 81,
   "metadata": {},
   "outputs": [],
   "source": [
    "from keras.layers import BatchNormalization"
   ]
  },
  {
   "cell_type": "code",
   "execution_count": 16,
   "metadata": {},
   "outputs": [],
   "source": [
    "import matplotlib.pyplot as plt"
   ]
  },
  {
   "cell_type": "code",
   "execution_count": 18,
   "metadata": {},
   "outputs": [
    {
     "data": {
      "text/plain": [
       "<matplotlib.image.AxesImage at 0x1f740c72ac8>"
      ]
     },
     "execution_count": 18,
     "metadata": {},
     "output_type": "execute_result"
    },
    {
     "data": {
      "image/png": "[encoded data removed]",
      "text/plain": [
       "<Figure size 432x288 with 1 Axes>"
      ]
     },
     "metadata": {
      "needs_background": "light"
     },
     "output_type": "display_data"
    }
   ],
   "source": [
    "plt.imshow(X_train_img[0])"
   ]
  },
  {
   "cell_type": "code",
   "execution_count": 19,
   "metadata": {},
   "outputs": [],
   "source": [
    "X_test_img=X_test.reshape(-1,28,28)"
   ]
  },
  {
   "cell_type": "code",
   "execution_count": 125,
   "metadata": {},
   "outputs": [],
   "source": [
    "model=Sequential()"
   ]
  },
  {
   "cell_type": "code",
   "execution_count": 126,
   "metadata": {},
   "outputs": [],
   "source": [
    "model.add(Dense(100,activation='relu',input_shape=(28,28)))"
   ]
  },
  {
   "cell_type": "code",
   "execution_count": 127,
   "metadata": {},
   "outputs": [],
   "source": [
    "model.add(BatchNormalization())"
   ]
  },
  {
   "cell_type": "code",
   "execution_count": 128,
   "metadata": {},
   "outputs": [],
   "source": [
    "model.add(LSTM(50))"
   ]
  },
  {
   "cell_type": "code",
   "execution_count": 129,
   "metadata": {},
   "outputs": [],
   "source": [
    "model.add(Dropout(rate=0.5))"
   ]
  },
  {
   "cell_type": "code",
   "execution_count": 130,
   "metadata": {},
   "outputs": [],
   "source": [
    "model.add(Dense(10,activation='softmax'))"
   ]
  },
  {
   "cell_type": "code",
   "execution_count": 131,
   "metadata": {},
   "outputs": [],
   "source": [
    "model.compile(loss='categorical_crossentropy',\n",
    "             optimizer='sgd',\n",
    "             metrics=['accuracy'])"
   ]
  },
  {
   "cell_type": "code",
   "execution_count": 118,
   "metadata": {},
   "outputs": [],
   "source": [
    "plot_model(model,show_shapes=True,to_file='get_w.png')"
   ]
  },
  {
   "cell_type": "code",
   "execution_count": 132,
   "metadata": {},
   "outputs": [
    {
     "name": "stdout",
     "output_type": "stream",
     "text": [
      "Train on 41250 samples, validate on 13750 samples\n",
      "Epoch 1/80\n",
      "41250/41250 [==============================] - 15s 372us/step - loss: 2.2507 - acc: 0.1627 - val_loss: 2.1532 - val_acc: 0.2856\n",
      "Epoch 2/80\n",
      "41250/41250 [==============================] - 14s 334us/step - loss: 2.1263 - acc: 0.2570 - val_loss: 2.0328 - val_acc: 0.4153\n",
      "Epoch 3/80\n",
      "41250/41250 [==============================] - 14s 342us/step - loss: 2.0154 - acc: 0.3181 - val_loss: 1.9137 - val_acc: 0.4844\n",
      "Epoch 4/80\n",
      "41250/41250 [==============================] - 13s 326us/step - loss: 1.9038 - acc: 0.3634 - val_loss: 1.7916 - val_acc: 0.5190\n",
      "Epoch 5/80\n",
      "41250/41250 [==============================] - 13s 326us/step - loss: 1.7982 - acc: 0.3966 - val_loss: 1.6725 - val_acc: 0.5474\n",
      "Epoch 6/80\n",
      "41250/41250 [==============================] - 13s 326us/step - loss: 1.6948 - acc: 0.4356 - val_loss: 1.5576 - val_acc: 0.5777\n",
      "Epoch 7/80\n",
      "41250/41250 [==============================] - 14s 329us/step - loss: 1.5951 - acc: 0.4751 - val_loss: 1.4509 - val_acc: 0.6059\n",
      "Epoch 8/80\n",
      "41250/41250 [==============================] - 13s 326us/step - loss: 1.5059 - acc: 0.5084 - val_loss: 1.3515 - val_acc: 0.6308\n",
      "Epoch 9/80\n",
      "41250/41250 [==============================] - 13s 327us/step - loss: 1.4151 - acc: 0.5481 - val_loss: 1.2554 - val_acc: 0.6604\n",
      "Epoch 10/80\n",
      "41250/41250 [==============================] - 13s 327us/step - loss: 1.3357 - acc: 0.5750 - val_loss: 1.1692 - val_acc: 0.6814\n",
      "Epoch 11/80\n",
      "41250/41250 [==============================] - 14s 347us/step - loss: 1.2549 - acc: 0.6038 - val_loss: 1.0873 - val_acc: 0.6997\n",
      "Epoch 12/80\n",
      "41250/41250 [==============================] - 14s 338us/step - loss: 1.1867 - acc: 0.6220 - val_loss: 1.0126 - val_acc: 0.7151\n",
      "Epoch 13/80\n",
      "41250/41250 [==============================] - 14s 341us/step - loss: 1.1208 - acc: 0.6440 - val_loss: 0.9459 - val_acc: 0.7271\n",
      "Epoch 14/80\n",
      "41250/41250 [==============================] - 14s 335us/step - loss: 1.0653 - acc: 0.6604 - val_loss: 0.8875 - val_acc: 0.7416\n",
      "Epoch 15/80\n",
      "41250/41250 [==============================] - 14s 337us/step - loss: 1.0089 - acc: 0.6760 - val_loss: 0.8323 - val_acc: 0.7524\n",
      "Epoch 16/80\n",
      "41250/41250 [==============================] - 15s 355us/step - loss: 0.9636 - acc: 0.6904 - val_loss: 0.7844 - val_acc: 0.7617\n",
      "Epoch 17/80\n",
      "41250/41250 [==============================] - 15s 353us/step - loss: 0.9210 - acc: 0.7004 - val_loss: 0.7410 - val_acc: 0.7703\n",
      "Epoch 18/80\n",
      "41250/41250 [==============================] - 16s 382us/step - loss: 0.8777 - acc: 0.7151 - val_loss: 0.7008 - val_acc: 0.7828\n",
      "Epoch 19/80\n",
      "41250/41250 [==============================] - 16s 393us/step - loss: 0.8379 - acc: 0.7273 - val_loss: 0.6664 - val_acc: 0.7912\n",
      "Epoch 20/80\n",
      "41250/41250 [==============================] - 16s 381us/step - loss: 0.8019 - acc: 0.7399 - val_loss: 0.6379 - val_acc: 0.8002\n",
      "Epoch 21/80\n",
      "41250/41250 [==============================] - 15s 370us/step - loss: 0.7724 - acc: 0.7487 - val_loss: 0.6072 - val_acc: 0.8084\n",
      "Epoch 22/80\n",
      "41250/41250 [==============================] - 15s 375us/step - loss: 0.7390 - acc: 0.7619 - val_loss: 0.5825 - val_acc: 0.8168\n",
      "Epoch 23/80\n",
      "41250/41250 [==============================] - 15s 373us/step - loss: 0.7154 - acc: 0.7685 - val_loss: 0.5583 - val_acc: 0.8266\n",
      "Epoch 24/80\n",
      "41250/41250 [==============================] - 15s 368us/step - loss: 0.6869 - acc: 0.7766 - val_loss: 0.5419 - val_acc: 0.8266\n",
      "Epoch 25/80\n",
      "41250/41250 [==============================] - 15s 369us/step - loss: 0.6639 - acc: 0.7863 - val_loss: 0.5216 - val_acc: 0.8340\n",
      "Epoch 26/80\n",
      "41250/41250 [==============================] - 16s 376us/step - loss: 0.6425 - acc: 0.7971 - val_loss: 0.5073 - val_acc: 0.8400\n",
      "Epoch 27/80\n",
      "41250/41250 [==============================] - 16s 377us/step - loss: 0.6218 - acc: 0.7996 - val_loss: 0.4865 - val_acc: 0.8433\n",
      "Epoch 28/80\n",
      "41250/41250 [==============================] - 15s 375us/step - loss: 0.6013 - acc: 0.8102 - val_loss: 0.4715 - val_acc: 0.8485\n",
      "Epoch 29/80\n",
      "41250/41250 [==============================] - 15s 370us/step - loss: 0.5813 - acc: 0.8169 - val_loss: 0.4510 - val_acc: 0.8617\n",
      "Epoch 30/80\n",
      "41250/41250 [==============================] - 15s 365us/step - loss: 0.5603 - acc: 0.8244 - val_loss: 0.4377 - val_acc: 0.8629\n",
      "Epoch 31/80\n",
      "41250/41250 [==============================] - 15s 375us/step - loss: 0.5477 - acc: 0.8295 - val_loss: 0.4216 - val_acc: 0.8725\n",
      "Epoch 32/80\n",
      "41250/41250 [==============================] - 16s 384us/step - loss: 0.5297 - acc: 0.8376 - val_loss: 0.4050 - val_acc: 0.8794\n",
      "Epoch 33/80\n",
      "41250/41250 [==============================] - 15s 370us/step - loss: 0.5154 - acc: 0.8433 - val_loss: 0.3925 - val_acc: 0.8825\n",
      "Epoch 34/80\n",
      "41250/41250 [==============================] - 16s 387us/step - loss: 0.4982 - acc: 0.8497 - val_loss: 0.3917 - val_acc: 0.8823\n",
      "Epoch 35/80\n",
      "41250/41250 [==============================] - 15s 374us/step - loss: 0.4811 - acc: 0.8543 - val_loss: 0.3665 - val_acc: 0.8930\n",
      "Epoch 36/80\n",
      "41250/41250 [==============================] - 15s 357us/step - loss: 0.4650 - acc: 0.8636 - val_loss: 0.3599 - val_acc: 0.8907\n",
      "Epoch 37/80\n",
      "41250/41250 [==============================] - 15s 372us/step - loss: 0.4526 - acc: 0.8683 - val_loss: 0.3467 - val_acc: 0.8983\n",
      "Epoch 38/80\n",
      "41250/41250 [==============================] - 16s 379us/step - loss: 0.4381 - acc: 0.8720 - val_loss: 0.3299 - val_acc: 0.9044\n",
      "Epoch 39/80\n",
      "41250/41250 [==============================] - 15s 370us/step - loss: 0.4250 - acc: 0.8777 - val_loss: 0.3234 - val_acc: 0.9052\n",
      "Epoch 40/80\n",
      "41250/41250 [==============================] - 15s 368us/step - loss: 0.4140 - acc: 0.8829 - val_loss: 0.3102 - val_acc: 0.9110\n",
      "Epoch 41/80\n",
      "41250/41250 [==============================] - 15s 366us/step - loss: 0.4011 - acc: 0.8862 - val_loss: 0.3026 - val_acc: 0.9135\n",
      "Epoch 42/80\n",
      "41250/41250 [==============================] - 15s 375us/step - loss: 0.3908 - acc: 0.8903 - val_loss: 0.2970 - val_acc: 0.9153\n",
      "Epoch 43/80\n",
      "41250/41250 [==============================] - 16s 389us/step - loss: 0.3787 - acc: 0.8956 - val_loss: 0.3046 - val_acc: 0.9101\n",
      "Epoch 44/80\n",
      "41250/41250 [==============================] - 17s 400us/step - loss: 0.3679 - acc: 0.8975 - val_loss: 0.2877 - val_acc: 0.9177\n",
      "Epoch 45/80\n",
      "41250/41250 [==============================] - 15s 371us/step - loss: 0.3613 - acc: 0.8990 - val_loss: 0.2754 - val_acc: 0.9177\n",
      "Epoch 46/80\n",
      "41250/41250 [==============================] - 16s 388us/step - loss: 0.3524 - acc: 0.9036 - val_loss: 0.2807 - val_acc: 0.9191\n",
      "Epoch 47/80\n",
      "41250/41250 [==============================] - 16s 376us/step - loss: 0.3446 - acc: 0.9051 - val_loss: 0.2604 - val_acc: 0.9242\n",
      "Epoch 48/80\n",
      "41250/41250 [==============================] - 15s 365us/step - loss: 0.3301 - acc: 0.9104 - val_loss: 0.2563 - val_acc: 0.9260\n",
      "Epoch 49/80\n",
      "41250/41250 [==============================] - 17s 409us/step - loss: 0.3267 - acc: 0.9123 - val_loss: 0.2474 - val_acc: 0.9279\n",
      "Epoch 50/80\n",
      "41250/41250 [==============================] - 15s 371us/step - loss: 0.3183 - acc: 0.9140 - val_loss: 0.2400 - val_acc: 0.9285\n",
      "Epoch 51/80\n",
      "41250/41250 [==============================] - 16s 384us/step - loss: 0.3121 - acc: 0.9172 - val_loss: 0.2454 - val_acc: 0.9288\n",
      "Epoch 52/80\n",
      "41250/41250 [==============================] - 15s 368us/step - loss: 0.3040 - acc: 0.9186 - val_loss: 0.2322 - val_acc: 0.9334\n",
      "Epoch 53/80\n",
      "41250/41250 [==============================] - 15s 370us/step - loss: 0.2990 - acc: 0.9208 - val_loss: 0.2292 - val_acc: 0.9346\n",
      "Epoch 54/80\n",
      "41250/41250 [==============================] - 15s 369us/step - loss: 0.2918 - acc: 0.9232 - val_loss: 0.2248 - val_acc: 0.9371\n",
      "Epoch 55/80\n",
      "41250/41250 [==============================] - 15s 370us/step - loss: 0.2787 - acc: 0.9267 - val_loss: 0.2225 - val_acc: 0.9355\n",
      "Epoch 56/80\n",
      "41250/41250 [==============================] - 15s 369us/step - loss: 0.2792 - acc: 0.9276 - val_loss: 0.2203 - val_acc: 0.9362\n",
      "Epoch 57/80\n",
      "41250/41250 [==============================] - 16s 378us/step - loss: 0.2726 - acc: 0.9277 - val_loss: 0.2173 - val_acc: 0.9375\n",
      "Epoch 58/80\n",
      "41250/41250 [==============================] - 15s 372us/step - loss: 0.2657 - acc: 0.9307 - val_loss: 0.2046 - val_acc: 0.9412\n",
      "Epoch 59/80\n"
     ]
    },
    {
     "name": "stdout",
     "output_type": "stream",
     "text": [
      "41250/41250 [==============================] - 15s 371us/step - loss: 0.2618 - acc: 0.9321 - val_loss: 0.2086 - val_acc: 0.9395\n",
      "Epoch 60/80\n",
      "41250/41250 [==============================] - 15s 358us/step - loss: 0.2555 - acc: 0.9341 - val_loss: 0.2031 - val_acc: 0.9409\n",
      "Epoch 61/80\n",
      "41250/41250 [==============================] - 15s 359us/step - loss: 0.2517 - acc: 0.9353 - val_loss: 0.2187 - val_acc: 0.9376\n",
      "Epoch 62/80\n",
      "41250/41250 [==============================] - 15s 363us/step - loss: 0.2480 - acc: 0.9360 - val_loss: 0.2225 - val_acc: 0.9352\n",
      "Epoch 63/80\n",
      "41250/41250 [==============================] - 15s 366us/step - loss: 0.2464 - acc: 0.9370 - val_loss: 0.1985 - val_acc: 0.9413\n",
      "Epoch 64/80\n",
      "41250/41250 [==============================] - 15s 362us/step - loss: 0.2392 - acc: 0.9393 - val_loss: 0.2078 - val_acc: 0.9398\n",
      "Epoch 65/80\n",
      "41250/41250 [==============================] - 15s 362us/step - loss: 0.2345 - acc: 0.9400 - val_loss: 0.1859 - val_acc: 0.9458\n",
      "Epoch 66/80\n",
      "41250/41250 [==============================] - 15s 365us/step - loss: 0.2305 - acc: 0.9403 - val_loss: 0.1918 - val_acc: 0.9452\n",
      "Epoch 67/80\n",
      "41250/41250 [==============================] - 15s 366us/step - loss: 0.2248 - acc: 0.9423 - val_loss: 0.2063 - val_acc: 0.9396\n",
      "Epoch 68/80\n",
      "41250/41250 [==============================] - 15s 360us/step - loss: 0.2197 - acc: 0.9437 - val_loss: 0.1810 - val_acc: 0.9481\n",
      "Epoch 69/80\n",
      "41250/41250 [==============================] - 15s 362us/step - loss: 0.2201 - acc: 0.9424 - val_loss: 0.1852 - val_acc: 0.9473\n",
      "Epoch 70/80\n",
      "41250/41250 [==============================] - 15s 366us/step - loss: 0.2178 - acc: 0.9440 - val_loss: 0.1811 - val_acc: 0.9473\n",
      "Epoch 71/80\n",
      "41250/41250 [==============================] - 15s 365us/step - loss: 0.2099 - acc: 0.9475 - val_loss: 0.1782 - val_acc: 0.9497\n",
      "Epoch 72/80\n",
      "41250/41250 [==============================] - 15s 366us/step - loss: 0.2110 - acc: 0.9471 - val_loss: 0.1862 - val_acc: 0.9457\n",
      "Epoch 73/80\n",
      "41250/41250 [==============================] - 15s 363us/step - loss: 0.2061 - acc: 0.9472 - val_loss: 0.1744 - val_acc: 0.9500\n",
      "Epoch 74/80\n",
      "41250/41250 [==============================] - 14s 344us/step - loss: 0.2029 - acc: 0.9482 - val_loss: 0.1818 - val_acc: 0.9469\n",
      "Epoch 75/80\n",
      "41250/41250 [==============================] - 14s 345us/step - loss: 0.1994 - acc: 0.9491 - val_loss: 0.1774 - val_acc: 0.9508\n",
      "Epoch 76/80\n",
      "41250/41250 [==============================] - 14s 337us/step - loss: 0.1968 - acc: 0.9500 - val_loss: 0.2140 - val_acc: 0.9367\n",
      "Epoch 77/80\n",
      "41250/41250 [==============================] - 14s 343us/step - loss: 0.1942 - acc: 0.9510 - val_loss: 0.1689 - val_acc: 0.9524\n",
      "Epoch 78/80\n",
      "41250/41250 [==============================] - 15s 359us/step - loss: 0.1891 - acc: 0.9523 - val_loss: 0.1717 - val_acc: 0.9507\n",
      "Epoch 79/80\n",
      "41250/41250 [==============================] - 14s 350us/step - loss: 0.1871 - acc: 0.9517 - val_loss: 0.1878 - val_acc: 0.9455\n",
      "Epoch 80/80\n",
      "41250/41250 [==============================] - 14s 328us/step - loss: 0.1838 - acc: 0.9541 - val_loss: 0.1884 - val_acc: 0.9455\n"
     ]
    }
   ],
   "source": [
    "result=model.fit(X_train_img,y_train,epochs=80,batch_size=500,validation_split=0.25,verbose=1)"
   ]
  },
  {
   "cell_type": "code",
   "execution_count": 135,
   "metadata": {
    "scrolled": true
   },
   "outputs": [
    {
     "data": {
      "text/plain": [
       "['__call__',\n",
       " '__class__',\n",
       " '__delattr__',\n",
       " '__dir__',\n",
       " '__doc__',\n",
       " '__eq__',\n",
       " '__format__',\n",
       " '__ge__',\n",
       " '__getattribute__',\n",
       " '__gt__',\n",
       " '__hash__',\n",
       " '__init__',\n",
       " '__le__',\n",
       " '__lt__',\n",
       " '__module__',\n",
       " '__name__',\n",
       " '__ne__',\n",
       " '__new__',\n",
       " '__qualname__',\n",
       " '__reduce__',\n",
       " '__reduce_ex__',\n",
       " '__repr__',\n",
       " '__self__',\n",
       " '__setattr__',\n",
       " '__sizeof__',\n",
       " '__str__',\n",
       " '__subclasshook__',\n",
       " '__text_signature__']"
      ]
     },
     "execution_count": 135,
     "metadata": {},
     "output_type": "execute_result"
    }
   ],
   "source": [
    "dir(result.history.values)"
   ]
  },
  {
   "cell_type": "code",
   "execution_count": 149,
   "metadata": {},
   "outputs": [
    {
     "data": {
      "text/plain": [
       "<matplotlib.legend.Legend at 0x1f7627193c8>"
      ]
     },
     "execution_count": 149,
     "metadata": {},
     "output_type": "execute_result"
    },
    {
     "data": {
      "image/png": "[encoded data removed]",
      "text/plain": [
       "<Figure size 1152x1152 with 1 Axes>"
      ]
     },
     "metadata": {
      "needs_background": "light"
     },
     "output_type": "display_data"
    }
   ],
   "source": [
    "fig=plt.figure()\n",
    "ax=plt.gca()\n",
    "fig.set_size_inches(16,16)\n",
    "ax.plot(result.history['loss'],'o-',color='r')\n",
    "ax.plot(result.history['val_loss'],'^-',color='g')\n",
    "ax.plot(result.history['acc'],'o-',color='c')\n",
    "ax.plot(result.history['val_acc'],'^-',color='b')\n",
    "ax.legend(['train loss','test loss','train acc','test acc'],fontsize=35)"
   ]
  },
  {
   "cell_type": "code",
   "execution_count": 121,
   "metadata": {
    "scrolled": true
   },
   "outputs": [
    {
     "name": "stdout",
     "output_type": "stream",
     "text": [
      "Epoch 1/5\n",
      "55000/55000 [==============================] - 36s 654us/step - loss: 1.4670 - acc: 0.49790s - loss: 1.4734 - acc\n",
      "Epoch 2/5\n",
      "55000/55000 [==============================] - 34s 615us/step - loss: 0.6226 - acc: 0.8063\n",
      "Epoch 3/5\n",
      "55000/55000 [==============================] - 34s 620us/step - loss: 0.3760 - acc: 0.8931\n",
      "Epoch 4/5\n",
      "55000/55000 [==============================] - 34s 616us/step - loss: 0.2757 - acc: 0.9258\n",
      "Epoch 5/5\n",
      "55000/55000 [==============================] - 34s 616us/step - loss: 0.2221 - acc: 0.9411\n",
      "10000/10000 [==============================] - 2s 193us/step\n",
      "[0.17008726871311663, 0.9482]\n",
      "Epoch 1/5\n",
      "55000/55000 [==============================] - 34s 613us/step - loss: 0.1884 - acc: 0.9510\n",
      "Epoch 2/5\n",
      "55000/55000 [==============================] - 34s 624us/step - loss: 0.1652 - acc: 0.9564\n",
      "Epoch 3/5\n",
      "55000/55000 [==============================] - 34s 622us/step - loss: 0.1452 - acc: 0.9627\n",
      "Epoch 4/5\n",
      "55000/55000 [==============================] - 35s 639us/step - loss: 0.1382 - acc: 0.96450s - loss: 0.1384 - acc:\n",
      "Epoch 5/5\n",
      "55000/55000 [==============================] - 35s 628us/step - loss: 0.1267 - acc: 0.9671\n",
      "10000/10000 [==============================] - 2s 153us/step\n",
      "[0.11997337878569961, 0.965]\n",
      "Epoch 1/5\n",
      "55000/55000 [==============================] - 34s 622us/step - loss: 0.1128 - acc: 0.9708\n",
      "Epoch 2/5\n",
      "55000/55000 [==============================] - 34s 626us/step - loss: 0.1073 - acc: 0.9717\n",
      "Epoch 3/5\n",
      "55000/55000 [==============================] - 35s 642us/step - loss: 0.1007 - acc: 0.9738\n",
      "Epoch 4/5\n",
      "55000/55000 [==============================] - 34s 626us/step - loss: 0.0962 - acc: 0.9756\n",
      "Epoch 5/5\n",
      "55000/55000 [==============================] - 34s 623us/step - loss: 0.0878 - acc: 0.9768\n",
      "10000/10000 [==============================] - 2s 157us/step\n",
      "[0.07244306930806488, 0.9791]\n"
     ]
    }
   ],
   "source": [
    "for i in range(3):\n",
    "    model.fit(X_train_img,y_train,epochs=5)\n",
    "    print(model.evaluate(X_test_img,y_test))"
   ]
  },
  {
   "cell_type": "code",
   "execution_count": 122,
   "metadata": {},
   "outputs": [
    {
     "name": "stdout",
     "output_type": "stream",
     "text": [
      "the 0 layer:  (2,)\n",
      "the 1 layer:  (4, 100)\n",
      "the 2 layer:  (3,)\n",
      "the 3 layer:  (0,)\n",
      "the 4 layer:  (2,)\n"
     ]
    }
   ],
   "source": [
    "for i in range(5):\n",
    "    print('the %d layer: ' %i,np.array(model.layers[i].get_weights()).shape)"
   ]
  },
  {
   "cell_type": "code",
   "execution_count": 77,
   "metadata": {},
   "outputs": [
    {
     "name": "stdout",
     "output_type": "stream",
     "text": [
      "(100, 80)\n",
      "(20, 80)\n",
      "(80,)\n"
     ]
    }
   ],
   "source": [
    "for i in range(3):\n",
    "    print(model.layers[1].get_weights()[i].shape)"
   ]
  },
  {
   "cell_type": "code",
   "execution_count": 120,
   "metadata": {},
   "outputs": [
    {
     "data": {
      "image/svg+xml": [
       "<svg height=\"410pt\" viewBox=\"0.00 0.00 268.00 410.00\" width=\"268pt\" xmlns=\"http://www.w3.org/2000/svg\" xmlns:xlink=\"http://www.w3.org/1999/xlink\">\n",
       "<g class=\"graph\" id=\"graph0\" transform=\"scale(1 1) rotate(0) translate(4 406)\">\n",
       "<title>G</title>\n",
       "<polygon fill=\"white\" points=\"-4,4 -4,-406 264,-406 264,4 -4,4\" stroke=\"none\"/>\n",
       "<!-- 2161896251008 -->\n",
       "<g class=\"node\" id=\"node1\"><title>2161896251008</title>\n",
       "<polygon fill=\"none\" points=\"78,-292.5 78,-328.5 182,-328.5 182,-292.5 78,-292.5\" stroke=\"black\"/>\n",
       "<text font-family=\"Times New Roman,serif\" font-size=\"14.00\" text-anchor=\"middle\" x=\"130\" y=\"-306.8\">dense_9: Dense</text>\n",
       "</g>\n",
       "<!-- 2161896250280 -->\n",
       "<g class=\"node\" id=\"node2\"><title>2161896250280</title>\n",
       "<polygon fill=\"none\" points=\"0,-219.5 0,-255.5 260,-255.5 260,-219.5 0,-219.5\" stroke=\"black\"/>\n",
       "<text font-family=\"Times New Roman,serif\" font-size=\"14.00\" text-anchor=\"middle\" x=\"130\" y=\"-233.8\">batch_normalization_3: BatchNormalization</text>\n",
       "</g>\n",
       "<!-- 2161896251008&#45;&gt;2161896250280 -->\n",
       "<g class=\"edge\" id=\"edge2\"><title>2161896251008-&gt;2161896250280</title>\n",
       "<path d=\"M130,-292.313C130,-284.289 130,-274.547 130,-265.569\" fill=\"none\" stroke=\"black\"/>\n",
       "<polygon fill=\"black\" points=\"133.5,-265.529 130,-255.529 126.5,-265.529 133.5,-265.529\" stroke=\"black\"/>\n",
       "</g>\n",
       "<!-- 2161852363384 -->\n",
       "<g class=\"node\" id=\"node3\"><title>2161852363384</title>\n",
       "<polygon fill=\"none\" points=\"81,-146.5 81,-182.5 179,-182.5 179,-146.5 81,-146.5\" stroke=\"black\"/>\n",
       "<text font-family=\"Times New Roman,serif\" font-size=\"14.00\" text-anchor=\"middle\" x=\"130\" y=\"-160.8\">lstm_5: LSTM</text>\n",
       "</g>\n",
       "<!-- 2161896250280&#45;&gt;2161852363384 -->\n",
       "<g class=\"edge\" id=\"edge3\"><title>2161896250280-&gt;2161852363384</title>\n",
       "<path d=\"M130,-219.313C130,-211.289 130,-201.547 130,-192.569\" fill=\"none\" stroke=\"black\"/>\n",
       "<polygon fill=\"black\" points=\"133.5,-192.529 130,-182.529 126.5,-192.529 133.5,-192.529\" stroke=\"black\"/>\n",
       "</g>\n",
       "<!-- 2161852362936 -->\n",
       "<g class=\"node\" id=\"node4\"><title>2161852362936</title>\n",
       "<polygon fill=\"none\" points=\"65,-73.5 65,-109.5 195,-109.5 195,-73.5 65,-73.5\" stroke=\"black\"/>\n",
       "<text font-family=\"Times New Roman,serif\" font-size=\"14.00\" text-anchor=\"middle\" x=\"130\" y=\"-87.8\">dropout_3: Dropout</text>\n",
       "</g>\n",
       "<!-- 2161852363384&#45;&gt;2161852362936 -->\n",
       "<g class=\"edge\" id=\"edge4\"><title>2161852363384-&gt;2161852362936</title>\n",
       "<path d=\"M130,-146.313C130,-138.289 130,-128.547 130,-119.569\" fill=\"none\" stroke=\"black\"/>\n",
       "<polygon fill=\"black\" points=\"133.5,-119.529 130,-109.529 126.5,-119.529 133.5,-119.529\" stroke=\"black\"/>\n",
       "</g>\n",
       "<!-- 2161862835112 -->\n",
       "<g class=\"node\" id=\"node5\"><title>2161862835112</title>\n",
       "<polygon fill=\"none\" points=\"74.5,-0.5 74.5,-36.5 185.5,-36.5 185.5,-0.5 74.5,-0.5\" stroke=\"black\"/>\n",
       "<text font-family=\"Times New Roman,serif\" font-size=\"14.00\" text-anchor=\"middle\" x=\"130\" y=\"-14.8\">dense_10: Dense</text>\n",
       "</g>\n",
       "<!-- 2161852362936&#45;&gt;2161862835112 -->\n",
       "<g class=\"edge\" id=\"edge5\"><title>2161852362936-&gt;2161862835112</title>\n",
       "<path d=\"M130,-73.3129C130,-65.2895 130,-55.5475 130,-46.5691\" fill=\"none\" stroke=\"black\"/>\n",
       "<polygon fill=\"black\" points=\"133.5,-46.5288 130,-36.5288 126.5,-46.5289 133.5,-46.5288\" stroke=\"black\"/>\n",
       "</g>\n",
       "<!-- 2161896374344 -->\n",
       "<g class=\"node\" id=\"node6\"><title>2161896374344</title>\n",
       "<polygon fill=\"none\" points=\"78,-365.5 78,-401.5 182,-401.5 182,-365.5 78,-365.5\" stroke=\"black\"/>\n",
       "<text font-family=\"Times New Roman,serif\" font-size=\"14.00\" text-anchor=\"middle\" x=\"130\" y=\"-379.8\">2161896374344</text>\n",
       "</g>\n",
       "<!-- 2161896374344&#45;&gt;2161896251008 -->\n",
       "<g class=\"edge\" id=\"edge1\"><title>2161896374344-&gt;2161896251008</title>\n",
       "<path d=\"M130,-365.313C130,-357.289 130,-347.547 130,-338.569\" fill=\"none\" stroke=\"black\"/>\n",
       "<polygon fill=\"black\" points=\"133.5,-338.529 130,-328.529 126.5,-338.529 133.5,-338.529\" stroke=\"black\"/>\n",
       "</g>\n",
       "</g>\n",
       "</svg>"
      ],
      "text/plain": [
       "<IPython.core.display.SVG object>"
      ]
     },
     "execution_count": 120,
     "metadata": {},
     "output_type": "execute_result"
    }
   ],
   "source": [
    "from IPython.display import SVG\n",
    "from keras.utils.vis_utils import model_to_dot\n",
    "SVG(model_to_dot(model).create(prog='dot',format='svg'))"
   ]
  },
  {
   "cell_type": "code",
   "execution_count": 152,
   "metadata": {},
   "outputs": [],
   "source": [
    "from keras.layers import Input\n",
    "from keras.models import Model"
   ]
  },
  {
   "cell_type": "code",
   "execution_count": 155,
   "metadata": {},
   "outputs": [],
   "source": [
    "from keras.layers import Conv2D"
   ]
  },
  {
   "cell_type": "code",
   "execution_count": 156,
   "metadata": {},
   "outputs": [],
   "source": [
    "from keras.layers import MaxPooling2D"
   ]
  },
  {
   "cell_type": "code",
   "execution_count": 157,
   "metadata": {},
   "outputs": [],
   "source": [
    "from keras.layers import Flatten"
   ]
  },
  {
   "cell_type": "code",
   "execution_count": 160,
   "metadata": {},
   "outputs": [],
   "source": [
    "inputs=Input(shape=(28,28,1))"
   ]
  },
  {
   "cell_type": "code",
   "execution_count": 164,
   "metadata": {},
   "outputs": [],
   "source": [
    "conv_1=Conv2D(32,(2,2),padding='same',activation='relu')(inputs)"
   ]
  },
  {
   "cell_type": "code",
   "execution_count": 165,
   "metadata": {},
   "outputs": [],
   "source": [
    "pooled_1=MaxPooling2D((2,2),padding='same')(conv_1)"
   ]
  },
  {
   "cell_type": "code",
   "execution_count": 166,
   "metadata": {},
   "outputs": [],
   "source": [
    "normed_1=BatchNormalization()(pooled_1)"
   ]
  },
  {
   "cell_type": "code",
   "execution_count": 168,
   "metadata": {},
   "outputs": [],
   "source": [
    "conv_2=Conv2D(64,(2,2),padding='same',activation='relu')(normed_1)"
   ]
  },
  {
   "cell_type": "code",
   "execution_count": 169,
   "metadata": {},
   "outputs": [],
   "source": [
    "pooled_2=MaxPooling2D((2,2),padding='same')(conv_2)"
   ]
  },
  {
   "cell_type": "code",
   "execution_count": 170,
   "metadata": {},
   "outputs": [],
   "source": [
    "normed_2=BatchNormalization()(pooled_2)"
   ]
  },
  {
   "cell_type": "code",
   "execution_count": 171,
   "metadata": {},
   "outputs": [],
   "source": [
    "flatted=Flatten()(normed_2)"
   ]
  },
  {
   "cell_type": "code",
   "execution_count": 172,
   "metadata": {},
   "outputs": [],
   "source": [
    "ful_con_1=Dense(1024,activation='relu')(flatted)"
   ]
  },
  {
   "cell_type": "code",
   "execution_count": 173,
   "metadata": {},
   "outputs": [],
   "source": [
    "ful_con_2=Dense(10,activation='softmax')(ful_con_1)"
   ]
  },
  {
   "cell_type": "code",
   "execution_count": 227,
   "metadata": {},
   "outputs": [],
   "source": [
    "func_model=Model(inputs=inputs,outputs=ful_con_2)"
   ]
  },
  {
   "cell_type": "code",
   "execution_count": 175,
   "metadata": {},
   "outputs": [],
   "source": [
    "plot_model(func_model,show_shapes=True,to_file='func_model.png')"
   ]
  },
  {
   "cell_type": "code",
   "execution_count": 309,
   "metadata": {},
   "outputs": [],
   "source": [
    "func_model.compile(loss='categorical_crossentropy',\n",
    "                  optimizer='sgd',\n",
    "                  metrics=['accuracy'])"
   ]
  },
  {
   "cell_type": "code",
   "execution_count": 184,
   "metadata": {},
   "outputs": [
    {
     "name": "stdout",
     "output_type": "stream",
     "text": [
      "Train on 41250 samples, validate on 13750 samples\n",
      "Epoch 1/3\n",
      "41250/41250 [==============================] - 108s 3ms/step - loss: 0.1453 - acc: 0.9573 - val_loss: 0.0735 - val_acc: 0.9791\n",
      "Epoch 2/3\n",
      "41250/41250 [==============================] - 103s 2ms/step - loss: 0.0508 - acc: 0.9857 - val_loss: 0.0693 - val_acc: 0.9782\n",
      "Epoch 3/3\n",
      "41250/41250 [==============================] - 105s 3ms/step - loss: 0.0333 - acc: 0.9902 - val_loss: 0.0561 - val_acc: 0.9832\n"
     ]
    }
   ],
   "source": [
    "func_result=func_model.fit(X_train_img[:,:,:,np.newaxis],y_train,validation_split=0.25,epochs=3)"
   ]
  },
  {
   "cell_type": "code",
   "execution_count": 185,
   "metadata": {},
   "outputs": [],
   "source": [
    "func_model.save('my_func_model.h5')"
   ]
  },
  {
   "cell_type": "code",
   "execution_count": 186,
   "metadata": {},
   "outputs": [],
   "source": [
    "del func_model"
   ]
  },
  {
   "cell_type": "code",
   "execution_count": 188,
   "metadata": {},
   "outputs": [],
   "source": [
    "from keras.models import load_model"
   ]
  },
  {
   "cell_type": "code",
   "execution_count": 189,
   "metadata": {},
   "outputs": [],
   "source": [
    "func_model=load_model('my_func_model.h5')"
   ]
  },
  {
   "cell_type": "code",
   "execution_count": 190,
   "metadata": {},
   "outputs": [
    {
     "name": "stdout",
     "output_type": "stream",
     "text": [
      "Train on 41250 samples, validate on 13750 samples\n",
      "Epoch 1/1\n",
      "41250/41250 [==============================] - 103s 2ms/step - loss: 0.0235 - acc: 0.9940 - val_loss: 0.0547 - val_acc: 0.9833\n"
     ]
    }
   ],
   "source": [
    "func_result=func_model.fit(X_train_img[:,:,:,np.newaxis],y_train,validation_split=0.25,epochs=1)"
   ]
  },
  {
   "cell_type": "code",
   "execution_count": 205,
   "metadata": {},
   "outputs": [],
   "source": [
    "from keras.models import model_from_json"
   ]
  },
  {
   "cell_type": "code",
   "execution_count": 275,
   "metadata": {},
   "outputs": [],
   "source": [
    "func_model_json=func_model.to_json()"
   ]
  },
  {
   "cell_type": "code",
   "execution_count": 276,
   "metadata": {},
   "outputs": [],
   "source": [
    "func_model_yaml=func_model.to_yaml()"
   ]
  },
  {
   "cell_type": "code",
   "execution_count": 277,
   "metadata": {},
   "outputs": [],
   "source": [
    "with open('fun_model_json_3.json','w') as json_file:\n",
    "    json_file.write(func_model_json)"
   ]
  },
  {
   "cell_type": "code",
   "execution_count": 278,
   "metadata": {},
   "outputs": [],
   "source": [
    "with open('func_model_yaml_3.yaml','w') as yaml_file:\n",
    "    yaml_file.write(func_model_yaml)"
   ]
  },
  {
   "cell_type": "code",
   "execution_count": 328,
   "metadata": {},
   "outputs": [],
   "source": [
    "del func_model"
   ]
  },
  {
   "cell_type": "code",
   "execution_count": 329,
   "metadata": {},
   "outputs": [],
   "source": [
    "model_json_file=open('fun_model_json_3.json','r')"
   ]
  },
  {
   "cell_type": "code",
   "execution_count": 330,
   "metadata": {},
   "outputs": [],
   "source": [
    "model_from_file=model_json_file.read()"
   ]
  },
  {
   "cell_type": "code",
   "execution_count": 331,
   "metadata": {},
   "outputs": [],
   "source": [
    "model_json_file.close()"
   ]
  },
  {
   "cell_type": "code",
   "execution_count": 332,
   "metadata": {},
   "outputs": [],
   "source": [
    "func_model=model_from_json(model_from_file)"
   ]
  },
  {
   "cell_type": "code",
   "execution_count": 333,
   "metadata": {},
   "outputs": [
    {
     "name": "stdout",
     "output_type": "stream",
     "text": [
      "Train on 750 samples, validate on 250 samples\n",
      "Epoch 1/1\n",
      "750/750 [==============================] - 4s 6ms/step - loss: 1.0684 - acc: 0.6773 - val_loss: 0.8643 - val_acc: 0.7040\n"
     ]
    }
   ],
   "source": [
    "func_model.compile(loss='categorical_crossentropy',\n",
    "                  optimizer='sgd',\n",
    "                  metrics=['accuracy'])\n",
    "func_result=func_model.fit(X_train_img[:1000,:,:,np.newaxis],y_train[:1000],validation_split=0.25,epochs=1)"
   ]
  },
  {
   "cell_type": "code",
   "execution_count": 320,
   "metadata": {},
   "outputs": [],
   "source": [
    "func_model.save_weights('func_model_weight.h5')"
   ]
  },
  {
   "cell_type": "code",
   "execution_count": 326,
   "metadata": {},
   "outputs": [],
   "source": [
    "func_model.load_weights('func_model_weight.h5')"
   ]
  },
  {
   "cell_type": "code",
   "execution_count": 327,
   "metadata": {},
   "outputs": [
    {
     "name": "stdout",
     "output_type": "stream",
     "text": [
      "Train on 750 samples, validate on 250 samples\n",
      "Epoch 1/1\n",
      "750/750 [==============================] - 4s 5ms/step - loss: 0.1332 - acc: 0.9813 - val_loss: 0.3140 - val_acc: 0.9360\n"
     ]
    }
   ],
   "source": [
    "func_model.compile(loss='categorical_crossentropy',\n",
    "                  optimizer='sgd',\n",
    "                  metrics=['accuracy'])\n",
    "func_result=func_model.fit(X_train_img[:1000,:,:,np.newaxis],y_train[:1000],validation_split=0.25,epochs=1)"
   ]
  },
  {
   "cell_type": "code",
   "execution_count": null,
   "metadata": {},
   "outputs": [],
   "source": []
  }
 ],
 "metadata": {
  "kernelspec": {
   "display_name": "Python 3",
   "language": "python",
   "name": "python3"
  },
  "language_info": {
   "codemirror_mode": {
    "name": "ipython",
    "version": 3
   },
   "file_extension": ".py",
   "mimetype": "text/x-python",
   "name": "python",
   "nbconvert_exporter": "python",
   "pygments_lexer": "ipython3",
   "version": "3.5.4"
  }
 },
 "nbformat": 4,
 "nbformat_minor": 2
}
