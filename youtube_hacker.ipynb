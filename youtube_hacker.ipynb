{
 "cells": [
  {
   "cell_type": "code",
   "execution_count": 1,
   "metadata": {},
   "outputs": [],
   "source": [
    "from selenium import webdriver"
   ]
  },
  {
   "cell_type": "code",
   "execution_count": 69,
   "metadata": {},
   "outputs": [],
   "source": [
    "import time"
   ]
  },
  {
   "cell_type": "code",
   "execution_count": 173,
   "metadata": {},
   "outputs": [],
   "source": [
    "import datetime"
   ]
  },
  {
   "cell_type": "code",
   "execution_count": 49,
   "metadata": {},
   "outputs": [],
   "source": [
    "driver=webdriver.Chrome(r\"D:\\huanjing\\chromedriver_2.46.exe\")"
   ]
  },
  {
   "cell_type": "code",
   "execution_count": 50,
   "metadata": {},
   "outputs": [],
   "source": [
    "driver.get(\"https://www.youtube.com\")"
   ]
  },
  {
   "cell_type": "code",
   "execution_count": 182,
   "metadata": {},
   "outputs": [],
   "source": [
    "def wait_and_try(func):    #这个函数用来防止所需元素未加载完毕\n",
    "    def inner(*args,**kwargs):\n",
    "        while 1:       \n",
    "            try:\n",
    "                func(*args,**kwargs)\n",
    "            except BaseException:\n",
    "                print('wocao')\n",
    "                time.sleep(0.1)\n",
    "            else:\n",
    "                print('success')\n",
    "                break\n",
    "    return inner"
   ]
  },
  {
   "cell_type": "code",
   "execution_count": 183,
   "metadata": {},
   "outputs": [],
   "source": [
    "@wait_and_try\n",
    "def add_comments():\n",
    "    driver.execute_script(\"window.scrollTo(0,1000)\")\n",
    "    driver.find_element_by_id(\"simplebox-placeholder\").click()\n",
    "    driver.find_element_by_id(\"contenteditable-root\").send_keys(comments)\n",
    "    driver.find_element_by_id(\"submit-button\").click()"
   ]
  },
  {
   "cell_type": "code",
   "execution_count": 184,
   "metadata": {},
   "outputs": [],
   "source": [
    "def monitor_n_comment(driver,addr,title_now,comments):\n",
    "    while 1:\n",
    "        driver.get(addr)\n",
    "        checking_title=driver.find_element_by_id(\"video-title\").text\n",
    "        if title_now!=checking_title:\n",
    "            print(\"waiting title before: \"+title_now)\n",
    "            title_now=checking_title\n",
    "            print(\"waiting title after: \"+title_now)\n",
    "            driver.find_element_by_id(\"video-title\").click()\n",
    "            add_comments()\n",
    "#             wait_and_try(add_comments)\n",
    "            print(datetime.datetime.now())\n",
    "        time.sleep(10)"
   ]
  },
  {
   "cell_type": "code",
   "execution_count": 185,
   "metadata": {},
   "outputs": [
    {
     "name": "stdout",
     "output_type": "stream",
     "text": [
      "waiting title before: 80 Best Sources of Fat for Weight Loss\n",
      "waiting title after: 8 Best Sources of Fat for Weight Loss\n",
      "wocao\n",
      "wocao\n",
      "wocao\n",
      "wocao\n",
      "wocao\n",
      "wocao\n",
      "wocao\n",
      "wocao\n",
      "wocao\n",
      "wocao\n",
      "wocao\n",
      "wocao\n",
      "wocao\n",
      "wocao\n",
      "wocao\n",
      "wocao\n",
      "success\n",
      "2019-05-26 22:19:29.162715\n"
     ]
    },
    {
     "ename": "KeyboardInterrupt",
     "evalue": "",
     "output_type": "error",
     "traceback": [
      "\u001b[1;31m---------------------------------------------------------------------------\u001b[0m",
      "\u001b[1;31mKeyboardInterrupt\u001b[0m                         Traceback (most recent call last)",
      "\u001b[1;32m<ipython-input-185-823ff3469a7b>\u001b[0m in \u001b[0;36m<module>\u001b[1;34m()\u001b[0m\n\u001b[0;32m      2\u001b[0m \u001b[0mtitle_now\u001b[0m\u001b[1;33m=\u001b[0m\u001b[1;34m\"80 Best Sources of Fat for Weight Loss\"\u001b[0m\u001b[1;33m\u001b[0m\u001b[0m\n\u001b[0;32m      3\u001b[0m \u001b[0mcomments\u001b[0m\u001b[1;33m=\u001b[0m\u001b[1;34m\"nice infomation,congratulations\"\u001b[0m\u001b[1;33m\u001b[0m\u001b[0m\n\u001b[1;32m----> 4\u001b[1;33m \u001b[0mmonitor_n_comment\u001b[0m\u001b[1;33m(\u001b[0m\u001b[0mdriver\u001b[0m\u001b[1;33m,\u001b[0m\u001b[0maddr\u001b[0m\u001b[1;33m,\u001b[0m\u001b[0mtitle_now\u001b[0m\u001b[1;33m,\u001b[0m\u001b[0mcomments\u001b[0m\u001b[1;33m)\u001b[0m\u001b[1;33m\u001b[0m\u001b[0m\n\u001b[0m",
      "\u001b[1;32m<ipython-input-184-3d1205b64d3b>\u001b[0m in \u001b[0;36mmonitor_n_comment\u001b[1;34m(driver, addr, title_now, comments)\u001b[0m\n\u001b[0;32m     11\u001b[0m \u001b[1;31m#             wait_and_try(add_comments)\u001b[0m\u001b[1;33m\u001b[0m\u001b[1;33m\u001b[0m\u001b[0m\n\u001b[0;32m     12\u001b[0m             \u001b[0mprint\u001b[0m\u001b[1;33m(\u001b[0m\u001b[0mdatetime\u001b[0m\u001b[1;33m.\u001b[0m\u001b[0mdatetime\u001b[0m\u001b[1;33m.\u001b[0m\u001b[0mnow\u001b[0m\u001b[1;33m(\u001b[0m\u001b[1;33m)\u001b[0m\u001b[1;33m)\u001b[0m\u001b[1;33m\u001b[0m\u001b[0m\n\u001b[1;32m---> 13\u001b[1;33m         \u001b[0mtime\u001b[0m\u001b[1;33m.\u001b[0m\u001b[0msleep\u001b[0m\u001b[1;33m(\u001b[0m\u001b[1;36m10\u001b[0m\u001b[1;33m)\u001b[0m\u001b[1;33m\u001b[0m\u001b[0m\n\u001b[0m",
      "\u001b[1;31mKeyboardInterrupt\u001b[0m: "
     ]
    }
   ],
   "source": [
    "addr=\"https://www.youtube.com/channel/UC0CRYvGlWGlsGxBNgvkUbAg\"\n",
    "title_now=\"80 Best Sources of Fat for Weight Loss\"\n",
    "comments=\"nice infomation,congratulations\"\n",
    "monitor_n_comment(driver,addr,title_now,comments)"
   ]
  },
  {
   "cell_type": "code",
   "execution_count": null,
   "metadata": {},
   "outputs": [],
   "source": []
  }
 ],
 "metadata": {
  "kernelspec": {
   "display_name": "Python 3",
   "language": "python",
   "name": "python3"
  },
  "language_info": {
   "codemirror_mode": {
    "name": "ipython",
    "version": 3
   },
   "file_extension": ".py",
   "mimetype": "text/x-python",
   "name": "python",
   "nbconvert_exporter": "python",
   "pygments_lexer": "ipython3",
   "version": "3.6.4"
  }
 },
 "nbformat": 4,
 "nbformat_minor": 2
}
