{
 "cells": [
  {
   "cell_type": "code",
   "execution_count": 1,
   "metadata": {},
   "outputs": [],
   "source": [
    "from tkinter import *\n",
    "from tkinter import messagebox \n",
    "import time\n",
    "from threading import Thread\n",
    "import random\n",
    "from PIL import ImageTk,Image"
   ]
  },
  {
   "cell_type": "code",
   "execution_count": 2,
   "metadata": {},
   "outputs": [],
   "source": [
    "def get_random_num():\n",
    "    global index\n",
    "    return random.sample(index,1)"
   ]
  },
  {
   "cell_type": "code",
   "execution_count": 3,
   "metadata": {},
   "outputs": [],
   "source": [
    "def printing():\n",
    "    while 1:\n",
    "        if status=='running':\n",
    "            random_num=get_random_num()\n",
    "            label_2.config(text=random_num)\n",
    "            time.sleep(0.1)\n",
    "        else:\n",
    "            break"
   ]
  },
  {
   "cell_type": "code",
   "execution_count": 4,
   "metadata": {},
   "outputs": [],
   "source": [
    "def add_result():\n",
    "    if label_3rd_1['text']=='    ':\n",
    "        label_3rd_1.config(text=label_2['text'])\n",
    "    elif label_3rd_2['text']=='    ':\n",
    "        label_3rd_2.config(text=label_2['text'])\n",
    "    elif label_3rd_3['text']=='    ':\n",
    "        label_3rd_3.config(text=label_2['text'])\n",
    "    elif label_2nd_1['text']=='    ':\n",
    "        label_2nd_1.config(text=label_2['text'])\n",
    "    elif label_2nd_2['text']=='    ':\n",
    "        label_2nd_2.config(text=label_2['text'])\n",
    "    elif label_1st_1['text']=='    ':\n",
    "        label_1st_1.config(text=label_2['text'])\n",
    "    else:\n",
    "        return"
   ]
  },
  {
   "cell_type": "code",
   "execution_count": 5,
   "metadata": {},
   "outputs": [],
   "source": [
    "def stop():\n",
    "    global status\n",
    "#     global index\n",
    "    if status=='running':\n",
    "        status='waiting'\n",
    "        print(label_2['text'])\n",
    "        index.remove(label_2['text'])\n",
    "        add_result()\n",
    "    else:\n",
    "        return"
   ]
  },
  {
   "cell_type": "code",
   "execution_count": 6,
   "metadata": {},
   "outputs": [],
   "source": [
    "def start():\n",
    "    global status\n",
    "    if status=='waiting':\n",
    "        status='running'\n",
    "#         global B_start\n",
    "        T_running=Thread(target=printing)\n",
    "        T_running.start()\n",
    "    else:\n",
    "        return"
   ]
  },
  {
   "cell_type": "code",
   "execution_count": 88,
   "metadata": {},
   "outputs": [],
   "source": [
    "def main():\n",
    "    global index\n",
    "    global status\n",
    "    global B_start\n",
    "    global label_2\n",
    "    global label_3rd_1\n",
    "    global label_3rd_2\n",
    "    global label_3rd_3\n",
    "    global label_2nd_1\n",
    "    global label_2nd_2\n",
    "    global label_1st_1\n",
    "\n",
    "    status='waiting'\n",
    "    index=list([str(i).zfill(2) for i in range(1,16)])\n",
    "    bg_main=\"#ff0000\"\n",
    "    bg_lottery=\"#ffff00\"\n",
    "    bg_btn=\"#00ff00\"\n",
    "    font_sub=('Comic Sans MS', 50)\n",
    "    font_cmd='Fixdsys 40'\n",
    "    font_num=('Times New Roman', 70)\n",
    "    \n",
    "    myWindow = Tk()\n",
    "    myWindow.title(\"杜普利年会抽奖\")\n",
    "    myWindow.config(bg=bg_main)\n",
    "    image2 =Image.open(r'img.jpg')\n",
    "    background_image = ImageTk.PhotoImage(image2)\n",
    "    w = background_image.width()\n",
    "    h = background_image.height()\n",
    "    myWindow.geometry('%dx%d+0+0' % (w,h))\n",
    "\n",
    "    background_label = Label(myWindow, image=background_image)\n",
    "    background_label.place(x=0, y=0, relwidth=1, relheight=1)\n",
    "    \n",
    "    main_frame=Frame(myWindow,bg=bg_main)\n",
    "    main_frame.place(x=w/4, y=h/10, relwidth=0.5, relheight=0.8)\n",
    "\n",
    "    row_1=Frame(main_frame)   #####    为了实现稍微复杂的页面布局，必须将listbox和scrollbar放在一个frame中，然后再和button布局\n",
    "    row_1.pack(side=TOP)\n",
    "\n",
    "    label_1=Label(row_1,text='杜普利年会抽奖',font='Fixdsys 100',bg=bg_main)\n",
    "    label_1.pack(side=TOP)\n",
    "    \n",
    "    row_ist_1=Frame(main_frame,bg=bg_main)\n",
    "    row_ist_1.pack(side=TOP)\n",
    "        \n",
    "    col_2=Frame(row_ist_1,bg=bg_main)\n",
    "    col_2.pack(side=LEFT)\n",
    "    \n",
    "    label_2=Label(col_2,text='    ',font=('Times New Roman', 200),bg=\"#ffff00\")\n",
    "    label_2.pack(side=TOP,pady=(10,0))\n",
    "    \n",
    "    col_1=Frame(row_ist_1,bg=bg_main)\n",
    "    col_1.pack(side=LEFT)\n",
    "    \n",
    "    B_start = Button(col_1, text ='抽奖',font=font_cmd,bg=bg_btn, command = start)\n",
    "    B_start.pack(side=TOP,padx=20,pady=(0,10))\n",
    "    \n",
    "    B_stop = Button(col_1, text ='停止',font=font_cmd, bg=bg_btn, command = stop)\n",
    "    B_stop.pack(side=TOP,padx=20,pady=(10,0))\n",
    "    \n",
    "    row_5=Frame(main_frame,bg=bg_main)\n",
    "    row_5.pack(side=TOP)\n",
    "    \n",
    "    label_1st=Label(row_5,text='first prize',font=font_sub,bg=bg_main)\n",
    "    label_1st.pack(side=LEFT,padx=(0,270))\n",
    "    \n",
    "    label_1st_1=Label(row_5,text='    ',font=font_num,bg=bg_lottery)\n",
    "    label_1st_1.pack(side=LEFT,padx=(20,170))\n",
    "    \n",
    "    row_4=Frame(main_frame,bg=bg_main)\n",
    "    row_4.pack(side=TOP)\n",
    "    \n",
    "    label_2nd=Label(row_4,text='second prize',font=font_sub,bg=bg_main)\n",
    "    label_2nd.pack(side=LEFT,padx=(0,150),pady=10)\n",
    "    \n",
    "    label_2nd_1=Label(row_4,text='    ',font=font_num,bg=bg_lottery)\n",
    "    label_2nd_1.pack(side=LEFT,padx=20)\n",
    "    label_2nd_2=Label(row_4,text='    ',font=font_num,bg=bg_lottery)\n",
    "    label_2nd_2.pack(side=LEFT,padx=(20,95))\n",
    "    \n",
    "    row_3=Frame(main_frame,bg=bg_main)\n",
    "    row_3.pack(side=TOP)\n",
    "    \n",
    "    label_3rd=Label(row_3,text='third prize',font=font_sub,bg=bg_main)\n",
    "    label_3rd.pack(side=LEFT,padx=(0,120))\n",
    "    \n",
    "    label_3rd_1=Label(row_3,text='    ',font=font_num,bg=bg_lottery)\n",
    "    label_3rd_1.pack(side=LEFT,padx=20)\n",
    "    label_3rd_2=Label(row_3,text='    ',font=font_num,bg=bg_lottery)\n",
    "    label_3rd_2.pack(side=LEFT,padx=20)\n",
    "    label_3rd_3=Label(row_3,text='    ',font=font_num,bg=bg_lottery)\n",
    "    label_3rd_3.pack(side=LEFT,padx=20)\n",
    "\n",
    "    myWindow.mainloop()"
   ]
  },
  {
   "cell_type": "code",
   "execution_count": 90,
   "metadata": {},
   "outputs": [
    {
     "name": "stdout",
     "output_type": "stream",
     "text": [
      "13\n",
      "10\n",
      "05\n",
      "04\n",
      "01\n",
      "03\n"
     ]
    }
   ],
   "source": [
    "if __name__=='__main__':\n",
    "    main()"
   ]
  },
  {
   "cell_type": "code",
   "execution_count": 311,
   "metadata": {},
   "outputs": [],
   "source": [
    "myWindow = Tk()"
   ]
  },
  {
   "cell_type": "code",
   "execution_count": 46,
   "metadata": {},
   "outputs": [],
   "source": [
    "root = Tk()\n",
    "# 創建一個Label\n",
    "for ft in ('Arial',('Courier New',),('Comic Sans MS',),'Fixdsys',('MS Sans Serif',),('MS Serif',),'Symbol','System',('Times New Roman',),'Verdana'):\n",
    "    Label(root,text = 'hello sticky',font = ft ).grid()\n",
    "\n",
    "root.mainloop()"
   ]
  },
  {
   "cell_type": "code",
   "execution_count": null,
   "metadata": {},
   "outputs": [],
   "source": []
  }
 ],
 "metadata": {
  "kernelspec": {
   "display_name": "Python 3",
   "language": "python",
   "name": "python3"
  },
  "language_info": {
   "codemirror_mode": {
    "name": "ipython",
    "version": 3
   },
   "file_extension": ".py",
   "mimetype": "text/x-python",
   "name": "python",
   "nbconvert_exporter": "python",
   "pygments_lexer": "ipython3",
   "version": "3.6.4"
  }
 },
 "nbformat": 4,
 "nbformat_minor": 2
}
