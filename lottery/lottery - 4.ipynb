{
 "cells": [
  {
   "cell_type": "code",
   "execution_count": 1,
   "metadata": {},
   "outputs": [],
   "source": [
    "from tkinter import *\n",
    "from tkinter import messagebox \n",
    "import time\n",
    "from threading import Thread\n",
    "import random\n",
    "from PIL import ImageTk,Image"
   ]
  },
  {
   "cell_type": "code",
   "execution_count": 2,
   "metadata": {},
   "outputs": [],
   "source": [
    "def get_random_num():\n",
    "    global index\n",
    "    return random.sample(index,1)"
   ]
  },
  {
   "cell_type": "code",
   "execution_count": 3,
   "metadata": {},
   "outputs": [],
   "source": [
    "def printing():\n",
    "    while 1:\n",
    "        if status=='running':\n",
    "            random_num=get_random_num()\n",
    "            label_2.config(text=random_num)\n",
    "            time.sleep(0.05)\n",
    "        else:\n",
    "            break"
   ]
  },
  {
   "cell_type": "code",
   "execution_count": 4,
   "metadata": {},
   "outputs": [],
   "source": [
    "def add_result():\n",
    "    if label_3rd_1['text']=='    ':\n",
    "        label_3rd_1.config(text=label_2['text'])\n",
    "    elif label_3rd_2['text']=='    ':\n",
    "        label_3rd_2.config(text=label_2['text'])\n",
    "    elif label_3rd_3['text']=='    ':\n",
    "        label_3rd_3.config(text=label_2['text'])\n",
    "    elif label_2nd_1['text']=='    ':\n",
    "        label_2nd_1.config(text=label_2['text'])\n",
    "    elif label_2nd_2['text']=='    ':\n",
    "        label_2nd_2.config(text=label_2['text'])\n",
    "    elif label_1st_1['text']=='    ':\n",
    "        label_1st_1.config(text=label_2['text'])\n",
    "    else:\n",
    "        return"
   ]
  },
  {
   "cell_type": "code",
   "execution_count": 5,
   "metadata": {},
   "outputs": [],
   "source": [
    "def stop():\n",
    "    global status\n",
    "#     global index\n",
    "    if status=='running':\n",
    "        status='waiting'\n",
    "        print(label_2['text'])\n",
    "        index.remove(label_2['text'])\n",
    "        add_result()\n",
    "    else:\n",
    "        return"
   ]
  },
  {
   "cell_type": "code",
   "execution_count": 6,
   "metadata": {},
   "outputs": [],
   "source": [
    "def start():\n",
    "    global status\n",
    "    if status=='waiting':\n",
    "        status='running'\n",
    "#         global B_start\n",
    "        T_running=Thread(target=printing)\n",
    "        T_running.start()\n",
    "    else:\n",
    "        return"
   ]
  },
  {
   "cell_type": "code",
   "execution_count": 76,
   "metadata": {},
   "outputs": [],
   "source": [
    "def main():\n",
    "    global index\n",
    "    global status\n",
    "    global B_start\n",
    "    global label_2\n",
    "    global label_3rd_1\n",
    "    global label_3rd_2\n",
    "    global label_3rd_3\n",
    "    global label_2nd_1\n",
    "    global label_2nd_2\n",
    "    global label_1st_1\n",
    "\n",
    "    status='waiting'\n",
    "    index=list([str(i).zfill(2) for i in range(1,16)])\n",
    "    bg_main=\"#ff0000\"\n",
    "    bg_lottery=\"#ffff00\"\n",
    "    bg_btn=\"#00ff00\"\n",
    "    font_sub=('Comic Sans MS', 50)\n",
    "    font_cmd='Fixdsys 40'\n",
    "    font_num=('Times New Roman', 70)\n",
    "    \n",
    "    myWindow = Tk()\n",
    "    myWindow.title(\"杜普利年会抽奖\")\n",
    "    myWindow.config(bg=bg_main)\n",
    "    image2 =Image.open(r'img_3.jpg')\n",
    "    background_image = ImageTk.PhotoImage(image2)\n",
    "    w = background_image.width()\n",
    "    h = background_image.height()\n",
    "    myWindow.geometry('%dx%d+0+0' % (w,h))\n",
    "\n",
    "    background_label = Label(myWindow, image=background_image)\n",
    "    background_label.place(x=0, y=0, relwidth=1, relheight=1)\n",
    "    \n",
    "    label_2=Label(myWindow,text='    ',font=('Times New Roman', 200),bg=\"#ffff00\")\n",
    "    label_2.place(x=38*w/100, y=14*w/100, relwidth=0.18, relheight=0.25)\n",
    "    \n",
    "    B_start = Button(myWindow, text ='抽奖',font=font_cmd,bg=bg_btn, command = start)\n",
    "    B_start.place(x=57*w/100, y=15*w/100, relwidth=0.08, relheight=0.1)\n",
    "    \n",
    "    B_stop = Button(myWindow, text ='停止',font=font_cmd, bg=bg_btn, command = stop)\n",
    "    B_stop.place(x=57*w/100, y=21*w/100, relwidth=0.08, relheight=0.1)\n",
    "    \n",
    "    label_1st_1=Label(myWindow,text='    ',font=font_num,bg=bg_lottery)\n",
    "    label_1st_1.place(x=50*w/100, y=28.5*w/100, relwidth=0.06, relheight=0.06)\n",
    "    \n",
    "    label_2nd_1=Label(myWindow,text='    ',font=font_num,bg=bg_lottery)\n",
    "    label_2nd_1.place(x=45*w/100, y=33.5*w/100, relwidth=0.06, relheight=0.06)\n",
    "    label_2nd_2=Label(myWindow,text='    ',font=font_num,bg=bg_lottery)\n",
    "    label_2nd_2.place(x=55*w/100, y=33.5*w/100, relwidth=0.06, relheight=0.06)\n",
    "    \n",
    "    label_3rd_1=Label(myWindow,text='    ',font=font_num,bg=bg_lottery)\n",
    "    label_3rd_1.place(x=40*w/100, y=38.5*w/100, relwidth=0.06, relheight=0.06)\n",
    "    label_3rd_2=Label(myWindow,text='    ',font=font_num,bg=bg_lottery)\n",
    "    label_3rd_2.place(x=50*w/100, y=38.5*w/100, relwidth=0.06, relheight=0.06)\n",
    "    label_3rd_3=Label(myWindow,text='    ',font=font_num,bg=bg_lottery)\n",
    "    label_3rd_3.place(x=60*w/100, y=38.5*w/100, relwidth=0.06, relheight=0.06)\n",
    "\n",
    "    myWindow.mainloop()"
   ]
  },
  {
   "cell_type": "code",
   "execution_count": 81,
   "metadata": {},
   "outputs": [
    {
     "name": "stdout",
     "output_type": "stream",
     "text": [
      "12\n",
      "03\n",
      "13\n",
      "07\n",
      "15\n",
      "06\n"
     ]
    }
   ],
   "source": [
    "if __name__=='__main__':\n",
    "    main()"
   ]
  },
  {
   "cell_type": "code",
   "execution_count": 16,
   "metadata": {},
   "outputs": [],
   "source": [
    "img=Image.open('img.jpg')"
   ]
  },
  {
   "cell_type": "code",
   "execution_count": 23,
   "metadata": {},
   "outputs": [],
   "source": [
    "img_out=img.resize((1920,1080))"
   ]
  },
  {
   "cell_type": "code",
   "execution_count": 24,
   "metadata": {},
   "outputs": [],
   "source": [
    "img_out.save('img_2.jpg')"
   ]
  },
  {
   "cell_type": "code",
   "execution_count": null,
   "metadata": {},
   "outputs": [],
   "source": []
  }
 ],
 "metadata": {
  "kernelspec": {
   "display_name": "Python 3",
   "language": "python",
   "name": "python3"
  },
  "language_info": {
   "codemirror_mode": {
    "name": "ipython",
    "version": 3
   },
   "file_extension": ".py",
   "mimetype": "text/x-python",
   "name": "python",
   "nbconvert_exporter": "python",
   "pygments_lexer": "ipython3",
   "version": "3.6.4"
  }
 },
 "nbformat": 4,
 "nbformat_minor": 2
}
