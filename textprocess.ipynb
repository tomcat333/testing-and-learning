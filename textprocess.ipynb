{
 "cells": [
  {
   "cell_type": "code",
   "execution_count": 1,
   "metadata": {},
   "outputs": [],
   "source": [
    "import os"
   ]
  },
  {
   "cell_type": "code",
   "execution_count": 157,
   "metadata": {},
   "outputs": [],
   "source": [
    "import re"
   ]
  },
  {
   "cell_type": "code",
   "execution_count": 240,
   "metadata": {},
   "outputs": [],
   "source": [
    "###这个函数的作用是将readline进度推到需要的起始字符串那一行，返回该行内容并停止，再次readline将读入需要的起始字符串下一行\n",
    "def searcher(reader,parttern):\n",
    "    while 1:\n",
    "        line_content=reader.readline()\n",
    "        if line_content[:len(parttern)]==parttern:\n",
    "            return line_content"
   ]
  },
  {
   "cell_type": "code",
   "execution_count": 267,
   "metadata": {},
   "outputs": [],
   "source": [
    "###这个函数用来判断读取所需是否已经结束,可设定结束标志字符串\n",
    "def judge_end(line_content,parttern):\n",
    "    if line_content[:len(parttern)]==parttern:\n",
    "        return True\n",
    "    elif not line_content:\n",
    "        return True\n",
    "    else:\n",
    "        return False   "
   ]
  },
  {
   "cell_type": "code",
   "execution_count": 284,
   "metadata": {},
   "outputs": [],
   "source": [
    "###此函数用来从读出的一行中得到需要的两列数据\n",
    "def get_want(line_content,a,b):\n",
    "    content_list=re.split(r' ',line_content)\n",
    "    want1=re.match(r'.*',content_list[a]).group()\n",
    "    want2=re.match(r'.*',content_list[b]).group()\n",
    "    return want1+\" \"+want2+'\\n'"
   ]
  },
  {
   "cell_type": "code",
   "execution_count": 285,
   "metadata": {},
   "outputs": [],
   "source": [
    "###此函数要求指针已经指到所需列表的第一行前面，后面逐行读取并得到所需列表\n",
    "def get_final_list(reader,a,b):\n",
    "    final_list=[]\n",
    "    line_content=reader.readline()\n",
    "    while not judge_end(line_content,\"#C\"):\n",
    "        final_list.append(get_want(line_content,a,b))\n",
    "        line_content=reader.readline()\n",
    "    else:\n",
    "        return final_list"
   ]
  },
  {
   "cell_type": "code",
   "execution_count": 301,
   "metadata": {},
   "outputs": [],
   "source": [
    "def get_file(file_source,file_out,n,a=0,b=8):\n",
    "    f_reader=open(file_source,\"r\")\n",
    "    file_writer=open(file_out,\"w\")\n",
    "    searcher(f_reader,\"#S \"+str(n))\n",
    "    searcher(f_reader,\"#L\")\n",
    "    \n",
    "    final_list=get_final_list(f_reader,a,b)\n",
    "    file_writer.writelines(final_list)\n",
    "    \n",
    "    f_reader.close()\n",
    "    file_writer.close()\n",
    "    return"
   ]
  },
  {
   "cell_type": "code",
   "execution_count": 326,
   "metadata": {},
   "outputs": [],
   "source": [
    "def main():\n",
    "    import argparse\n",
    "    parser=argparse.ArgumentParser()\n",
    "    parser.add_argument(\"file_source\",type=str,help=\"please input the source file\")\n",
    "    parser.add_argument(\"file_out\",type=str,help=\"please input the file name you want to writeout\")\n",
    "    parser.add_argument(\"-n\",type=int,help=\"please input the scan number\")\n",
    "    parser.add_argument(\"-a\",type=int,default=0,help=\"please input the column index\")\n",
    "    parser.add_argument(\"-b\",type=int,default=8,help=\"please input the column index\")\n",
    "    args=parser.parse_args()\n",
    "    \n",
    "    if (args.text!=3):\n",
    "        get_file(args.file_source,args.file_out,args.n,args.a,args.b)"
   ]
  },
  {
   "cell_type": "code",
   "execution_count": 327,
   "metadata": {},
   "outputs": [
    {
     "name": "stderr",
     "output_type": "stream",
     "text": [
      "usage: ipykernel_launcher.py [-h] [-n N] [-a A] [-b B] file_source file_out\n",
      "ipykernel_launcher.py: error: the following arguments are required: file_out\n"
     ]
    },
    {
     "ename": "SystemExit",
     "evalue": "2",
     "output_type": "error",
     "traceback": [
      "An exception has occurred, use %tb to see the full traceback.\n",
      "\u001b[1;31mSystemExit\u001b[0m\u001b[1;31m:\u001b[0m 2\n"
     ]
    },
    {
     "name": "stderr",
     "output_type": "stream",
     "text": [
      "c:\\users\\dell\\appdata\\local\\programs\\python\\python36\\lib\\site-packages\\IPython\\core\\interactiveshell.py:2918: UserWarning: To exit: use 'exit', 'quit', or Ctrl-D.\n",
      "  warn(\"To exit: use 'exit', 'quit', or Ctrl-D.\", stacklevel=1)\n"
     ]
    }
   ],
   "source": [
    "if __name__=='__main__':\n",
    "    main()"
   ]
  },
  {
   "cell_type": "code",
   "execution_count": null,
   "metadata": {},
   "outputs": [],
   "source": []
  }
 ],
 "metadata": {
  "kernelspec": {
   "display_name": "Python 3",
   "language": "python",
   "name": "python3"
  },
  "language_info": {
   "codemirror_mode": {
    "name": "ipython",
    "version": 3
   },
   "file_extension": ".py",
   "mimetype": "text/x-python",
   "name": "python",
   "nbconvert_exporter": "python",
   "pygments_lexer": "ipython3",
   "version": "3.6.4"
  }
 },
 "nbformat": 4,
 "nbformat_minor": 2
}
