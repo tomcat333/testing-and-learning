{
 "cells": [
  {
   "cell_type": "code",
   "execution_count": 5,
   "metadata": {},
   "outputs": [],
   "source": [
    "import re"
   ]
  },
  {
   "cell_type": "code",
   "execution_count": 6,
   "metadata": {},
   "outputs": [],
   "source": [
    "from bs4 import BeautifulSoup"
   ]
  },
  {
   "cell_type": "code",
   "execution_count": 7,
   "metadata": {},
   "outputs": [],
   "source": [
    "from urllib.request import urlopen"
   ]
  },
  {
   "cell_type": "code",
   "execution_count": 122,
   "metadata": {},
   "outputs": [],
   "source": [
    "import os"
   ]
  },
  {
   "cell_type": "code",
   "execution_count": 8,
   "metadata": {},
   "outputs": [],
   "source": [
    "def get_soup(url):\n",
    "    html=urlopen(url).read().decode('utf-8')\n",
    "    soup=BeautifulSoup(html,features='html5')\n",
    "    return soup"
   ]
  },
  {
   "cell_type": "code",
   "execution_count": 95,
   "metadata": {},
   "outputs": [],
   "source": [
    "def get_title_and_url(soup):\n",
    "    a=soup.find_all('a',href=re.compile(r'/st_l.en/st_did.d'))          #####找到对应标签\n",
    "    l_title2=[i.text for i in a]                        ###提取标题\n",
    "    l_url2=[i.attrs['href'] for i in a]                   #####提取地址\n",
    "    l_url3=['http://je51.com'+i for i in l_url2]          ###地址拼接，得到完整地址\n",
    "    return l_url3,l_title2"
   ]
  },
  {
   "cell_type": "code",
   "execution_count": 94,
   "metadata": {},
   "outputs": [],
   "source": [
    "def get_article(soup):\n",
    "    a=soup.find('div',id=\"story-text\")             #####提取文本\n",
    "    return a.text"
   ]
  },
  {
   "cell_type": "code",
   "execution_count": 123,
   "metadata": {},
   "outputs": [
    {
     "name": "stdout",
     "output_type": "stream",
     "text": [
      "第115章出了点问题，正在重试。。。\n",
      "第121章出了点问题，正在重试。。。\n",
      "第59章出了点问题，正在重试。。。\n"
     ]
    },
    {
     "ename": "OSError",
     "evalue": "[Errno 22] Invalid argument: 'downloaded\\\\本人精选珍藏\\\\正文 巨轮 (1-30)全书完>(1).txt'",
     "output_type": "error",
     "traceback": [
      "\u001b[1;31m---------------------------------------------------------------------------\u001b[0m",
      "\u001b[1;31mOSError\u001b[0m                                   Traceback (most recent call last)",
      "\u001b[1;32m<ipython-input-123-9f414b738200>\u001b[0m in \u001b[0;36m<module>\u001b[1;34m()\u001b[0m\n\u001b[0;32m     15\u001b[0m                 \u001b[1;32mbreak\u001b[0m\u001b[1;33m\u001b[0m\u001b[0m\n\u001b[0;32m     16\u001b[0m         \u001b[0marticle\u001b[0m\u001b[1;33m=\u001b[0m\u001b[0mget_article\u001b[0m\u001b[1;33m(\u001b[0m\u001b[0msoup_2\u001b[0m\u001b[1;33m)\u001b[0m\u001b[1;33m\u001b[0m\u001b[0m\n\u001b[1;32m---> 17\u001b[1;33m         \u001b[1;32mwith\u001b[0m \u001b[0mopen\u001b[0m\u001b[1;33m(\u001b[0m\u001b[1;34m'downloaded\\\\'\u001b[0m\u001b[1;33m+\u001b[0m\u001b[0mtitle_all\u001b[0m\u001b[1;33m[\u001b[0m\u001b[0mj\u001b[0m\u001b[1;33m]\u001b[0m\u001b[1;33m+\u001b[0m\u001b[1;34m'\\\\'\u001b[0m\u001b[1;33m+\u001b[0m\u001b[0mtitle_2\u001b[0m\u001b[1;33m[\u001b[0m\u001b[0mi\u001b[0m\u001b[1;33m]\u001b[0m\u001b[1;33m+\u001b[0m\u001b[1;34m'.txt'\u001b[0m\u001b[1;33m,\u001b[0m\u001b[1;34m'w'\u001b[0m\u001b[1;33m,\u001b[0m\u001b[0mencoding\u001b[0m\u001b[1;33m=\u001b[0m\u001b[1;34m'utf8'\u001b[0m\u001b[1;33m)\u001b[0m \u001b[1;32mas\u001b[0m \u001b[0mf\u001b[0m\u001b[1;33m:\u001b[0m\u001b[1;33m\u001b[0m\u001b[0m\n\u001b[0m\u001b[0;32m     18\u001b[0m             \u001b[0mf\u001b[0m\u001b[1;33m.\u001b[0m\u001b[0mwrite\u001b[0m\u001b[1;33m(\u001b[0m\u001b[0marticle\u001b[0m\u001b[1;33m)\u001b[0m\u001b[1;33m\u001b[0m\u001b[0m\n\u001b[0;32m     19\u001b[0m         \u001b[0mi\u001b[0m\u001b[1;33m+=\u001b[0m\u001b[1;36m1\u001b[0m\u001b[1;33m\u001b[0m\u001b[0m\n",
      "\u001b[1;31mOSError\u001b[0m: [Errno 22] Invalid argument: 'downloaded\\\\本人精选珍藏\\\\正文 巨轮 (1-30)全书完>(1).txt'"
     ]
    }
   ],
   "source": [
    "j=0\n",
    "for url_1 in url_all:                    #l_url_com为最初得到的总文章网址根列表    \n",
    "    soup_1=get_soup(url_1)                 #url_0为文章章节页面\n",
    "    url_2,title_2=get_title_and_url(soup_1)          #获得每小节的题目和url\n",
    "    i=0\n",
    "    os.mkdir('downloaded\\\\'+title_all[j])\n",
    "    for url_3 in url_2:\n",
    "        while 1:\n",
    "            try:\n",
    "                soup_2=get_soup(url_3)\n",
    "            except BaseException:\n",
    "                print('第%d章出了点问题，正在重试。。。'% i)\n",
    "                continue\n",
    "            else:\n",
    "                break\n",
    "        article=get_article(soup_2)\n",
    "        with open('downloaded\\\\'+title_all[j]+'\\\\'+title_2[i]+'.txt','w',encoding='utf8') as f:\n",
    "            f.write(article)\n",
    "        i+=1\n",
    "    j+=1"
   ]
  },
  {
   "cell_type": "code",
   "execution_count": null,
   "metadata": {},
   "outputs": [],
   "source": []
  }
 ],
 "metadata": {
  "kernelspec": {
   "display_name": "Python 3",
   "language": "python",
   "name": "python3"
  },
  "language_info": {
   "codemirror_mode": {
    "name": "ipython",
    "version": 3
   },
   "file_extension": ".py",
   "mimetype": "text/x-python",
   "name": "python",
   "nbconvert_exporter": "python",
   "pygments_lexer": "ipython3",
   "version": "3.5.4"
  }
 },
 "nbformat": 4,
 "nbformat_minor": 2
}
