{
 "cells": [
  {
   "cell_type": "code",
   "execution_count": 1,
   "metadata": {},
   "outputs": [],
   "source": [
    "from twilio.rest import Client "
   ]
  },
  {
   "cell_type": "code",
   "execution_count": 5,
   "metadata": {},
   "outputs": [],
   "source": [
    "accountSID='ACbe5f245146db519369ba613600d0780f'\n",
    "authToken='4c907f385496d355a683237cca7f0851'\n",
    "myNumber='+8613918506993'\n",
    "twilioNumber='+15672805878'\n",
    "#twilioNumber='+19376000286'   变了，用不了了"
   ]
  },
  {
   "cell_type": "code",
   "execution_count": 6,
   "metadata": {},
   "outputs": [],
   "source": [
    "def textmyself(message):  \n",
    "    client = Client(accountSID, authToken)  \n",
    "    client.messages.create(to=myNumber,from_=twilioNumber,body=message) "
   ]
  },
  {
   "cell_type": "code",
   "execution_count": 7,
   "metadata": {},
   "outputs": [],
   "source": [
    "textmyself(\"每天进步不止一点点\")"
   ]
  },
  {
   "cell_type": "code",
   "execution_count": null,
   "metadata": {},
   "outputs": [],
   "source": [
    "'''\n",
    "We've\n",
    "verified 139 1850 6993\n",
    "As a last resort, you can use this emergency code to access the account:\n",
    "\n",
    "t40KuT7HuCyEmR6lv3vMdZK+JHZiw6FVzD5Ibxol\n",
    "'''"
   ]
  }
 ],
 "metadata": {
  "kernelspec": {
   "display_name": "Python 3",
   "language": "python",
   "name": "python3"
  },
  "language_info": {
   "codemirror_mode": {
    "name": "ipython",
    "version": 3
   },
   "file_extension": ".py",
   "mimetype": "text/x-python",
   "name": "python",
   "nbconvert_exporter": "python",
   "pygments_lexer": "ipython3",
   "version": "3.6.4"
  }
 },
 "nbformat": 4,
 "nbformat_minor": 2
}
